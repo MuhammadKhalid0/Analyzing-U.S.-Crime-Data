{
  "nbformat": 4,
  "nbformat_minor": 0,
  "metadata": {
    "colab": {
      "provenance": []
    },
    "kernelspec": {
      "name": "python3",
      "display_name": "Python 3"
    },
    "language_info": {
      "name": "python"
    }
  },
  "cells": [
    {
      "cell_type": "markdown",
      "source": [
        "#Part 3"
      ],
      "metadata": {
        "id": "x2jR9bKo6Bgk"
      }
    },
    {
      "cell_type": "markdown",
      "source": [
        "#Victimization Dataset\n",
        "\n",
        "Loading and Exploring Dataset"
      ],
      "metadata": {
        "id": "8KNmm0H56MZj"
      }
    },
    {
      "cell_type": "code",
      "execution_count": 3,
      "metadata": {
        "id": "6iKYc7ho5-gS"
      },
      "outputs": [],
      "source": [
        "import requests\n",
        "import pandas as pd\n",
        "import matplotlib.pyplot as plt"
      ]
    },
    {
      "cell_type": "code",
      "source": [
        "# the victmization data set --> the people who faced crimes\n",
        "URL= 'https://data.ojp.usdoj.gov/resource/gcuy-rt5g.csv?$limit=10000000'\n",
        "r=requests.get(URL)\n",
        "with open('Victimization.csv',mode='w') as fhand:\n",
        "    fhand.write(r.text)\n",
        "df_vict = pd.read_csv('Victimization.csv')"
      ],
      "metadata": {
        "id": "ZRYMSSWJ6Q3u"
      },
      "execution_count": 4,
      "outputs": []
    },
    {
      "cell_type": "code",
      "source": [
        "df_vict.head()"
      ],
      "metadata": {
        "colab": {
          "base_uri": "https://localhost:8080/",
          "height": 299
        },
        "id": "y88QGt8E6TFZ",
        "outputId": "ec37c3a4-1a2e-43c4-a157-7b6867a0f262"
      },
      "execution_count": 5,
      "outputs": [
        {
          "output_type": "execute_result",
          "data": {
            "text/plain": [
              "                         idper   yearq  year  ager  sex  hispanic  race  \\\n",
              "0  210176836193319999999923301  2004.1  2004     2    2         2     2   \n",
              "1  254207015147069329204211203  2009.1  2009     1    1         2     1   \n",
              "2  210313595043196799999912102  2004.1  2004     4    1         2     1   \n",
              "3  252018211553075329282015501  2011.4  2011     3    1         1     1   \n",
              "4  210376205057919299999921201  2004.1  2004     2    1         2     1   \n",
              "\n",
              "   race_ethnicity  hincome1  hincome2  ...  weapcat  injury  serious  \\\n",
              "0               2         1        -1  ...        0       0        1   \n",
              "1               1         7        -1  ...        2       0        1   \n",
              "2               1         5        -1  ...        0       0        1   \n",
              "3               6         5        -1  ...        0       0        1   \n",
              "4               1         6        -1  ...        0       1        3   \n",
              "\n",
              "   treatment  offenderage  offendersex  offtracenew    wgtviccy  series  \\\n",
              "0          0            3            1           -1  1952.97373       1   \n",
              "1          0            5            1           -1  5570.68773       1   \n",
              "2          0            4            1           -1  3366.95748       1   \n",
              "3          0           88            1           -1  6991.56061       1   \n",
              "4          1            3            3           -1  2834.64905       1   \n",
              "\n",
              "       newwgt  \n",
              "0  1952.97373  \n",
              "1  5570.68773  \n",
              "2  3366.95748  \n",
              "3  6991.56061  \n",
              "4  2834.64905  \n",
              "\n",
              "[5 rows x 37 columns]"
            ],
            "text/html": [
              "\n",
              "  <div id=\"df-20f6e6c1-aa15-4394-83b9-2ba3a5a1ada0\">\n",
              "    <div class=\"colab-df-container\">\n",
              "      <div>\n",
              "<style scoped>\n",
              "    .dataframe tbody tr th:only-of-type {\n",
              "        vertical-align: middle;\n",
              "    }\n",
              "\n",
              "    .dataframe tbody tr th {\n",
              "        vertical-align: top;\n",
              "    }\n",
              "\n",
              "    .dataframe thead th {\n",
              "        text-align: right;\n",
              "    }\n",
              "</style>\n",
              "<table border=\"1\" class=\"dataframe\">\n",
              "  <thead>\n",
              "    <tr style=\"text-align: right;\">\n",
              "      <th></th>\n",
              "      <th>idper</th>\n",
              "      <th>yearq</th>\n",
              "      <th>year</th>\n",
              "      <th>ager</th>\n",
              "      <th>sex</th>\n",
              "      <th>hispanic</th>\n",
              "      <th>race</th>\n",
              "      <th>race_ethnicity</th>\n",
              "      <th>hincome1</th>\n",
              "      <th>hincome2</th>\n",
              "      <th>...</th>\n",
              "      <th>weapcat</th>\n",
              "      <th>injury</th>\n",
              "      <th>serious</th>\n",
              "      <th>treatment</th>\n",
              "      <th>offenderage</th>\n",
              "      <th>offendersex</th>\n",
              "      <th>offtracenew</th>\n",
              "      <th>wgtviccy</th>\n",
              "      <th>series</th>\n",
              "      <th>newwgt</th>\n",
              "    </tr>\n",
              "  </thead>\n",
              "  <tbody>\n",
              "    <tr>\n",
              "      <th>0</th>\n",
              "      <td>210176836193319999999923301</td>\n",
              "      <td>2004.1</td>\n",
              "      <td>2004</td>\n",
              "      <td>2</td>\n",
              "      <td>2</td>\n",
              "      <td>2</td>\n",
              "      <td>2</td>\n",
              "      <td>2</td>\n",
              "      <td>1</td>\n",
              "      <td>-1</td>\n",
              "      <td>...</td>\n",
              "      <td>0</td>\n",
              "      <td>0</td>\n",
              "      <td>1</td>\n",
              "      <td>0</td>\n",
              "      <td>3</td>\n",
              "      <td>1</td>\n",
              "      <td>-1</td>\n",
              "      <td>1952.97373</td>\n",
              "      <td>1</td>\n",
              "      <td>1952.97373</td>\n",
              "    </tr>\n",
              "    <tr>\n",
              "      <th>1</th>\n",
              "      <td>254207015147069329204211203</td>\n",
              "      <td>2009.1</td>\n",
              "      <td>2009</td>\n",
              "      <td>1</td>\n",
              "      <td>1</td>\n",
              "      <td>2</td>\n",
              "      <td>1</td>\n",
              "      <td>1</td>\n",
              "      <td>7</td>\n",
              "      <td>-1</td>\n",
              "      <td>...</td>\n",
              "      <td>2</td>\n",
              "      <td>0</td>\n",
              "      <td>1</td>\n",
              "      <td>0</td>\n",
              "      <td>5</td>\n",
              "      <td>1</td>\n",
              "      <td>-1</td>\n",
              "      <td>5570.68773</td>\n",
              "      <td>1</td>\n",
              "      <td>5570.68773</td>\n",
              "    </tr>\n",
              "    <tr>\n",
              "      <th>2</th>\n",
              "      <td>210313595043196799999912102</td>\n",
              "      <td>2004.1</td>\n",
              "      <td>2004</td>\n",
              "      <td>4</td>\n",
              "      <td>1</td>\n",
              "      <td>2</td>\n",
              "      <td>1</td>\n",
              "      <td>1</td>\n",
              "      <td>5</td>\n",
              "      <td>-1</td>\n",
              "      <td>...</td>\n",
              "      <td>0</td>\n",
              "      <td>0</td>\n",
              "      <td>1</td>\n",
              "      <td>0</td>\n",
              "      <td>4</td>\n",
              "      <td>1</td>\n",
              "      <td>-1</td>\n",
              "      <td>3366.95748</td>\n",
              "      <td>1</td>\n",
              "      <td>3366.95748</td>\n",
              "    </tr>\n",
              "    <tr>\n",
              "      <th>3</th>\n",
              "      <td>252018211553075329282015501</td>\n",
              "      <td>2011.4</td>\n",
              "      <td>2011</td>\n",
              "      <td>3</td>\n",
              "      <td>1</td>\n",
              "      <td>1</td>\n",
              "      <td>1</td>\n",
              "      <td>6</td>\n",
              "      <td>5</td>\n",
              "      <td>-1</td>\n",
              "      <td>...</td>\n",
              "      <td>0</td>\n",
              "      <td>0</td>\n",
              "      <td>1</td>\n",
              "      <td>0</td>\n",
              "      <td>88</td>\n",
              "      <td>1</td>\n",
              "      <td>-1</td>\n",
              "      <td>6991.56061</td>\n",
              "      <td>1</td>\n",
              "      <td>6991.56061</td>\n",
              "    </tr>\n",
              "    <tr>\n",
              "      <th>4</th>\n",
              "      <td>210376205057919299999921201</td>\n",
              "      <td>2004.1</td>\n",
              "      <td>2004</td>\n",
              "      <td>2</td>\n",
              "      <td>1</td>\n",
              "      <td>2</td>\n",
              "      <td>1</td>\n",
              "      <td>1</td>\n",
              "      <td>6</td>\n",
              "      <td>-1</td>\n",
              "      <td>...</td>\n",
              "      <td>0</td>\n",
              "      <td>1</td>\n",
              "      <td>3</td>\n",
              "      <td>1</td>\n",
              "      <td>3</td>\n",
              "      <td>3</td>\n",
              "      <td>-1</td>\n",
              "      <td>2834.64905</td>\n",
              "      <td>1</td>\n",
              "      <td>2834.64905</td>\n",
              "    </tr>\n",
              "  </tbody>\n",
              "</table>\n",
              "<p>5 rows × 37 columns</p>\n",
              "</div>\n",
              "      <button class=\"colab-df-convert\" onclick=\"convertToInteractive('df-20f6e6c1-aa15-4394-83b9-2ba3a5a1ada0')\"\n",
              "              title=\"Convert this dataframe to an interactive table.\"\n",
              "              style=\"display:none;\">\n",
              "        \n",
              "  <svg xmlns=\"http://www.w3.org/2000/svg\" height=\"24px\"viewBox=\"0 0 24 24\"\n",
              "       width=\"24px\">\n",
              "    <path d=\"M0 0h24v24H0V0z\" fill=\"none\"/>\n",
              "    <path d=\"M18.56 5.44l.94 2.06.94-2.06 2.06-.94-2.06-.94-.94-2.06-.94 2.06-2.06.94zm-11 1L8.5 8.5l.94-2.06 2.06-.94-2.06-.94L8.5 2.5l-.94 2.06-2.06.94zm10 10l.94 2.06.94-2.06 2.06-.94-2.06-.94-.94-2.06-.94 2.06-2.06.94z\"/><path d=\"M17.41 7.96l-1.37-1.37c-.4-.4-.92-.59-1.43-.59-.52 0-1.04.2-1.43.59L10.3 9.45l-7.72 7.72c-.78.78-.78 2.05 0 2.83L4 21.41c.39.39.9.59 1.41.59.51 0 1.02-.2 1.41-.59l7.78-7.78 2.81-2.81c.8-.78.8-2.07 0-2.86zM5.41 20L4 18.59l7.72-7.72 1.47 1.35L5.41 20z\"/>\n",
              "  </svg>\n",
              "      </button>\n",
              "      \n",
              "  <style>\n",
              "    .colab-df-container {\n",
              "      display:flex;\n",
              "      flex-wrap:wrap;\n",
              "      gap: 12px;\n",
              "    }\n",
              "\n",
              "    .colab-df-convert {\n",
              "      background-color: #E8F0FE;\n",
              "      border: none;\n",
              "      border-radius: 50%;\n",
              "      cursor: pointer;\n",
              "      display: none;\n",
              "      fill: #1967D2;\n",
              "      height: 32px;\n",
              "      padding: 0 0 0 0;\n",
              "      width: 32px;\n",
              "    }\n",
              "\n",
              "    .colab-df-convert:hover {\n",
              "      background-color: #E2EBFA;\n",
              "      box-shadow: 0px 1px 2px rgba(60, 64, 67, 0.3), 0px 1px 3px 1px rgba(60, 64, 67, 0.15);\n",
              "      fill: #174EA6;\n",
              "    }\n",
              "\n",
              "    [theme=dark] .colab-df-convert {\n",
              "      background-color: #3B4455;\n",
              "      fill: #D2E3FC;\n",
              "    }\n",
              "\n",
              "    [theme=dark] .colab-df-convert:hover {\n",
              "      background-color: #434B5C;\n",
              "      box-shadow: 0px 1px 3px 1px rgba(0, 0, 0, 0.15);\n",
              "      filter: drop-shadow(0px 1px 2px rgba(0, 0, 0, 0.3));\n",
              "      fill: #FFFFFF;\n",
              "    }\n",
              "  </style>\n",
              "\n",
              "      <script>\n",
              "        const buttonEl =\n",
              "          document.querySelector('#df-20f6e6c1-aa15-4394-83b9-2ba3a5a1ada0 button.colab-df-convert');\n",
              "        buttonEl.style.display =\n",
              "          google.colab.kernel.accessAllowed ? 'block' : 'none';\n",
              "\n",
              "        async function convertToInteractive(key) {\n",
              "          const element = document.querySelector('#df-20f6e6c1-aa15-4394-83b9-2ba3a5a1ada0');\n",
              "          const dataTable =\n",
              "            await google.colab.kernel.invokeFunction('convertToInteractive',\n",
              "                                                     [key], {});\n",
              "          if (!dataTable) return;\n",
              "\n",
              "          const docLinkHtml = 'Like what you see? Visit the ' +\n",
              "            '<a target=\"_blank\" href=https://colab.research.google.com/notebooks/data_table.ipynb>data table notebook</a>'\n",
              "            + ' to learn more about interactive tables.';\n",
              "          element.innerHTML = '';\n",
              "          dataTable['output_type'] = 'display_data';\n",
              "          await google.colab.output.renderOutput(dataTable, element);\n",
              "          const docLink = document.createElement('div');\n",
              "          docLink.innerHTML = docLinkHtml;\n",
              "          element.appendChild(docLink);\n",
              "        }\n",
              "      </script>\n",
              "    </div>\n",
              "  </div>\n",
              "  "
            ]
          },
          "metadata": {},
          "execution_count": 5
        }
      ]
    },
    {
      "cell_type": "code",
      "source": [
        "df_vict.tail()"
      ],
      "metadata": {
        "colab": {
          "base_uri": "https://localhost:8080/",
          "height": 299
        },
        "id": "lJnlSj2h6WzC",
        "outputId": "ed4637b3-5b62-4aa5-8197-af2197aacac3"
      },
      "execution_count": 6,
      "outputs": [
        {
          "output_type": "execute_result",
          "data": {
            "text/plain": [
              "                             idper   yearq  year  ager  sex  hispanic  race  \\\n",
              "63460  175644020856124356443623301  2021.3  2021     2    2         2     1   \n",
              "63461  183682680382578456365612501  2021.3  2021     4    2         2     1   \n",
              "63462  204444199256608656440816204  2021.4  2021     1    1         2     1   \n",
              "63463  190149418435658458825913602  2021.3  2021     2    1         2     1   \n",
              "63464  190136353341087156593813701  2021.3  2021     4    1         1     1   \n",
              "\n",
              "       race_ethnicity  hincome1  hincome2  ...  weapcat  injury  serious  \\\n",
              "63460               1         7         3  ...        0       0        1   \n",
              "63461               1         7         5  ...        0       0        1   \n",
              "63462               1         7         3  ...        0       1        3   \n",
              "63463               1         6         3  ...        1       0        1   \n",
              "63464               6         7         3  ...        1       1        3   \n",
              "\n",
              "       treatment  offenderage  offendersex  offtracenew     wgtviccy  series  \\\n",
              "63460          0            4            1            1  1255.609375       1   \n",
              "63461          0            3            1            2   842.529114       1   \n",
              "63462          1            1            1            7  1029.867432       1   \n",
              "63463          0            2            1            1  5833.862305       1   \n",
              "63464          1            5            3            1  2835.449463       1   \n",
              "\n",
              "            newwgt  \n",
              "63460  1255.609375  \n",
              "63461   842.529114  \n",
              "63462  1029.867432  \n",
              "63463  5833.862305  \n",
              "63464  2835.449463  \n",
              "\n",
              "[5 rows x 37 columns]"
            ],
            "text/html": [
              "\n",
              "  <div id=\"df-45f4bf86-dd81-4b3b-8201-1e245e5401af\">\n",
              "    <div class=\"colab-df-container\">\n",
              "      <div>\n",
              "<style scoped>\n",
              "    .dataframe tbody tr th:only-of-type {\n",
              "        vertical-align: middle;\n",
              "    }\n",
              "\n",
              "    .dataframe tbody tr th {\n",
              "        vertical-align: top;\n",
              "    }\n",
              "\n",
              "    .dataframe thead th {\n",
              "        text-align: right;\n",
              "    }\n",
              "</style>\n",
              "<table border=\"1\" class=\"dataframe\">\n",
              "  <thead>\n",
              "    <tr style=\"text-align: right;\">\n",
              "      <th></th>\n",
              "      <th>idper</th>\n",
              "      <th>yearq</th>\n",
              "      <th>year</th>\n",
              "      <th>ager</th>\n",
              "      <th>sex</th>\n",
              "      <th>hispanic</th>\n",
              "      <th>race</th>\n",
              "      <th>race_ethnicity</th>\n",
              "      <th>hincome1</th>\n",
              "      <th>hincome2</th>\n",
              "      <th>...</th>\n",
              "      <th>weapcat</th>\n",
              "      <th>injury</th>\n",
              "      <th>serious</th>\n",
              "      <th>treatment</th>\n",
              "      <th>offenderage</th>\n",
              "      <th>offendersex</th>\n",
              "      <th>offtracenew</th>\n",
              "      <th>wgtviccy</th>\n",
              "      <th>series</th>\n",
              "      <th>newwgt</th>\n",
              "    </tr>\n",
              "  </thead>\n",
              "  <tbody>\n",
              "    <tr>\n",
              "      <th>63460</th>\n",
              "      <td>175644020856124356443623301</td>\n",
              "      <td>2021.3</td>\n",
              "      <td>2021</td>\n",
              "      <td>2</td>\n",
              "      <td>2</td>\n",
              "      <td>2</td>\n",
              "      <td>1</td>\n",
              "      <td>1</td>\n",
              "      <td>7</td>\n",
              "      <td>3</td>\n",
              "      <td>...</td>\n",
              "      <td>0</td>\n",
              "      <td>0</td>\n",
              "      <td>1</td>\n",
              "      <td>0</td>\n",
              "      <td>4</td>\n",
              "      <td>1</td>\n",
              "      <td>1</td>\n",
              "      <td>1255.609375</td>\n",
              "      <td>1</td>\n",
              "      <td>1255.609375</td>\n",
              "    </tr>\n",
              "    <tr>\n",
              "      <th>63461</th>\n",
              "      <td>183682680382578456365612501</td>\n",
              "      <td>2021.3</td>\n",
              "      <td>2021</td>\n",
              "      <td>4</td>\n",
              "      <td>2</td>\n",
              "      <td>2</td>\n",
              "      <td>1</td>\n",
              "      <td>1</td>\n",
              "      <td>7</td>\n",
              "      <td>5</td>\n",
              "      <td>...</td>\n",
              "      <td>0</td>\n",
              "      <td>0</td>\n",
              "      <td>1</td>\n",
              "      <td>0</td>\n",
              "      <td>3</td>\n",
              "      <td>1</td>\n",
              "      <td>2</td>\n",
              "      <td>842.529114</td>\n",
              "      <td>1</td>\n",
              "      <td>842.529114</td>\n",
              "    </tr>\n",
              "    <tr>\n",
              "      <th>63462</th>\n",
              "      <td>204444199256608656440816204</td>\n",
              "      <td>2021.4</td>\n",
              "      <td>2021</td>\n",
              "      <td>1</td>\n",
              "      <td>1</td>\n",
              "      <td>2</td>\n",
              "      <td>1</td>\n",
              "      <td>1</td>\n",
              "      <td>7</td>\n",
              "      <td>3</td>\n",
              "      <td>...</td>\n",
              "      <td>0</td>\n",
              "      <td>1</td>\n",
              "      <td>3</td>\n",
              "      <td>1</td>\n",
              "      <td>1</td>\n",
              "      <td>1</td>\n",
              "      <td>7</td>\n",
              "      <td>1029.867432</td>\n",
              "      <td>1</td>\n",
              "      <td>1029.867432</td>\n",
              "    </tr>\n",
              "    <tr>\n",
              "      <th>63463</th>\n",
              "      <td>190149418435658458825913602</td>\n",
              "      <td>2021.3</td>\n",
              "      <td>2021</td>\n",
              "      <td>2</td>\n",
              "      <td>1</td>\n",
              "      <td>2</td>\n",
              "      <td>1</td>\n",
              "      <td>1</td>\n",
              "      <td>6</td>\n",
              "      <td>3</td>\n",
              "      <td>...</td>\n",
              "      <td>1</td>\n",
              "      <td>0</td>\n",
              "      <td>1</td>\n",
              "      <td>0</td>\n",
              "      <td>2</td>\n",
              "      <td>1</td>\n",
              "      <td>1</td>\n",
              "      <td>5833.862305</td>\n",
              "      <td>1</td>\n",
              "      <td>5833.862305</td>\n",
              "    </tr>\n",
              "    <tr>\n",
              "      <th>63464</th>\n",
              "      <td>190136353341087156593813701</td>\n",
              "      <td>2021.3</td>\n",
              "      <td>2021</td>\n",
              "      <td>4</td>\n",
              "      <td>1</td>\n",
              "      <td>1</td>\n",
              "      <td>1</td>\n",
              "      <td>6</td>\n",
              "      <td>7</td>\n",
              "      <td>3</td>\n",
              "      <td>...</td>\n",
              "      <td>1</td>\n",
              "      <td>1</td>\n",
              "      <td>3</td>\n",
              "      <td>1</td>\n",
              "      <td>5</td>\n",
              "      <td>3</td>\n",
              "      <td>1</td>\n",
              "      <td>2835.449463</td>\n",
              "      <td>1</td>\n",
              "      <td>2835.449463</td>\n",
              "    </tr>\n",
              "  </tbody>\n",
              "</table>\n",
              "<p>5 rows × 37 columns</p>\n",
              "</div>\n",
              "      <button class=\"colab-df-convert\" onclick=\"convertToInteractive('df-45f4bf86-dd81-4b3b-8201-1e245e5401af')\"\n",
              "              title=\"Convert this dataframe to an interactive table.\"\n",
              "              style=\"display:none;\">\n",
              "        \n",
              "  <svg xmlns=\"http://www.w3.org/2000/svg\" height=\"24px\"viewBox=\"0 0 24 24\"\n",
              "       width=\"24px\">\n",
              "    <path d=\"M0 0h24v24H0V0z\" fill=\"none\"/>\n",
              "    <path d=\"M18.56 5.44l.94 2.06.94-2.06 2.06-.94-2.06-.94-.94-2.06-.94 2.06-2.06.94zm-11 1L8.5 8.5l.94-2.06 2.06-.94-2.06-.94L8.5 2.5l-.94 2.06-2.06.94zm10 10l.94 2.06.94-2.06 2.06-.94-2.06-.94-.94-2.06-.94 2.06-2.06.94z\"/><path d=\"M17.41 7.96l-1.37-1.37c-.4-.4-.92-.59-1.43-.59-.52 0-1.04.2-1.43.59L10.3 9.45l-7.72 7.72c-.78.78-.78 2.05 0 2.83L4 21.41c.39.39.9.59 1.41.59.51 0 1.02-.2 1.41-.59l7.78-7.78 2.81-2.81c.8-.78.8-2.07 0-2.86zM5.41 20L4 18.59l7.72-7.72 1.47 1.35L5.41 20z\"/>\n",
              "  </svg>\n",
              "      </button>\n",
              "      \n",
              "  <style>\n",
              "    .colab-df-container {\n",
              "      display:flex;\n",
              "      flex-wrap:wrap;\n",
              "      gap: 12px;\n",
              "    }\n",
              "\n",
              "    .colab-df-convert {\n",
              "      background-color: #E8F0FE;\n",
              "      border: none;\n",
              "      border-radius: 50%;\n",
              "      cursor: pointer;\n",
              "      display: none;\n",
              "      fill: #1967D2;\n",
              "      height: 32px;\n",
              "      padding: 0 0 0 0;\n",
              "      width: 32px;\n",
              "    }\n",
              "\n",
              "    .colab-df-convert:hover {\n",
              "      background-color: #E2EBFA;\n",
              "      box-shadow: 0px 1px 2px rgba(60, 64, 67, 0.3), 0px 1px 3px 1px rgba(60, 64, 67, 0.15);\n",
              "      fill: #174EA6;\n",
              "    }\n",
              "\n",
              "    [theme=dark] .colab-df-convert {\n",
              "      background-color: #3B4455;\n",
              "      fill: #D2E3FC;\n",
              "    }\n",
              "\n",
              "    [theme=dark] .colab-df-convert:hover {\n",
              "      background-color: #434B5C;\n",
              "      box-shadow: 0px 1px 3px 1px rgba(0, 0, 0, 0.15);\n",
              "      filter: drop-shadow(0px 1px 2px rgba(0, 0, 0, 0.3));\n",
              "      fill: #FFFFFF;\n",
              "    }\n",
              "  </style>\n",
              "\n",
              "      <script>\n",
              "        const buttonEl =\n",
              "          document.querySelector('#df-45f4bf86-dd81-4b3b-8201-1e245e5401af button.colab-df-convert');\n",
              "        buttonEl.style.display =\n",
              "          google.colab.kernel.accessAllowed ? 'block' : 'none';\n",
              "\n",
              "        async function convertToInteractive(key) {\n",
              "          const element = document.querySelector('#df-45f4bf86-dd81-4b3b-8201-1e245e5401af');\n",
              "          const dataTable =\n",
              "            await google.colab.kernel.invokeFunction('convertToInteractive',\n",
              "                                                     [key], {});\n",
              "          if (!dataTable) return;\n",
              "\n",
              "          const docLinkHtml = 'Like what you see? Visit the ' +\n",
              "            '<a target=\"_blank\" href=https://colab.research.google.com/notebooks/data_table.ipynb>data table notebook</a>'\n",
              "            + ' to learn more about interactive tables.';\n",
              "          element.innerHTML = '';\n",
              "          dataTable['output_type'] = 'display_data';\n",
              "          await google.colab.output.renderOutput(dataTable, element);\n",
              "          const docLink = document.createElement('div');\n",
              "          docLink.innerHTML = docLinkHtml;\n",
              "          element.appendChild(docLink);\n",
              "        }\n",
              "      </script>\n",
              "    </div>\n",
              "  </div>\n",
              "  "
            ]
          },
          "metadata": {},
          "execution_count": 6
        }
      ]
    },
    {
      "cell_type": "markdown",
      "source": [
        "##Handling Nulls & Duplicates"
      ],
      "metadata": {
        "id": "yg4q8fAl6cfy"
      }
    },
    {
      "cell_type": "code",
      "source": [
        "df_vict.isnull().sum()"
      ],
      "metadata": {
        "colab": {
          "base_uri": "https://localhost:8080/"
        },
        "id": "1CRhygHp6ZD-",
        "outputId": "0a350d68-dc1e-4c38-e54a-19adabee686f"
      },
      "execution_count": 7,
      "outputs": [
        {
          "output_type": "execute_result",
          "data": {
            "text/plain": [
              "idper             0\n",
              "yearq             0\n",
              "year              0\n",
              "ager              0\n",
              "sex               0\n",
              "hispanic          0\n",
              "race              0\n",
              "race_ethnicity    0\n",
              "hincome1          0\n",
              "hincome2          0\n",
              "marital           0\n",
              "popsize           0\n",
              "region            0\n",
              "msa               0\n",
              "locality          0\n",
              "educatn1          0\n",
              "educatn2          0\n",
              "veteran           0\n",
              "citizen           0\n",
              "newcrime          0\n",
              "newoff            0\n",
              "seriousviolent    0\n",
              "notify            0\n",
              "vicservices       0\n",
              "locationr         0\n",
              "direl             0\n",
              "weapon            0\n",
              "weapcat           0\n",
              "injury            0\n",
              "serious           0\n",
              "treatment         0\n",
              "offenderage       0\n",
              "offendersex       0\n",
              "offtracenew       0\n",
              "wgtviccy          0\n",
              "series            0\n",
              "newwgt            0\n",
              "dtype: int64"
            ]
          },
          "metadata": {},
          "execution_count": 7
        }
      ]
    },
    {
      "cell_type": "code",
      "source": [
        "df_vict.drop_duplicates()"
      ],
      "metadata": {
        "colab": {
          "base_uri": "https://localhost:8080/",
          "height": 488
        },
        "id": "Q8Xp787U6il9",
        "outputId": "c6b9520b-0f7d-441a-c308-be4c71ccee32"
      },
      "execution_count": 8,
      "outputs": [
        {
          "output_type": "execute_result",
          "data": {
            "text/plain": [
              "                             idper   yearq  year  ager  sex  hispanic  race  \\\n",
              "0      210176836193319999999923301  2004.1  2004     2    2         2     2   \n",
              "1      254207015147069329204211203  2009.1  2009     1    1         2     1   \n",
              "2      210313595043196799999912102  2004.1  2004     4    1         2     1   \n",
              "3      252018211553075329282015501  2011.4  2011     3    1         1     1   \n",
              "4      210376205057919299999921201  2004.1  2004     2    1         2     1   \n",
              "...                            ...     ...   ...   ...  ...       ...   ...   \n",
              "63460  175644020856124356443623301  2021.3  2021     2    2         2     1   \n",
              "63461  183682680382578456365612501  2021.3  2021     4    2         2     1   \n",
              "63462  204444199256608656440816204  2021.4  2021     1    1         2     1   \n",
              "63463  190149418435658458825913602  2021.3  2021     2    1         2     1   \n",
              "63464  190136353341087156593813701  2021.3  2021     4    1         1     1   \n",
              "\n",
              "       race_ethnicity  hincome1  hincome2  ...  weapcat  injury  serious  \\\n",
              "0                   2         1        -1  ...        0       0        1   \n",
              "1                   1         7        -1  ...        2       0        1   \n",
              "2                   1         5        -1  ...        0       0        1   \n",
              "3                   6         5        -1  ...        0       0        1   \n",
              "4                   1         6        -1  ...        0       1        3   \n",
              "...               ...       ...       ...  ...      ...     ...      ...   \n",
              "63460               1         7         3  ...        0       0        1   \n",
              "63461               1         7         5  ...        0       0        1   \n",
              "63462               1         7         3  ...        0       1        3   \n",
              "63463               1         6         3  ...        1       0        1   \n",
              "63464               6         7         3  ...        1       1        3   \n",
              "\n",
              "       treatment  offenderage  offendersex  offtracenew     wgtviccy  series  \\\n",
              "0              0            3            1           -1  1952.973730       1   \n",
              "1              0            5            1           -1  5570.687730       1   \n",
              "2              0            4            1           -1  3366.957480       1   \n",
              "3              0           88            1           -1  6991.560610       1   \n",
              "4              1            3            3           -1  2834.649050       1   \n",
              "...          ...          ...          ...          ...          ...     ...   \n",
              "63460          0            4            1            1  1255.609375       1   \n",
              "63461          0            3            1            2   842.529114       1   \n",
              "63462          1            1            1            7  1029.867432       1   \n",
              "63463          0            2            1            1  5833.862305       1   \n",
              "63464          1            5            3            1  2835.449463       1   \n",
              "\n",
              "            newwgt  \n",
              "0      1952.973730  \n",
              "1      5570.687730  \n",
              "2      3366.957480  \n",
              "3      6991.560610  \n",
              "4      2834.649050  \n",
              "...            ...  \n",
              "63460  1255.609375  \n",
              "63461   842.529114  \n",
              "63462  1029.867432  \n",
              "63463  5833.862305  \n",
              "63464  2835.449463  \n",
              "\n",
              "[60449 rows x 37 columns]"
            ],
            "text/html": [
              "\n",
              "  <div id=\"df-b722aa3f-1681-474b-90bd-202440edda81\">\n",
              "    <div class=\"colab-df-container\">\n",
              "      <div>\n",
              "<style scoped>\n",
              "    .dataframe tbody tr th:only-of-type {\n",
              "        vertical-align: middle;\n",
              "    }\n",
              "\n",
              "    .dataframe tbody tr th {\n",
              "        vertical-align: top;\n",
              "    }\n",
              "\n",
              "    .dataframe thead th {\n",
              "        text-align: right;\n",
              "    }\n",
              "</style>\n",
              "<table border=\"1\" class=\"dataframe\">\n",
              "  <thead>\n",
              "    <tr style=\"text-align: right;\">\n",
              "      <th></th>\n",
              "      <th>idper</th>\n",
              "      <th>yearq</th>\n",
              "      <th>year</th>\n",
              "      <th>ager</th>\n",
              "      <th>sex</th>\n",
              "      <th>hispanic</th>\n",
              "      <th>race</th>\n",
              "      <th>race_ethnicity</th>\n",
              "      <th>hincome1</th>\n",
              "      <th>hincome2</th>\n",
              "      <th>...</th>\n",
              "      <th>weapcat</th>\n",
              "      <th>injury</th>\n",
              "      <th>serious</th>\n",
              "      <th>treatment</th>\n",
              "      <th>offenderage</th>\n",
              "      <th>offendersex</th>\n",
              "      <th>offtracenew</th>\n",
              "      <th>wgtviccy</th>\n",
              "      <th>series</th>\n",
              "      <th>newwgt</th>\n",
              "    </tr>\n",
              "  </thead>\n",
              "  <tbody>\n",
              "    <tr>\n",
              "      <th>0</th>\n",
              "      <td>210176836193319999999923301</td>\n",
              "      <td>2004.1</td>\n",
              "      <td>2004</td>\n",
              "      <td>2</td>\n",
              "      <td>2</td>\n",
              "      <td>2</td>\n",
              "      <td>2</td>\n",
              "      <td>2</td>\n",
              "      <td>1</td>\n",
              "      <td>-1</td>\n",
              "      <td>...</td>\n",
              "      <td>0</td>\n",
              "      <td>0</td>\n",
              "      <td>1</td>\n",
              "      <td>0</td>\n",
              "      <td>3</td>\n",
              "      <td>1</td>\n",
              "      <td>-1</td>\n",
              "      <td>1952.973730</td>\n",
              "      <td>1</td>\n",
              "      <td>1952.973730</td>\n",
              "    </tr>\n",
              "    <tr>\n",
              "      <th>1</th>\n",
              "      <td>254207015147069329204211203</td>\n",
              "      <td>2009.1</td>\n",
              "      <td>2009</td>\n",
              "      <td>1</td>\n",
              "      <td>1</td>\n",
              "      <td>2</td>\n",
              "      <td>1</td>\n",
              "      <td>1</td>\n",
              "      <td>7</td>\n",
              "      <td>-1</td>\n",
              "      <td>...</td>\n",
              "      <td>2</td>\n",
              "      <td>0</td>\n",
              "      <td>1</td>\n",
              "      <td>0</td>\n",
              "      <td>5</td>\n",
              "      <td>1</td>\n",
              "      <td>-1</td>\n",
              "      <td>5570.687730</td>\n",
              "      <td>1</td>\n",
              "      <td>5570.687730</td>\n",
              "    </tr>\n",
              "    <tr>\n",
              "      <th>2</th>\n",
              "      <td>210313595043196799999912102</td>\n",
              "      <td>2004.1</td>\n",
              "      <td>2004</td>\n",
              "      <td>4</td>\n",
              "      <td>1</td>\n",
              "      <td>2</td>\n",
              "      <td>1</td>\n",
              "      <td>1</td>\n",
              "      <td>5</td>\n",
              "      <td>-1</td>\n",
              "      <td>...</td>\n",
              "      <td>0</td>\n",
              "      <td>0</td>\n",
              "      <td>1</td>\n",
              "      <td>0</td>\n",
              "      <td>4</td>\n",
              "      <td>1</td>\n",
              "      <td>-1</td>\n",
              "      <td>3366.957480</td>\n",
              "      <td>1</td>\n",
              "      <td>3366.957480</td>\n",
              "    </tr>\n",
              "    <tr>\n",
              "      <th>3</th>\n",
              "      <td>252018211553075329282015501</td>\n",
              "      <td>2011.4</td>\n",
              "      <td>2011</td>\n",
              "      <td>3</td>\n",
              "      <td>1</td>\n",
              "      <td>1</td>\n",
              "      <td>1</td>\n",
              "      <td>6</td>\n",
              "      <td>5</td>\n",
              "      <td>-1</td>\n",
              "      <td>...</td>\n",
              "      <td>0</td>\n",
              "      <td>0</td>\n",
              "      <td>1</td>\n",
              "      <td>0</td>\n",
              "      <td>88</td>\n",
              "      <td>1</td>\n",
              "      <td>-1</td>\n",
              "      <td>6991.560610</td>\n",
              "      <td>1</td>\n",
              "      <td>6991.560610</td>\n",
              "    </tr>\n",
              "    <tr>\n",
              "      <th>4</th>\n",
              "      <td>210376205057919299999921201</td>\n",
              "      <td>2004.1</td>\n",
              "      <td>2004</td>\n",
              "      <td>2</td>\n",
              "      <td>1</td>\n",
              "      <td>2</td>\n",
              "      <td>1</td>\n",
              "      <td>1</td>\n",
              "      <td>6</td>\n",
              "      <td>-1</td>\n",
              "      <td>...</td>\n",
              "      <td>0</td>\n",
              "      <td>1</td>\n",
              "      <td>3</td>\n",
              "      <td>1</td>\n",
              "      <td>3</td>\n",
              "      <td>3</td>\n",
              "      <td>-1</td>\n",
              "      <td>2834.649050</td>\n",
              "      <td>1</td>\n",
              "      <td>2834.649050</td>\n",
              "    </tr>\n",
              "    <tr>\n",
              "      <th>...</th>\n",
              "      <td>...</td>\n",
              "      <td>...</td>\n",
              "      <td>...</td>\n",
              "      <td>...</td>\n",
              "      <td>...</td>\n",
              "      <td>...</td>\n",
              "      <td>...</td>\n",
              "      <td>...</td>\n",
              "      <td>...</td>\n",
              "      <td>...</td>\n",
              "      <td>...</td>\n",
              "      <td>...</td>\n",
              "      <td>...</td>\n",
              "      <td>...</td>\n",
              "      <td>...</td>\n",
              "      <td>...</td>\n",
              "      <td>...</td>\n",
              "      <td>...</td>\n",
              "      <td>...</td>\n",
              "      <td>...</td>\n",
              "      <td>...</td>\n",
              "    </tr>\n",
              "    <tr>\n",
              "      <th>63460</th>\n",
              "      <td>175644020856124356443623301</td>\n",
              "      <td>2021.3</td>\n",
              "      <td>2021</td>\n",
              "      <td>2</td>\n",
              "      <td>2</td>\n",
              "      <td>2</td>\n",
              "      <td>1</td>\n",
              "      <td>1</td>\n",
              "      <td>7</td>\n",
              "      <td>3</td>\n",
              "      <td>...</td>\n",
              "      <td>0</td>\n",
              "      <td>0</td>\n",
              "      <td>1</td>\n",
              "      <td>0</td>\n",
              "      <td>4</td>\n",
              "      <td>1</td>\n",
              "      <td>1</td>\n",
              "      <td>1255.609375</td>\n",
              "      <td>1</td>\n",
              "      <td>1255.609375</td>\n",
              "    </tr>\n",
              "    <tr>\n",
              "      <th>63461</th>\n",
              "      <td>183682680382578456365612501</td>\n",
              "      <td>2021.3</td>\n",
              "      <td>2021</td>\n",
              "      <td>4</td>\n",
              "      <td>2</td>\n",
              "      <td>2</td>\n",
              "      <td>1</td>\n",
              "      <td>1</td>\n",
              "      <td>7</td>\n",
              "      <td>5</td>\n",
              "      <td>...</td>\n",
              "      <td>0</td>\n",
              "      <td>0</td>\n",
              "      <td>1</td>\n",
              "      <td>0</td>\n",
              "      <td>3</td>\n",
              "      <td>1</td>\n",
              "      <td>2</td>\n",
              "      <td>842.529114</td>\n",
              "      <td>1</td>\n",
              "      <td>842.529114</td>\n",
              "    </tr>\n",
              "    <tr>\n",
              "      <th>63462</th>\n",
              "      <td>204444199256608656440816204</td>\n",
              "      <td>2021.4</td>\n",
              "      <td>2021</td>\n",
              "      <td>1</td>\n",
              "      <td>1</td>\n",
              "      <td>2</td>\n",
              "      <td>1</td>\n",
              "      <td>1</td>\n",
              "      <td>7</td>\n",
              "      <td>3</td>\n",
              "      <td>...</td>\n",
              "      <td>0</td>\n",
              "      <td>1</td>\n",
              "      <td>3</td>\n",
              "      <td>1</td>\n",
              "      <td>1</td>\n",
              "      <td>1</td>\n",
              "      <td>7</td>\n",
              "      <td>1029.867432</td>\n",
              "      <td>1</td>\n",
              "      <td>1029.867432</td>\n",
              "    </tr>\n",
              "    <tr>\n",
              "      <th>63463</th>\n",
              "      <td>190149418435658458825913602</td>\n",
              "      <td>2021.3</td>\n",
              "      <td>2021</td>\n",
              "      <td>2</td>\n",
              "      <td>1</td>\n",
              "      <td>2</td>\n",
              "      <td>1</td>\n",
              "      <td>1</td>\n",
              "      <td>6</td>\n",
              "      <td>3</td>\n",
              "      <td>...</td>\n",
              "      <td>1</td>\n",
              "      <td>0</td>\n",
              "      <td>1</td>\n",
              "      <td>0</td>\n",
              "      <td>2</td>\n",
              "      <td>1</td>\n",
              "      <td>1</td>\n",
              "      <td>5833.862305</td>\n",
              "      <td>1</td>\n",
              "      <td>5833.862305</td>\n",
              "    </tr>\n",
              "    <tr>\n",
              "      <th>63464</th>\n",
              "      <td>190136353341087156593813701</td>\n",
              "      <td>2021.3</td>\n",
              "      <td>2021</td>\n",
              "      <td>4</td>\n",
              "      <td>1</td>\n",
              "      <td>1</td>\n",
              "      <td>1</td>\n",
              "      <td>6</td>\n",
              "      <td>7</td>\n",
              "      <td>3</td>\n",
              "      <td>...</td>\n",
              "      <td>1</td>\n",
              "      <td>1</td>\n",
              "      <td>3</td>\n",
              "      <td>1</td>\n",
              "      <td>5</td>\n",
              "      <td>3</td>\n",
              "      <td>1</td>\n",
              "      <td>2835.449463</td>\n",
              "      <td>1</td>\n",
              "      <td>2835.449463</td>\n",
              "    </tr>\n",
              "  </tbody>\n",
              "</table>\n",
              "<p>60449 rows × 37 columns</p>\n",
              "</div>\n",
              "      <button class=\"colab-df-convert\" onclick=\"convertToInteractive('df-b722aa3f-1681-474b-90bd-202440edda81')\"\n",
              "              title=\"Convert this dataframe to an interactive table.\"\n",
              "              style=\"display:none;\">\n",
              "        \n",
              "  <svg xmlns=\"http://www.w3.org/2000/svg\" height=\"24px\"viewBox=\"0 0 24 24\"\n",
              "       width=\"24px\">\n",
              "    <path d=\"M0 0h24v24H0V0z\" fill=\"none\"/>\n",
              "    <path d=\"M18.56 5.44l.94 2.06.94-2.06 2.06-.94-2.06-.94-.94-2.06-.94 2.06-2.06.94zm-11 1L8.5 8.5l.94-2.06 2.06-.94-2.06-.94L8.5 2.5l-.94 2.06-2.06.94zm10 10l.94 2.06.94-2.06 2.06-.94-2.06-.94-.94-2.06-.94 2.06-2.06.94z\"/><path d=\"M17.41 7.96l-1.37-1.37c-.4-.4-.92-.59-1.43-.59-.52 0-1.04.2-1.43.59L10.3 9.45l-7.72 7.72c-.78.78-.78 2.05 0 2.83L4 21.41c.39.39.9.59 1.41.59.51 0 1.02-.2 1.41-.59l7.78-7.78 2.81-2.81c.8-.78.8-2.07 0-2.86zM5.41 20L4 18.59l7.72-7.72 1.47 1.35L5.41 20z\"/>\n",
              "  </svg>\n",
              "      </button>\n",
              "      \n",
              "  <style>\n",
              "    .colab-df-container {\n",
              "      display:flex;\n",
              "      flex-wrap:wrap;\n",
              "      gap: 12px;\n",
              "    }\n",
              "\n",
              "    .colab-df-convert {\n",
              "      background-color: #E8F0FE;\n",
              "      border: none;\n",
              "      border-radius: 50%;\n",
              "      cursor: pointer;\n",
              "      display: none;\n",
              "      fill: #1967D2;\n",
              "      height: 32px;\n",
              "      padding: 0 0 0 0;\n",
              "      width: 32px;\n",
              "    }\n",
              "\n",
              "    .colab-df-convert:hover {\n",
              "      background-color: #E2EBFA;\n",
              "      box-shadow: 0px 1px 2px rgba(60, 64, 67, 0.3), 0px 1px 3px 1px rgba(60, 64, 67, 0.15);\n",
              "      fill: #174EA6;\n",
              "    }\n",
              "\n",
              "    [theme=dark] .colab-df-convert {\n",
              "      background-color: #3B4455;\n",
              "      fill: #D2E3FC;\n",
              "    }\n",
              "\n",
              "    [theme=dark] .colab-df-convert:hover {\n",
              "      background-color: #434B5C;\n",
              "      box-shadow: 0px 1px 3px 1px rgba(0, 0, 0, 0.15);\n",
              "      filter: drop-shadow(0px 1px 2px rgba(0, 0, 0, 0.3));\n",
              "      fill: #FFFFFF;\n",
              "    }\n",
              "  </style>\n",
              "\n",
              "      <script>\n",
              "        const buttonEl =\n",
              "          document.querySelector('#df-b722aa3f-1681-474b-90bd-202440edda81 button.colab-df-convert');\n",
              "        buttonEl.style.display =\n",
              "          google.colab.kernel.accessAllowed ? 'block' : 'none';\n",
              "\n",
              "        async function convertToInteractive(key) {\n",
              "          const element = document.querySelector('#df-b722aa3f-1681-474b-90bd-202440edda81');\n",
              "          const dataTable =\n",
              "            await google.colab.kernel.invokeFunction('convertToInteractive',\n",
              "                                                     [key], {});\n",
              "          if (!dataTable) return;\n",
              "\n",
              "          const docLinkHtml = 'Like what you see? Visit the ' +\n",
              "            '<a target=\"_blank\" href=https://colab.research.google.com/notebooks/data_table.ipynb>data table notebook</a>'\n",
              "            + ' to learn more about interactive tables.';\n",
              "          element.innerHTML = '';\n",
              "          dataTable['output_type'] = 'display_data';\n",
              "          await google.colab.output.renderOutput(dataTable, element);\n",
              "          const docLink = document.createElement('div');\n",
              "          docLink.innerHTML = docLinkHtml;\n",
              "          element.appendChild(docLink);\n",
              "        }\n",
              "      </script>\n",
              "    </div>\n",
              "  </div>\n",
              "  "
            ]
          },
          "metadata": {},
          "execution_count": 8
        }
      ]
    },
    {
      "cell_type": "markdown",
      "source": [
        "##Mapping"
      ],
      "metadata": {
        "id": "tUvM-QlT6orz"
      }
    },
    {
      "cell_type": "code",
      "source": [
        "copy_df_vict=df_vict.copy()\n",
        "cat={\"ager\": {1:'12-17',2:'18-24',3:'25-34',4:'35-49',5:'50-64',6:'65 or older'},\n",
        "     \"sex\": {1:\"Male\",2:\"Female\"},\n",
        "     \"hispanic\":{1:\"Hispanic\",2:\"Non-Hispanic\",88:\"Residue\"},\n",
        "     \"race\":{1:\"White\",2:\"Black\",3:\"American Indian/Alaska Native\",4:\"Asian/Native Hawaiian/Other Pacific Islander\",5:\"More than one race\"},\n",
        "     \"race_ethnicity\":{1:\"Non-Hispanic white\",2:\"Non-Hispanic black\",3:\"Non-Hispanic American Indian/Alaska Native\",4:\"Non-Hispanic Asian/Native Hawaiian/Other Pacific Islander\",5:\"Non-Hispanic more than one race\",6:\"Hispanic\"},\n",
        "     \"hincome1\": {1:\"Less than $7,500\",2:\"$7,500 to $14,999\",3:\"$15,000 to $24,999\",4:\"$25,000 to $34,999\",5:\"$35,000 to $49,999\",6:\"$50,000 to $74,999\",7:\"$75,000 or more\",88:\"Unknown\"},\n",
        "     \"hincome2\":{-1:\"Invalid until 2017 Q1\",1:\"Less than $25,000\",2:\"$25,000 to $49,999\",3:\"$50,000 to $99,999\",4:\"$100,000 to $199,999\",5:\"$200,000 or more\"},\n",
        "     \"marital\":{1:\"Never married\",2:\"Married\",3:\"Widowed\",4:\"Divorced\",5:\"Separated\",88:\"Residue\"},\n",
        "     \"popsize\":{-1:\"Invalid until 1995 Q3\",0:\"Not a place\",1:\"Under 100,000\",2:\"100,000-249,999\",3:\"250,000-499,999\",4:\"500,000-999,999\",5:\"1 million or more\"},\n",
        "     \"region\":{-1:\"Invalid until 1995 Q3\",1:\"Northeast\",2:\"Midwest\",3:\"South\",4:\"West\"},\n",
        "     \"msa\":{1:\"Principal city within MSA\",2:\"Not part of principal city within MSA\",3:\"Outside MSA\"},\n",
        "     \"locality\":{-1:\"Invalid until 2020 Q1\",1:\"Urban\",2:\"Suburban\",3:\"Rural\"},\n",
        "     \"educatn1\":{1:\"No schooling\",2:\"Grade school\",3:\"Middle school\",4:\"High school\",5:\"College\",88:\"Residue\"},\n",
        "     \"newoff\":{1:\"Rape/sexual assault\",2:\"Robbery\",3:\"Aggravated assault\",4:\"Simple assault\",5:\"Personal theft/larceny\" },\n",
        "     \"newcrime\":{1:\"Violent crime\" , 2:\"Personal theft/larceny\"},\n",
        "     \"notify\":{1:\"Yes\" , 2:\"No\" , 3:\"Do not Know\" , 8:\"Residue\"},\n",
        "     \"treatment\":{0:\"Not injured\",1:\"Not treated\" , 2:\"Treated at scene,home,medical office or other location\" , 3:\"Do not know\" , 88:\"Residue\"},\n",
        "     \"direl\":{1:\"Intimates\",2:\"Other relatives\",3:\"Well known/casual acquaintance\",4:\"Strangers\",5:\"Do not know relationship\" ,6:\"Do not know number of offenders\"}\n",
        "     }\n",
        "copy_df_vict=copy_df_vict.replace(cat)\n",
        "\n"
      ],
      "metadata": {
        "id": "UmOc4ZsR6lxn"
      },
      "execution_count": 33,
      "outputs": []
    },
    {
      "cell_type": "code",
      "source": [
        "def combine_demographic(row):\n",
        "  return f'{row[\"ager\"]} {row[\"sex\"]} {row[\"race_ethnicity\"]}'"
      ],
      "metadata": {
        "id": "pO89-X8d6rQQ"
      },
      "execution_count": 10,
      "outputs": []
    },
    {
      "cell_type": "markdown",
      "source": [
        "Question 1)"
      ],
      "metadata": {
        "id": "L-XQaY8r64Jw"
      }
    },
    {
      "cell_type": "code",
      "source": [
        "copy_df_vict.size"
      ],
      "metadata": {
        "colab": {
          "base_uri": "https://localhost:8080/"
        },
        "id": "TY6-qiQp62Cv",
        "outputId": "e895320a-ae0b-4231-b232-dfe91799d472"
      },
      "execution_count": 11,
      "outputs": [
        {
          "output_type": "execute_result",
          "data": {
            "text/plain": [
              "2348205"
            ]
          },
          "metadata": {},
          "execution_count": 11
        }
      ]
    },
    {
      "cell_type": "code",
      "source": [
        "copy_df_vict = copy_df_vict.drop(copy_df_vict[copy_df_vict['notify'] == \"Do not Know\"].index, axis=0)"
      ],
      "metadata": {
        "id": "RIn0QlXS67fC"
      },
      "execution_count": 12,
      "outputs": []
    },
    {
      "cell_type": "code",
      "source": [
        "copy_df_vict.size"
      ],
      "metadata": {
        "colab": {
          "base_uri": "https://localhost:8080/"
        },
        "id": "o0RjNxd469s9",
        "outputId": "16afdaed-9873-49f2-94f2-8b49d0eabcfa"
      },
      "execution_count": 13,
      "outputs": [
        {
          "output_type": "execute_result",
          "data": {
            "text/plain": [
              "2317236"
            ]
          },
          "metadata": {},
          "execution_count": 13
        }
      ]
    },
    {
      "cell_type": "code",
      "source": [
        "copy_df_vict = copy_df_vict.drop(copy_df_vict[copy_df_vict['notify'] == \"Residue\"].index, axis=0)"
      ],
      "metadata": {
        "id": "6qTc2DVV7AAH"
      },
      "execution_count": 14,
      "outputs": []
    },
    {
      "cell_type": "code",
      "source": [
        "copy_df_vict.size"
      ],
      "metadata": {
        "colab": {
          "base_uri": "https://localhost:8080/"
        },
        "id": "jycquW2A7B4Z",
        "outputId": "202b1790-9d23-4fd0-fd31-d49a169b76e1"
      },
      "execution_count": 15,
      "outputs": [
        {
          "output_type": "execute_result",
          "data": {
            "text/plain": [
              "2311945"
            ]
          },
          "metadata": {},
          "execution_count": 15
        }
      ]
    },
    {
      "cell_type": "code",
      "source": [
        "copy_df_vict = copy_df_vict.groupby(\"newoff\")[\"notify\"].value_counts(normalize=True)"
      ],
      "metadata": {
        "id": "yOWyCc6U7Dv8"
      },
      "execution_count": 16,
      "outputs": []
    },
    {
      "cell_type": "code",
      "source": [
        "copy_df_vict"
      ],
      "metadata": {
        "colab": {
          "base_uri": "https://localhost:8080/"
        },
        "id": "fc4_0N8q7FTL",
        "outputId": "e28c3b1a-3c19-49b9-8f2c-83c3d4302270"
      },
      "execution_count": 17,
      "outputs": [
        {
          "output_type": "execute_result",
          "data": {
            "text/plain": [
              "newoff                  notify\n",
              "Aggravated assault      Yes       0.591993\n",
              "                        No        0.408007\n",
              "Personal theft/larceny  No        0.608374\n",
              "                        Yes       0.391626\n",
              "Rape/sexual assault     No        0.674792\n",
              "                        Yes       0.325208\n",
              "Robbery                 Yes       0.596823\n",
              "                        No        0.403177\n",
              "Simple assault          No        0.588360\n",
              "                        Yes       0.411640\n",
              "Name: notify, dtype: float64"
            ]
          },
          "metadata": {},
          "execution_count": 17
        }
      ]
    },
    {
      "cell_type": "code",
      "source": [
        "copy_df_vict.plot.bar()"
      ],
      "metadata": {
        "colab": {
          "base_uri": "https://localhost:8080/",
          "height": 428
        },
        "id": "4ZNasZVS7HKZ",
        "outputId": "db37004f-2f7c-41d0-e183-2ae936077e75"
      },
      "execution_count": 18,
      "outputs": [
        {
          "output_type": "execute_result",
          "data": {
            "text/plain": [
              "<matplotlib.axes._subplots.AxesSubplot at 0x7f1358be8be0>"
            ]
          },
          "metadata": {},
          "execution_count": 18
        },
        {
          "output_type": "display_data",
          "data": {
            "text/plain": [
              "<Figure size 432x288 with 1 Axes>"
            ],
            "image/png": "[encoded data removed]"
          },
          "metadata": {
            "needs_background": "light"
          }
        }
      ]
    },
    {
      "cell_type": "markdown",
      "source": [
        "Most under reported crime is Rape/Sexyak assault.\n"
      ],
      "metadata": {
        "id": "xWQLUSVI7LpJ"
      }
    },
    {
      "cell_type": "code",
      "source": [
        "copy_df_vict = copy_df_vict.drop(copy_df_vict[copy_df_vict['direl'] == \"Do not know relationship\"].index, axis=0)"
      ],
      "metadata": {
        "id": "wEgcIgs17I9I"
      },
      "execution_count": 20,
      "outputs": []
    },
    {
      "cell_type": "code",
      "source": [
        "copy_df_vict.size"
      ],
      "metadata": {
        "colab": {
          "base_uri": "https://localhost:8080/"
        },
        "id": "-BXH-4yg7O_L",
        "outputId": "6b1e684a-a7d6-45f0-f561-bd7ba989ca15"
      },
      "execution_count": 21,
      "outputs": [
        {
          "output_type": "execute_result",
          "data": {
            "text/plain": [
              "2252486"
            ]
          },
          "metadata": {},
          "execution_count": 21
        }
      ]
    },
    {
      "cell_type": "code",
      "source": [
        "copy_df_vict = copy_df_vict.drop(copy_df_vict[copy_df_vict['direl'] == \"Do not know number of offenders\"].index, axis=0)"
      ],
      "metadata": {
        "id": "KCQhl6Sr7RXx"
      },
      "execution_count": 22,
      "outputs": []
    },
    {
      "cell_type": "code",
      "source": [
        "copy_df_vict.size"
      ],
      "metadata": {
        "colab": {
          "base_uri": "https://localhost:8080/"
        },
        "id": "xE898wh_7UWz",
        "outputId": "47b25338-c7a0-4586-c225-99627b2e4180"
      },
      "execution_count": 23,
      "outputs": [
        {
          "output_type": "execute_result",
          "data": {
            "text/plain": [
              "2159912"
            ]
          },
          "metadata": {},
          "execution_count": 23
        }
      ]
    },
    {
      "cell_type": "code",
      "source": [
        "copy_df_vict = copy_df_vict.groupby(\"direl\")[\"notify\"].value_counts(normalize=True)"
      ],
      "metadata": {
        "id": "WtxkN3w47WFB"
      },
      "execution_count": 24,
      "outputs": []
    },
    {
      "cell_type": "code",
      "source": [
        "copy_df_vict"
      ],
      "metadata": {
        "colab": {
          "base_uri": "https://localhost:8080/"
        },
        "id": "5r2Xe-fu7YRL",
        "outputId": "b8ffb860-194a-4fca-fdbf-dcc880d85622"
      },
      "execution_count": 25,
      "outputs": [
        {
          "output_type": "execute_result",
          "data": {
            "text/plain": [
              "direl                           notify     \n",
              "Intimates                       Yes            0.538682\n",
              "                                No             0.452843\n",
              "                                Do not Know    0.004784\n",
              "                                Residue        0.003691\n",
              "Other relatives                 Yes            0.537607\n",
              "                                No             0.454123\n",
              "                                Do not Know    0.007495\n",
              "                                Residue        0.000775\n",
              "Strangers                       No             0.512672\n",
              "                                Yes            0.470723\n",
              "                                Do not Know    0.016352\n",
              "                                Residue        0.000254\n",
              "Well known/casual acquaintance  No             0.598776\n",
              "                                Yes            0.387863\n",
              "                                Do not Know    0.012596\n",
              "                                Residue        0.000765\n",
              "Name: notify, dtype: float64"
            ]
          },
          "metadata": {},
          "execution_count": 25
        }
      ]
    },
    {
      "cell_type": "code",
      "source": [
        "copy_df_vict.plot.bar()"
      ],
      "metadata": {
        "colab": {
          "base_uri": "https://localhost:8080/",
          "height": 528
        },
        "id": "RFJ1DLPN7amk",
        "outputId": "54eb0be9-c6a0-42d9-ecb9-ee8ddcf109de"
      },
      "execution_count": 26,
      "outputs": [
        {
          "output_type": "execute_result",
          "data": {
            "text/plain": [
              "<matplotlib.axes._subplots.AxesSubplot at 0x7f1358adf910>"
            ]
          },
          "metadata": {},
          "execution_count": 26
        },
        {
          "output_type": "display_data",
          "data": {
            "text/plain": [
              "<Figure size 432x288 with 1 Axes>"
            ],
            "image/png": "[encoded data removed]"
          },
          "metadata": {
            "needs_background": "light"
          }
        }
      ]
    },
    {
      "cell_type": "markdown",
      "source": [
        "In case of well known, the under reported cases are the most (60%)"
      ],
      "metadata": {
        "id": "cAM2QDzh7ghZ"
      }
    },
    {
      "cell_type": "markdown",
      "source": [
        "Question 2)"
      ],
      "metadata": {
        "id": "APPmmsvz7iO7"
      }
    },
    {
      "cell_type": "code",
      "source": [
        "copy_df_vict = copy_df_vict.groupby([\"ager\", \"sex\", \"race_ethnicity\"])[\"newcrime\"].value_counts(normalize=True)"
      ],
      "metadata": {
        "id": "qXRGbgf57cUd"
      },
      "execution_count": 28,
      "outputs": []
    },
    {
      "cell_type": "code",
      "source": [
        "copy_df_vict = copy_df_vict.to_frame()"
      ],
      "metadata": {
        "id": "XWr6vV5v7l8c"
      },
      "execution_count": 29,
      "outputs": []
    },
    {
      "cell_type": "code",
      "source": [
        "print(copy_df_vict.to_markdown())"
      ],
      "metadata": {
        "colab": {
          "base_uri": "https://localhost:8080/"
        },
        "id": "DnMI2My57nmZ",
        "outputId": "e8e80095-00c4-44e4-fc3c-ba0408ad278f"
      },
      "execution_count": 30,
      "outputs": [
        {
          "output_type": "stream",
          "name": "stdout",
          "text": [
            "|                                                                                                                  |   newcrime |\n",
            "|:-----------------------------------------------------------------------------------------------------------------|-----------:|\n",
            "| ('12-17', 'Female', 'Hispanic', 'Violent crime')                                                                 |  0.97546   |\n",
            "| ('12-17', 'Female', 'Hispanic', 'Personal theft/larceny')                                                        |  0.0245399 |\n",
            "| ('12-17', 'Female', 'Non-Hispanic American Indian/Alaska Native', 'Violent crime')                               |  1         |\n",
            "| ('12-17', 'Female', 'Non-Hispanic Asian/Native Hawaiian/Other Pacific Islander', 'Violent crime')                |  0.897059  |\n",
            "| ('12-17', 'Female', 'Non-Hispanic Asian/Native Hawaiian/Other Pacific Islander', 'Personal theft/larceny')       |  0.102941  |\n",
            "| ('12-17', 'Female', 'Non-Hispanic black', 'Violent crime')                                                       |  0.973239  |\n",
            "| ('12-17', 'Female', 'Non-Hispanic black', 'Personal theft/larceny')                                              |  0.0267606 |\n",
            "| ('12-17', 'Female', 'Non-Hispanic more than one race', 'Violent crime')                                          |  0.971698  |\n",
            "| ('12-17', 'Female', 'Non-Hispanic more than one race', 'Personal theft/larceny')                                 |  0.0283019 |\n",
            "| ('12-17', 'Female', 'Non-Hispanic white', 'Violent crime')                                                       |  0.981928  |\n",
            "| ('12-17', 'Female', 'Non-Hispanic white', 'Personal theft/larceny')                                              |  0.0180723 |\n",
            "| ('12-17', 'Male', 'Hispanic', 'Violent crime')                                                                   |  0.973799  |\n",
            "| ('12-17', 'Male', 'Hispanic', 'Personal theft/larceny')                                                          |  0.0262009 |\n",
            "| ('12-17', 'Male', 'Non-Hispanic American Indian/Alaska Native', 'Violent crime')                                 |  0.984127  |\n",
            "| ('12-17', 'Male', 'Non-Hispanic American Indian/Alaska Native', 'Personal theft/larceny')                        |  0.015873  |\n",
            "| ('12-17', 'Male', 'Non-Hispanic Asian/Native Hawaiian/Other Pacific Islander', 'Violent crime')                  |  0.966667  |\n",
            "| ('12-17', 'Male', 'Non-Hispanic Asian/Native Hawaiian/Other Pacific Islander', 'Personal theft/larceny')         |  0.0333333 |\n",
            "| ('12-17', 'Male', 'Non-Hispanic black', 'Violent crime')                                                         |  0.971526  |\n",
            "| ('12-17', 'Male', 'Non-Hispanic black', 'Personal theft/larceny')                                                |  0.0284738 |\n",
            "| ('12-17', 'Male', 'Non-Hispanic more than one race', 'Violent crime')                                            |  0.981982  |\n",
            "| ('12-17', 'Male', 'Non-Hispanic more than one race', 'Personal theft/larceny')                                   |  0.018018  |\n",
            "| ('12-17', 'Male', 'Non-Hispanic white', 'Violent crime')                                                         |  0.970334  |\n",
            "| ('12-17', 'Male', 'Non-Hispanic white', 'Personal theft/larceny')                                                |  0.0296663 |\n",
            "| ('18-24', 'Female', 'Hispanic', 'Violent crime')                                                                 |  0.962963  |\n",
            "| ('18-24', 'Female', 'Hispanic', 'Personal theft/larceny')                                                        |  0.037037  |\n",
            "| ('18-24', 'Female', 'Non-Hispanic American Indian/Alaska Native', 'Violent crime')                               |  1         |\n",
            "| ('18-24', 'Female', 'Non-Hispanic Asian/Native Hawaiian/Other Pacific Islander', 'Violent crime')                |  0.96063   |\n",
            "| ('18-24', 'Female', 'Non-Hispanic Asian/Native Hawaiian/Other Pacific Islander', 'Personal theft/larceny')       |  0.0393701 |\n",
            "| ('18-24', 'Female', 'Non-Hispanic black', 'Violent crime')                                                       |  0.972797  |\n",
            "| ('18-24', 'Female', 'Non-Hispanic black', 'Personal theft/larceny')                                              |  0.0272035 |\n",
            "| ('18-24', 'Female', 'Non-Hispanic more than one race', 'Violent crime')                                          |  0.941176  |\n",
            "| ('18-24', 'Female', 'Non-Hispanic more than one race', 'Personal theft/larceny')                                 |  0.0588235 |\n",
            "| ('18-24', 'Female', 'Non-Hispanic white', 'Violent crime')                                                       |  0.976706  |\n",
            "| ('18-24', 'Female', 'Non-Hispanic white', 'Personal theft/larceny')                                              |  0.0232936 |\n",
            "| ('18-24', 'Male', 'Hispanic', 'Violent crime')                                                                   |  0.975232  |\n",
            "| ('18-24', 'Male', 'Hispanic', 'Personal theft/larceny')                                                          |  0.0247678 |\n",
            "| ('18-24', 'Male', 'Non-Hispanic American Indian/Alaska Native', 'Violent crime')                                 |  0.984127  |\n",
            "| ('18-24', 'Male', 'Non-Hispanic American Indian/Alaska Native', 'Personal theft/larceny')                        |  0.015873  |\n",
            "| ('18-24', 'Male', 'Non-Hispanic Asian/Native Hawaiian/Other Pacific Islander', 'Violent crime')                  |  0.935484  |\n",
            "| ('18-24', 'Male', 'Non-Hispanic Asian/Native Hawaiian/Other Pacific Islander', 'Personal theft/larceny')         |  0.0645161 |\n",
            "| ('18-24', 'Male', 'Non-Hispanic black', 'Violent crime')                                                         |  0.95106   |\n",
            "| ('18-24', 'Male', 'Non-Hispanic black', 'Personal theft/larceny')                                                |  0.0489396 |\n",
            "| ('18-24', 'Male', 'Non-Hispanic more than one race', 'Violent crime')                                            |  0.970149  |\n",
            "| ('18-24', 'Male', 'Non-Hispanic more than one race', 'Personal theft/larceny')                                   |  0.0298507 |\n",
            "| ('18-24', 'Male', 'Non-Hispanic white', 'Violent crime')                                                         |  0.976821  |\n",
            "| ('18-24', 'Male', 'Non-Hispanic white', 'Personal theft/larceny')                                                |  0.0231788 |\n",
            "| ('25-34', 'Female', 'Hispanic', 'Violent crime')                                                                 |  0.949588  |\n",
            "| ('25-34', 'Female', 'Hispanic', 'Personal theft/larceny')                                                        |  0.0504115 |\n",
            "| ('25-34', 'Female', 'Non-Hispanic American Indian/Alaska Native', 'Violent crime')                               |  0.9875    |\n",
            "| ('25-34', 'Female', 'Non-Hispanic American Indian/Alaska Native', 'Personal theft/larceny')                      |  0.0125    |\n",
            "| ('25-34', 'Female', 'Non-Hispanic Asian/Native Hawaiian/Other Pacific Islander', 'Violent crime')                |  0.924528  |\n",
            "| ('25-34', 'Female', 'Non-Hispanic Asian/Native Hawaiian/Other Pacific Islander', 'Personal theft/larceny')       |  0.0754717 |\n",
            "| ('25-34', 'Female', 'Non-Hispanic black', 'Violent crime')                                                       |  0.958574  |\n",
            "| ('25-34', 'Female', 'Non-Hispanic black', 'Personal theft/larceny')                                              |  0.0414258 |\n",
            "| ('25-34', 'Female', 'Non-Hispanic more than one race', 'Violent crime')                                          |  0.984     |\n",
            "| ('25-34', 'Female', 'Non-Hispanic more than one race', 'Personal theft/larceny')                                 |  0.016     |\n",
            "| ('25-34', 'Female', 'Non-Hispanic white', 'Violent crime')                                                       |  0.972931  |\n",
            "| ('25-34', 'Female', 'Non-Hispanic white', 'Personal theft/larceny')                                              |  0.0270687 |\n",
            "| ('25-34', 'Male', 'Hispanic', 'Violent crime')                                                                   |  0.975391  |\n",
            "| ('25-34', 'Male', 'Hispanic', 'Personal theft/larceny')                                                          |  0.0246085 |\n",
            "| ('25-34', 'Male', 'Non-Hispanic American Indian/Alaska Native', 'Violent crime')                                 |  1         |\n",
            "| ('25-34', 'Male', 'Non-Hispanic Asian/Native Hawaiian/Other Pacific Islander', 'Violent crime')                  |  0.978355  |\n",
            "| ('25-34', 'Male', 'Non-Hispanic Asian/Native Hawaiian/Other Pacific Islander', 'Personal theft/larceny')         |  0.021645  |\n",
            "| ('25-34', 'Male', 'Non-Hispanic black', 'Violent crime')                                                         |  0.960191  |\n",
            "| ('25-34', 'Male', 'Non-Hispanic black', 'Personal theft/larceny')                                                |  0.0398089 |\n",
            "| ('25-34', 'Male', 'Non-Hispanic more than one race', 'Violent crime')                                            |  1         |\n",
            "| ('25-34', 'Male', 'Non-Hispanic white', 'Violent crime')                                                         |  0.984076  |\n",
            "| ('25-34', 'Male', 'Non-Hispanic white', 'Personal theft/larceny')                                                |  0.0159236 |\n",
            "| ('35-49', 'Female', 'Hispanic', 'Violent crime')                                                                 |  0.936306  |\n",
            "| ('35-49', 'Female', 'Hispanic', 'Personal theft/larceny')                                                        |  0.0636943 |\n",
            "| ('35-49', 'Female', 'Non-Hispanic American Indian/Alaska Native', 'Violent crime')                               |  0.980198  |\n",
            "| ('35-49', 'Female', 'Non-Hispanic American Indian/Alaska Native', 'Personal theft/larceny')                      |  0.019802  |\n",
            "| ('35-49', 'Female', 'Non-Hispanic Asian/Native Hawaiian/Other Pacific Islander', 'Violent crime')                |  0.89375   |\n",
            "| ('35-49', 'Female', 'Non-Hispanic Asian/Native Hawaiian/Other Pacific Islander', 'Personal theft/larceny')       |  0.10625   |\n",
            "| ('35-49', 'Female', 'Non-Hispanic black', 'Violent crime')                                                       |  0.949331  |\n",
            "| ('35-49', 'Female', 'Non-Hispanic black', 'Personal theft/larceny')                                              |  0.0506692 |\n",
            "| ('35-49', 'Female', 'Non-Hispanic more than one race', 'Violent crime')                                          |  0.984962  |\n",
            "| ('35-49', 'Female', 'Non-Hispanic more than one race', 'Personal theft/larceny')                                 |  0.0150376 |\n",
            "| ('35-49', 'Female', 'Non-Hispanic white', 'Violent crime')                                                       |  0.968918  |\n",
            "| ('35-49', 'Female', 'Non-Hispanic white', 'Personal theft/larceny')                                              |  0.0310818 |\n",
            "| ('35-49', 'Male', 'Hispanic', 'Violent crime')                                                                   |  0.975248  |\n",
            "| ('35-49', 'Male', 'Hispanic', 'Personal theft/larceny')                                                          |  0.0247525 |\n",
            "| ('35-49', 'Male', 'Non-Hispanic American Indian/Alaska Native', 'Violent crime')                                 |  0.965517  |\n",
            "| ('35-49', 'Male', 'Non-Hispanic American Indian/Alaska Native', 'Personal theft/larceny')                        |  0.0344828 |\n",
            "| ('35-49', 'Male', 'Non-Hispanic Asian/Native Hawaiian/Other Pacific Islander', 'Violent crime')                  |  0.976879  |\n",
            "| ('35-49', 'Male', 'Non-Hispanic Asian/Native Hawaiian/Other Pacific Islander', 'Personal theft/larceny')         |  0.0231214 |\n",
            "| ('35-49', 'Male', 'Non-Hispanic black', 'Violent crime')                                                         |  0.964953  |\n",
            "| ('35-49', 'Male', 'Non-Hispanic black', 'Personal theft/larceny')                                                |  0.0350467 |\n",
            "| ('35-49', 'Male', 'Non-Hispanic more than one race', 'Violent crime')                                            |  0.980769  |\n",
            "| ('35-49', 'Male', 'Non-Hispanic more than one race', 'Personal theft/larceny')                                   |  0.0192308 |\n",
            "| ('35-49', 'Male', 'Non-Hispanic white', 'Violent crime')                                                         |  0.984033  |\n",
            "| ('35-49', 'Male', 'Non-Hispanic white', 'Personal theft/larceny')                                                |  0.015967  |\n",
            "| ('50-64', 'Female', 'Hispanic', 'Violent crime')                                                                 |  0.923077  |\n",
            "| ('50-64', 'Female', 'Hispanic', 'Personal theft/larceny')                                                        |  0.0769231 |\n",
            "| ('50-64', 'Female', 'Non-Hispanic American Indian/Alaska Native', 'Violent crime')                               |  0.97561   |\n",
            "| ('50-64', 'Female', 'Non-Hispanic American Indian/Alaska Native', 'Personal theft/larceny')                      |  0.0243902 |\n",
            "| ('50-64', 'Female', 'Non-Hispanic Asian/Native Hawaiian/Other Pacific Islander', 'Violent crime')                |  0.894737  |\n",
            "| ('50-64', 'Female', 'Non-Hispanic Asian/Native Hawaiian/Other Pacific Islander', 'Personal theft/larceny')       |  0.105263  |\n",
            "| ('50-64', 'Female', 'Non-Hispanic black', 'Violent crime')                                                       |  0.923747  |\n",
            "| ('50-64', 'Female', 'Non-Hispanic black', 'Personal theft/larceny')                                              |  0.0762527 |\n",
            "| ('50-64', 'Female', 'Non-Hispanic more than one race', 'Violent crime')                                          |  0.988095  |\n",
            "| ('50-64', 'Female', 'Non-Hispanic more than one race', 'Personal theft/larceny')                                 |  0.0119048 |\n",
            "| ('50-64', 'Female', 'Non-Hispanic white', 'Violent crime')                                                       |  0.954064  |\n",
            "| ('50-64', 'Female', 'Non-Hispanic white', 'Personal theft/larceny')                                              |  0.0459364 |\n",
            "| ('50-64', 'Male', 'Hispanic', 'Violent crime')                                                                   |  0.978022  |\n",
            "| ('50-64', 'Male', 'Hispanic', 'Personal theft/larceny')                                                          |  0.021978  |\n",
            "| ('50-64', 'Male', 'Non-Hispanic American Indian/Alaska Native', 'Violent crime')                                 |  0.983333  |\n",
            "| ('50-64', 'Male', 'Non-Hispanic American Indian/Alaska Native', 'Personal theft/larceny')                        |  0.0166667 |\n",
            "| ('50-64', 'Male', 'Non-Hispanic Asian/Native Hawaiian/Other Pacific Islander', 'Violent crime')                  |  0.958333  |\n",
            "| ('50-64', 'Male', 'Non-Hispanic Asian/Native Hawaiian/Other Pacific Islander', 'Personal theft/larceny')         |  0.0416667 |\n",
            "| ('50-64', 'Male', 'Non-Hispanic black', 'Violent crime')                                                         |  0.956897  |\n",
            "| ('50-64', 'Male', 'Non-Hispanic black', 'Personal theft/larceny')                                                |  0.0431034 |\n",
            "| ('50-64', 'Male', 'Non-Hispanic more than one race', 'Violent crime')                                            |  0.958763  |\n",
            "| ('50-64', 'Male', 'Non-Hispanic more than one race', 'Personal theft/larceny')                                   |  0.0412371 |\n",
            "| ('50-64', 'Male', 'Non-Hispanic white', 'Violent crime')                                                         |  0.978592  |\n",
            "| ('50-64', 'Male', 'Non-Hispanic white', 'Personal theft/larceny')                                                |  0.0214077 |\n",
            "| ('65 or older', 'Female', 'Hispanic', 'Violent crime')                                                           |  0.815217  |\n",
            "| ('65 or older', 'Female', 'Hispanic', 'Personal theft/larceny')                                                  |  0.184783  |\n",
            "| ('65 or older', 'Female', 'Non-Hispanic American Indian/Alaska Native', 'Violent crime')                         |  0.875     |\n",
            "| ('65 or older', 'Female', 'Non-Hispanic American Indian/Alaska Native', 'Personal theft/larceny')                |  0.125     |\n",
            "| ('65 or older', 'Female', 'Non-Hispanic Asian/Native Hawaiian/Other Pacific Islander', 'Violent crime')          |  0.655172  |\n",
            "| ('65 or older', 'Female', 'Non-Hispanic Asian/Native Hawaiian/Other Pacific Islander', 'Personal theft/larceny') |  0.344828  |\n",
            "| ('65 or older', 'Female', 'Non-Hispanic black', 'Violent crime')                                                 |  0.869281  |\n",
            "| ('65 or older', 'Female', 'Non-Hispanic black', 'Personal theft/larceny')                                        |  0.130719  |\n",
            "| ('65 or older', 'Female', 'Non-Hispanic more than one race', 'Violent crime')                                    |  0.966667  |\n",
            "| ('65 or older', 'Female', 'Non-Hispanic more than one race', 'Personal theft/larceny')                           |  0.0333333 |\n",
            "| ('65 or older', 'Female', 'Non-Hispanic white', 'Violent crime')                                                 |  0.837977  |\n",
            "| ('65 or older', 'Female', 'Non-Hispanic white', 'Personal theft/larceny')                                        |  0.162023  |\n",
            "| ('65 or older', 'Male', 'Hispanic', 'Violent crime')                                                             |  0.95098   |\n",
            "| ('65 or older', 'Male', 'Hispanic', 'Personal theft/larceny')                                                    |  0.0490196 |\n",
            "| ('65 or older', 'Male', 'Non-Hispanic American Indian/Alaska Native', 'Violent crime')                           |  1         |\n",
            "| ('65 or older', 'Male', 'Non-Hispanic Asian/Native Hawaiian/Other Pacific Islander', 'Violent crime')            |  0.882353  |\n",
            "| ('65 or older', 'Male', 'Non-Hispanic Asian/Native Hawaiian/Other Pacific Islander', 'Personal theft/larceny')   |  0.117647  |\n",
            "| ('65 or older', 'Male', 'Non-Hispanic black', 'Violent crime')                                                   |  0.896296  |\n",
            "| ('65 or older', 'Male', 'Non-Hispanic black', 'Personal theft/larceny')                                          |  0.103704  |\n",
            "| ('65 or older', 'Male', 'Non-Hispanic more than one race', 'Violent crime')                                      |  0.888889  |\n",
            "| ('65 or older', 'Male', 'Non-Hispanic more than one race', 'Personal theft/larceny')                             |  0.111111  |\n",
            "| ('65 or older', 'Male', 'Non-Hispanic white', 'Violent crime')                                                   |  0.921739  |\n",
            "| ('65 or older', 'Male', 'Non-Hispanic white', 'Personal theft/larceny')                                          |  0.0782609 |\n"
          ]
        }
      ]
    },
    {
      "cell_type": "code",
      "source": [
        "copy_df_vict.plot(kind='bar', figsize=(28,10))\n",
        "plt.show()"
      ],
      "metadata": {
        "colab": {
          "base_uri": "https://localhost:8080/",
          "height": 868
        },
        "id": "rD9SeZ2a7pGv",
        "outputId": "1cf16568-fa0b-45f2-f836-81b7edfba735"
      },
      "execution_count": 31,
      "outputs": [
        {
          "output_type": "display_data",
          "data": {
            "text/plain": [
              "<Figure size 2016x720 with 1 Axes>"
            ],
            "image/png": "[encoded data removed]"
          },
          "metadata": {
            "needs_background": "light"
          }
        }
      ]
    },
    {
      "cell_type": "markdown",
      "source": [
        "They are:\n",
        "\n",
        "('12-17', 'Female', 'Non-Hispanic American Indian/Alaska Native', 'Violent crime') \n",
        "\n",
        " ('18-24', 'Female', 'Non-Hispanic American Indian/Alaska Native', 'Violent crime')\n",
        "\n",
        "\n",
        " ('25-34', 'Male', 'Non-Hispanic American Indian/Alaska Native', 'Violent crime') \n",
        "\n",
        "('25-34', 'Male', 'Non-Hispanic more than one race', 'Violent crime')\n",
        "\n",
        "('65 or older', 'Male', 'Non-Hispanic American Indian/Alaska Native', 'Violent crime')"
      ],
      "metadata": {
        "id": "Flt9i0RM7sde"
      }
    },
    {
      "cell_type": "markdown",
      "source": [
        "Question 3)"
      ],
      "metadata": {
        "id": "bLuWfu5C7w_T"
      }
    },
    {
      "cell_type": "code",
      "source": [
        "copy_df_vict['demographic'] = copy_df_vict.apply(combine_demographic, axis=1)"
      ],
      "metadata": {
        "id": "FJr4o56f7rsr"
      },
      "execution_count": 34,
      "outputs": []
    },
    {
      "cell_type": "code",
      "source": [
        "ct = pd.crosstab(copy_df_vict['demographic'], copy_df_vict['treatment'])"
      ],
      "metadata": {
        "id": "jOkkxa1j73X5"
      },
      "execution_count": 35,
      "outputs": []
    },
    {
      "cell_type": "code",
      "source": [
        "pct = ct['Not treated'] / (ct['Not injured'] + ct['Not treated'])"
      ],
      "metadata": {
        "id": "5FG0Dd7v7457"
      },
      "execution_count": 36,
      "outputs": []
    },
    {
      "cell_type": "code",
      "source": [
        "pct = pct.sort_values(ascending=False)"
      ],
      "metadata": {
        "id": "-yNmESmp76fI"
      },
      "execution_count": 37,
      "outputs": []
    },
    {
      "cell_type": "code",
      "source": [
        "# Plot the results as a bar chart\n",
        "pct.plot.bar()\n",
        "\n",
        "# Add a title and x-axis label\n",
        "plt.title('Percentage of Victims not Receiving Medical Attention')\n",
        "plt.xlabel('Demographic')\n",
        "\n",
        "plt.gcf().set_size_inches(20, 10)\n",
        "\n",
        "# Show the plot\n",
        "plt.show()"
      ],
      "metadata": {
        "colab": {
          "base_uri": "https://localhost:8080/",
          "height": 1000
        },
        "id": "3Crmk_Az78Rb",
        "outputId": "06a41081-2ce2-4835-f0d6-ca3b0ec646c6"
      },
      "execution_count": 38,
      "outputs": [
        {
          "output_type": "display_data",
          "data": {
            "text/plain": [
              "<Figure size 1440x720 with 1 Axes>"
            ],
            "image/png": "[encoded data removed]"
          },
          "metadata": {
            "needs_background": "light"
          }
        }
      ]
    },
    {
      "cell_type": "code",
      "source": [
        "copy_df_vict = copy_df_vict.groupby([\"ager\", \"sex\", \"race_ethnicity\"])[\"treatment\"].value_counts(normalize=True)"
      ],
      "metadata": {
        "id": "3QH7vPsa7-GN"
      },
      "execution_count": 39,
      "outputs": []
    },
    {
      "cell_type": "code",
      "source": [
        "copy_df_vict = copy_df_vict.to_frame()"
      ],
      "metadata": {
        "id": "lBWNrK-u8AHq"
      },
      "execution_count": 40,
      "outputs": []
    },
    {
      "cell_type": "code",
      "source": [
        "print(copy_df_vict.to_markdown())"
      ],
      "metadata": {
        "colab": {
          "base_uri": "https://localhost:8080/"
        },
        "id": "CyzyWedk8CYQ",
        "outputId": "ee37c4cd-8475-4f21-9562-b339f12a433b"
      },
      "execution_count": 41,
      "outputs": [
        {
          "output_type": "stream",
          "name": "stdout",
          "text": [
            "|                                                                                                                                                  |   treatment |\n",
            "|:-------------------------------------------------------------------------------------------------------------------------------------------------|------------:|\n",
            "| ('12-17', 'Female', 'Hispanic', 'Not injured')                                                                                                   | 0.697853    |\n",
            "| ('12-17', 'Female', 'Hispanic', 'Not treated')                                                                                                   | 0.179448    |\n",
            "| ('12-17', 'Female', 'Hispanic', 'Treated at scene,home,medical office or other location')                                                        | 0.122699    |\n",
            "| ('12-17', 'Female', 'Non-Hispanic American Indian/Alaska Native', 'Not injured')                                                                 | 0.790698    |\n",
            "| ('12-17', 'Female', 'Non-Hispanic American Indian/Alaska Native', 'Treated at scene,home,medical office or other location')                      | 0.116279    |\n",
            "| ('12-17', 'Female', 'Non-Hispanic American Indian/Alaska Native', 'Not treated')                                                                 | 0.0930233   |\n",
            "| ('12-17', 'Female', 'Non-Hispanic Asian/Native Hawaiian/Other Pacific Islander', 'Not injured')                                                  | 0.676471    |\n",
            "| ('12-17', 'Female', 'Non-Hispanic Asian/Native Hawaiian/Other Pacific Islander', 'Not treated')                                                  | 0.205882    |\n",
            "| ('12-17', 'Female', 'Non-Hispanic Asian/Native Hawaiian/Other Pacific Islander', 'Treated at scene,home,medical office or other location')       | 0.117647    |\n",
            "| ('12-17', 'Female', 'Non-Hispanic black', 'Not injured')                                                                                         | 0.685915    |\n",
            "| ('12-17', 'Female', 'Non-Hispanic black', 'Not treated')                                                                                         | 0.178873    |\n",
            "| ('12-17', 'Female', 'Non-Hispanic black', 'Treated at scene,home,medical office or other location')                                              | 0.133803    |\n",
            "| ('12-17', 'Female', 'Non-Hispanic black', 'Do not know')                                                                                         | 0.00140845  |\n",
            "| ('12-17', 'Female', 'Non-Hispanic more than one race', 'Not injured')                                                                            | 0.698113    |\n",
            "| ('12-17', 'Female', 'Non-Hispanic more than one race', 'Not treated')                                                                            | 0.198113    |\n",
            "| ('12-17', 'Female', 'Non-Hispanic more than one race', 'Treated at scene,home,medical office or other location')                                 | 0.103774    |\n",
            "| ('12-17', 'Female', 'Non-Hispanic white', 'Not injured')                                                                                         | 0.72992     |\n",
            "| ('12-17', 'Female', 'Non-Hispanic white', 'Not treated')                                                                                         | 0.180388    |\n",
            "| ('12-17', 'Female', 'Non-Hispanic white', 'Treated at scene,home,medical office or other location')                                              | 0.0893574   |\n",
            "| ('12-17', 'Female', 'Non-Hispanic white', 'Do not know')                                                                                         | 0.000334672 |\n",
            "| ('12-17', 'Male', 'Hispanic', 'Not injured')                                                                                                     | 0.739738    |\n",
            "| ('12-17', 'Male', 'Hispanic', 'Not treated')                                                                                                     | 0.156332    |\n",
            "| ('12-17', 'Male', 'Hispanic', 'Treated at scene,home,medical office or other location')                                                          | 0.103057    |\n",
            "| ('12-17', 'Male', 'Hispanic', 'Do not know')                                                                                                     | 0.000873362 |\n",
            "| ('12-17', 'Male', 'Non-Hispanic American Indian/Alaska Native', 'Not injured')                                                                   | 0.714286    |\n",
            "| ('12-17', 'Male', 'Non-Hispanic American Indian/Alaska Native', 'Not treated')                                                                   | 0.206349    |\n",
            "| ('12-17', 'Male', 'Non-Hispanic American Indian/Alaska Native', 'Treated at scene,home,medical office or other location')                        | 0.0793651   |\n",
            "| ('12-17', 'Male', 'Non-Hispanic Asian/Native Hawaiian/Other Pacific Islander', 'Not injured')                                                    | 0.741667    |\n",
            "| ('12-17', 'Male', 'Non-Hispanic Asian/Native Hawaiian/Other Pacific Islander', 'Not treated')                                                    | 0.15        |\n",
            "| ('12-17', 'Male', 'Non-Hispanic Asian/Native Hawaiian/Other Pacific Islander', 'Treated at scene,home,medical office or other location')         | 0.108333    |\n",
            "| ('12-17', 'Male', 'Non-Hispanic black', 'Not injured')                                                                                           | 0.726651    |\n",
            "| ('12-17', 'Male', 'Non-Hispanic black', 'Not treated')                                                                                           | 0.159453    |\n",
            "| ('12-17', 'Male', 'Non-Hispanic black', 'Treated at scene,home,medical office or other location')                                                | 0.113895    |\n",
            "| ('12-17', 'Male', 'Non-Hispanic more than one race', 'Not injured')                                                                              | 0.630631    |\n",
            "| ('12-17', 'Male', 'Non-Hispanic more than one race', 'Not treated')                                                                              | 0.288288    |\n",
            "| ('12-17', 'Male', 'Non-Hispanic more than one race', 'Treated at scene,home,medical office or other location')                                   | 0.0810811   |\n",
            "| ('12-17', 'Male', 'Non-Hispanic white', 'Not injured')                                                                                           | 0.7363      |\n",
            "| ('12-17', 'Male', 'Non-Hispanic white', 'Not treated')                                                                                           | 0.172435    |\n",
            "| ('12-17', 'Male', 'Non-Hispanic white', 'Treated at scene,home,medical office or other location')                                                | 0.0906469   |\n",
            "| ('12-17', 'Male', 'Non-Hispanic white', 'Do not know')                                                                                           | 0.000618047 |\n",
            "| ('18-24', 'Female', 'Hispanic', 'Not injured')                                                                                                   | 0.694764    |\n",
            "| ('18-24', 'Female', 'Hispanic', 'Not treated')                                                                                                   | 0.181354    |\n",
            "| ('18-24', 'Female', 'Hispanic', 'Treated at scene,home,medical office or other location')                                                        | 0.122605    |\n",
            "| ('18-24', 'Female', 'Hispanic', 'Do not know')                                                                                                   | 0.00127714  |\n",
            "| ('18-24', 'Female', 'Non-Hispanic American Indian/Alaska Native', 'Not injured')                                                                 | 0.586667    |\n",
            "| ('18-24', 'Female', 'Non-Hispanic American Indian/Alaska Native', 'Treated at scene,home,medical office or other location')                      | 0.213333    |\n",
            "| ('18-24', 'Female', 'Non-Hispanic American Indian/Alaska Native', 'Not treated')                                                                 | 0.2         |\n",
            "| ('18-24', 'Female', 'Non-Hispanic Asian/Native Hawaiian/Other Pacific Islander', 'Not injured')                                                  | 0.716535    |\n",
            "| ('18-24', 'Female', 'Non-Hispanic Asian/Native Hawaiian/Other Pacific Islander', 'Not treated')                                                  | 0.204724    |\n",
            "| ('18-24', 'Female', 'Non-Hispanic Asian/Native Hawaiian/Other Pacific Islander', 'Treated at scene,home,medical office or other location')       | 0.0787402   |\n",
            "| ('18-24', 'Female', 'Non-Hispanic black', 'Not injured')                                                                                         | 0.657236    |\n",
            "| ('18-24', 'Female', 'Non-Hispanic black', 'Not treated')                                                                                         | 0.200218    |\n",
            "| ('18-24', 'Female', 'Non-Hispanic black', 'Treated at scene,home,medical office or other location')                                              | 0.142546    |\n",
            "| ('18-24', 'Female', 'Non-Hispanic more than one race', 'Not injured')                                                                            | 0.607843    |\n",
            "| ('18-24', 'Female', 'Non-Hispanic more than one race', 'Not treated')                                                                            | 0.264706    |\n",
            "| ('18-24', 'Female', 'Non-Hispanic more than one race', 'Treated at scene,home,medical office or other location')                                 | 0.117647    |\n",
            "| ('18-24', 'Female', 'Non-Hispanic more than one race', 'Do not know')                                                                            | 0.00980392  |\n",
            "| ('18-24', 'Female', 'Non-Hispanic white', 'Not injured')                                                                                         | 0.670098    |\n",
            "| ('18-24', 'Female', 'Non-Hispanic white', 'Not treated')                                                                                         | 0.22156     |\n",
            "| ('18-24', 'Female', 'Non-Hispanic white', 'Treated at scene,home,medical office or other location')                                              | 0.108342    |\n",
            "| ('18-24', 'Male', 'Hispanic', 'Not injured')                                                                                                     | 0.755418    |\n",
            "| ('18-24', 'Male', 'Hispanic', 'Not treated')                                                                                                     | 0.131063    |\n",
            "| ('18-24', 'Male', 'Hispanic', 'Treated at scene,home,medical office or other location')                                                          | 0.111455    |\n",
            "| ('18-24', 'Male', 'Hispanic', 'Do not know')                                                                                                     | 0.00206398  |\n",
            "| ('18-24', 'Male', 'Non-Hispanic American Indian/Alaska Native', 'Not injured')                                                                   | 0.793651    |\n",
            "| ('18-24', 'Male', 'Non-Hispanic American Indian/Alaska Native', 'Not treated')                                                                   | 0.15873     |\n",
            "| ('18-24', 'Male', 'Non-Hispanic American Indian/Alaska Native', 'Treated at scene,home,medical office or other location')                        | 0.047619    |\n",
            "| ('18-24', 'Male', 'Non-Hispanic Asian/Native Hawaiian/Other Pacific Islander', 'Not injured')                                                    | 0.729032    |\n",
            "| ('18-24', 'Male', 'Non-Hispanic Asian/Native Hawaiian/Other Pacific Islander', 'Not treated')                                                    | 0.148387    |\n",
            "| ('18-24', 'Male', 'Non-Hispanic Asian/Native Hawaiian/Other Pacific Islander', 'Treated at scene,home,medical office or other location')         | 0.122581    |\n",
            "| ('18-24', 'Male', 'Non-Hispanic black', 'Not injured')                                                                                           | 0.769984    |\n",
            "| ('18-24', 'Male', 'Non-Hispanic black', 'Treated at scene,home,medical office or other location')                                                | 0.12398     |\n",
            "| ('18-24', 'Male', 'Non-Hispanic black', 'Not treated')                                                                                           | 0.101142    |\n",
            "| ('18-24', 'Male', 'Non-Hispanic black', 'Do not know')                                                                                           | 0.00489396  |\n",
            "| ('18-24', 'Male', 'Non-Hispanic more than one race', 'Not injured')                                                                              | 0.716418    |\n",
            "| ('18-24', 'Male', 'Non-Hispanic more than one race', 'Not treated')                                                                              | 0.164179    |\n",
            "| ('18-24', 'Male', 'Non-Hispanic more than one race', 'Treated at scene,home,medical office or other location')                                   | 0.119403    |\n",
            "| ('18-24', 'Male', 'Non-Hispanic white', 'Not injured')                                                                                           | 0.764901    |\n",
            "| ('18-24', 'Male', 'Non-Hispanic white', 'Not treated')                                                                                           | 0.13789     |\n",
            "| ('18-24', 'Male', 'Non-Hispanic white', 'Treated at scene,home,medical office or other location')                                                | 0.0972091   |\n",
            "| ('25-34', 'Female', 'Hispanic', 'Not injured')                                                                                                   | 0.707819    |\n",
            "| ('25-34', 'Female', 'Hispanic', 'Not treated')                                                                                                   | 0.157407    |\n",
            "| ('25-34', 'Female', 'Hispanic', 'Treated at scene,home,medical office or other location')                                                        | 0.134774    |\n",
            "| ('25-34', 'Female', 'Non-Hispanic American Indian/Alaska Native', 'Not injured')                                                                 | 0.5375      |\n",
            "| ('25-34', 'Female', 'Non-Hispanic American Indian/Alaska Native', 'Not treated')                                                                 | 0.2375      |\n",
            "| ('25-34', 'Female', 'Non-Hispanic American Indian/Alaska Native', 'Treated at scene,home,medical office or other location')                      | 0.225       |\n",
            "| ('25-34', 'Female', 'Non-Hispanic Asian/Native Hawaiian/Other Pacific Islander', 'Not injured')                                                  | 0.81761     |\n",
            "| ('25-34', 'Female', 'Non-Hispanic Asian/Native Hawaiian/Other Pacific Islander', 'Not treated')                                                  | 0.113208    |\n",
            "| ('25-34', 'Female', 'Non-Hispanic Asian/Native Hawaiian/Other Pacific Islander', 'Treated at scene,home,medical office or other location')       | 0.0691824   |\n",
            "| ('25-34', 'Female', 'Non-Hispanic black', 'Not injured')                                                                                         | 0.676301    |\n",
            "| ('25-34', 'Female', 'Non-Hispanic black', 'Treated at scene,home,medical office or other location')                                              | 0.174374    |\n",
            "| ('25-34', 'Female', 'Non-Hispanic black', 'Not treated')                                                                                         | 0.149326    |\n",
            "| ('25-34', 'Female', 'Non-Hispanic more than one race', 'Not injured')                                                                            | 0.704       |\n",
            "| ('25-34', 'Female', 'Non-Hispanic more than one race', 'Not treated')                                                                            | 0.16        |\n",
            "| ('25-34', 'Female', 'Non-Hispanic more than one race', 'Treated at scene,home,medical office or other location')                                 | 0.136       |\n",
            "| ('25-34', 'Female', 'Non-Hispanic white', 'Not injured')                                                                                         | 0.707526    |\n",
            "| ('25-34', 'Female', 'Non-Hispanic white', 'Not treated')                                                                                         | 0.170555    |\n",
            "| ('25-34', 'Female', 'Non-Hispanic white', 'Treated at scene,home,medical office or other location')                                              | 0.121039    |\n",
            "| ('25-34', 'Female', 'Non-Hispanic white', 'Do not know')                                                                                         | 0.000880282 |\n",
            "| ('25-34', 'Male', 'Hispanic', 'Not injured')                                                                                                     | 0.793065    |\n",
            "| ('25-34', 'Male', 'Hispanic', 'Treated at scene,home,medical office or other location')                                                          | 0.118568    |\n",
            "| ('25-34', 'Male', 'Hispanic', 'Not treated')                                                                                                     | 0.0883669   |\n",
            "| ('25-34', 'Male', 'Non-Hispanic American Indian/Alaska Native', 'Not injured')                                                                   | 0.647059    |\n",
            "| ('25-34', 'Male', 'Non-Hispanic American Indian/Alaska Native', 'Treated at scene,home,medical office or other location')                        | 0.211765    |\n",
            "| ('25-34', 'Male', 'Non-Hispanic American Indian/Alaska Native', 'Not treated')                                                                   | 0.141176    |\n",
            "| ('25-34', 'Male', 'Non-Hispanic Asian/Native Hawaiian/Other Pacific Islander', 'Not injured')                                                    | 0.822511    |\n",
            "| ('25-34', 'Male', 'Non-Hispanic Asian/Native Hawaiian/Other Pacific Islander', 'Treated at scene,home,medical office or other location')         | 0.0995671   |\n",
            "| ('25-34', 'Male', 'Non-Hispanic Asian/Native Hawaiian/Other Pacific Islander', 'Not treated')                                                    | 0.0779221   |\n",
            "| ('25-34', 'Male', 'Non-Hispanic black', 'Not injured')                                                                                           | 0.773885    |\n",
            "| ('25-34', 'Male', 'Non-Hispanic black', 'Treated at scene,home,medical office or other location')                                                | 0.136943    |\n",
            "| ('25-34', 'Male', 'Non-Hispanic black', 'Not treated')                                                                                           | 0.089172    |\n",
            "| ('25-34', 'Male', 'Non-Hispanic more than one race', 'Not injured')                                                                              | 0.785714    |\n",
            "| ('25-34', 'Male', 'Non-Hispanic more than one race', 'Not treated')                                                                              | 0.107143    |\n",
            "| ('25-34', 'Male', 'Non-Hispanic more than one race', 'Treated at scene,home,medical office or other location')                                   | 0.0892857   |\n",
            "| ('25-34', 'Male', 'Non-Hispanic more than one race', 'Do not know')                                                                              | 0.0178571   |\n",
            "| ('25-34', 'Male', 'Non-Hispanic white', 'Not injured')                                                                                           | 0.807431    |\n",
            "| ('25-34', 'Male', 'Non-Hispanic white', 'Not treated')                                                                                           | 0.096603    |\n",
            "| ('25-34', 'Male', 'Non-Hispanic white', 'Treated at scene,home,medical office or other location')                                                | 0.095966    |\n",
            "| ('35-49', 'Female', 'Hispanic', 'Not injured')                                                                                                   | 0.728238    |\n",
            "| ('35-49', 'Female', 'Hispanic', 'Not treated')                                                                                                   | 0.167728    |\n",
            "| ('35-49', 'Female', 'Hispanic', 'Treated at scene,home,medical office or other location')                                                        | 0.101911    |\n",
            "| ('35-49', 'Female', 'Hispanic', 'Do not know')                                                                                                   | 0.00212314  |\n",
            "| ('35-49', 'Female', 'Non-Hispanic American Indian/Alaska Native', 'Not injured')                                                                 | 0.693069    |\n",
            "| ('35-49', 'Female', 'Non-Hispanic American Indian/Alaska Native', 'Treated at scene,home,medical office or other location')                      | 0.19802     |\n",
            "| ('35-49', 'Female', 'Non-Hispanic American Indian/Alaska Native', 'Not treated')                                                                 | 0.108911    |\n",
            "| ('35-49', 'Female', 'Non-Hispanic Asian/Native Hawaiian/Other Pacific Islander', 'Not injured')                                                  | 0.75        |\n",
            "| ('35-49', 'Female', 'Non-Hispanic Asian/Native Hawaiian/Other Pacific Islander', 'Not treated')                                                  | 0.125       |\n",
            "| ('35-49', 'Female', 'Non-Hispanic Asian/Native Hawaiian/Other Pacific Islander', 'Treated at scene,home,medical office or other location')       | 0.125       |\n",
            "| ('35-49', 'Female', 'Non-Hispanic black', 'Not injured')                                                                                         | 0.712237    |\n",
            "| ('35-49', 'Female', 'Non-Hispanic black', 'Treated at scene,home,medical office or other location')                                              | 0.156788    |\n",
            "| ('35-49', 'Female', 'Non-Hispanic black', 'Not treated')                                                                                         | 0.130975    |\n",
            "| ('35-49', 'Female', 'Non-Hispanic more than one race', 'Not injured')                                                                            | 0.699248    |\n",
            "| ('35-49', 'Female', 'Non-Hispanic more than one race', 'Not treated')                                                                            | 0.165414    |\n",
            "| ('35-49', 'Female', 'Non-Hispanic more than one race', 'Treated at scene,home,medical office or other location')                                 | 0.135338    |\n",
            "| ('35-49', 'Female', 'Non-Hispanic white', 'Not injured')                                                                                         | 0.733287    |\n",
            "| ('35-49', 'Female', 'Non-Hispanic white', 'Not treated')                                                                                         | 0.156103    |\n",
            "| ('35-49', 'Female', 'Non-Hispanic white', 'Treated at scene,home,medical office or other location')                                              | 0.110089    |\n",
            "| ('35-49', 'Female', 'Non-Hispanic white', 'Do not know')                                                                                         | 0.000520924 |\n",
            "| ('35-49', 'Male', 'Hispanic', 'Not injured')                                                                                                     | 0.763614    |\n",
            "| ('35-49', 'Male', 'Hispanic', 'Treated at scene,home,medical office or other location')                                                          | 0.128713    |\n",
            "| ('35-49', 'Male', 'Hispanic', 'Not treated')                                                                                                     | 0.106436    |\n",
            "| ('35-49', 'Male', 'Hispanic', 'Do not know')                                                                                                     | 0.00123762  |\n",
            "| ('35-49', 'Male', 'Non-Hispanic American Indian/Alaska Native', 'Not injured')                                                                   | 0.735632    |\n",
            "| ('35-49', 'Male', 'Non-Hispanic American Indian/Alaska Native', 'Not treated')                                                                   | 0.149425    |\n",
            "| ('35-49', 'Male', 'Non-Hispanic American Indian/Alaska Native', 'Treated at scene,home,medical office or other location')                        | 0.114943    |\n",
            "| ('35-49', 'Male', 'Non-Hispanic Asian/Native Hawaiian/Other Pacific Islander', 'Not injured')                                                    | 0.855491    |\n",
            "| ('35-49', 'Male', 'Non-Hispanic Asian/Native Hawaiian/Other Pacific Islander', 'Treated at scene,home,medical office or other location')         | 0.0867052   |\n",
            "| ('35-49', 'Male', 'Non-Hispanic Asian/Native Hawaiian/Other Pacific Islander', 'Not treated')                                                    | 0.0520231   |\n",
            "| ('35-49', 'Male', 'Non-Hispanic Asian/Native Hawaiian/Other Pacific Islander', 'Residue')                                                        | 0.00578035  |\n",
            "| ('35-49', 'Male', 'Non-Hispanic black', 'Not injured')                                                                                           | 0.752336    |\n",
            "| ('35-49', 'Male', 'Non-Hispanic black', 'Treated at scene,home,medical office or other location')                                                | 0.153037    |\n",
            "| ('35-49', 'Male', 'Non-Hispanic black', 'Not treated')                                                                                           | 0.0911215   |\n",
            "| ('35-49', 'Male', 'Non-Hispanic black', 'Do not know')                                                                                           | 0.00350467  |\n",
            "| ('35-49', 'Male', 'Non-Hispanic more than one race', 'Not injured')                                                                              | 0.807692    |\n",
            "| ('35-49', 'Male', 'Non-Hispanic more than one race', 'Not treated')                                                                              | 0.0961538   |\n",
            "| ('35-49', 'Male', 'Non-Hispanic more than one race', 'Treated at scene,home,medical office or other location')                                   | 0.0961538   |\n",
            "| ('35-49', 'Male', 'Non-Hispanic white', 'Not injured')                                                                                           | 0.833333    |\n",
            "| ('35-49', 'Male', 'Non-Hispanic white', 'Treated at scene,home,medical office or other location')                                                | 0.0839612   |\n",
            "| ('35-49', 'Male', 'Non-Hispanic white', 'Not treated')                                                                                           | 0.0819878   |\n",
            "| ('35-49', 'Male', 'Non-Hispanic white', 'Do not know')                                                                                           | 0.000717618 |\n",
            "| ('50-64', 'Female', 'Hispanic', 'Not injured')                                                                                                   | 0.800699    |\n",
            "| ('50-64', 'Female', 'Hispanic', 'Treated at scene,home,medical office or other location')                                                        | 0.104895    |\n",
            "| ('50-64', 'Female', 'Hispanic', 'Not treated')                                                                                                   | 0.0944056   |\n",
            "| ('50-64', 'Female', 'Non-Hispanic American Indian/Alaska Native', 'Not injured')                                                                 | 0.780488    |\n",
            "| ('50-64', 'Female', 'Non-Hispanic American Indian/Alaska Native', 'Not treated')                                                                 | 0.121951    |\n",
            "| ('50-64', 'Female', 'Non-Hispanic American Indian/Alaska Native', 'Treated at scene,home,medical office or other location')                      | 0.0731707   |\n",
            "| ('50-64', 'Female', 'Non-Hispanic American Indian/Alaska Native', 'Do not know')                                                                 | 0.0243902   |\n",
            "| ('50-64', 'Female', 'Non-Hispanic Asian/Native Hawaiian/Other Pacific Islander', 'Not injured')                                                  | 0.802632    |\n",
            "| ('50-64', 'Female', 'Non-Hispanic Asian/Native Hawaiian/Other Pacific Islander', 'Not treated')                                                  | 0.105263    |\n",
            "| ('50-64', 'Female', 'Non-Hispanic Asian/Native Hawaiian/Other Pacific Islander', 'Treated at scene,home,medical office or other location')       | 0.0789474   |\n",
            "| ('50-64', 'Female', 'Non-Hispanic Asian/Native Hawaiian/Other Pacific Islander', 'Do not know')                                                  | 0.0131579   |\n",
            "| ('50-64', 'Female', 'Non-Hispanic black', 'Not injured')                                                                                         | 0.740741    |\n",
            "| ('50-64', 'Female', 'Non-Hispanic black', 'Not treated')                                                                                         | 0.132898    |\n",
            "| ('50-64', 'Female', 'Non-Hispanic black', 'Treated at scene,home,medical office or other location')                                              | 0.124183    |\n",
            "| ('50-64', 'Female', 'Non-Hispanic black', 'Do not know')                                                                                         | 0.00217865  |\n",
            "| ('50-64', 'Female', 'Non-Hispanic more than one race', 'Not injured')                                                                            | 0.678571    |\n",
            "| ('50-64', 'Female', 'Non-Hispanic more than one race', 'Not treated')                                                                            | 0.154762    |\n",
            "| ('50-64', 'Female', 'Non-Hispanic more than one race', 'Treated at scene,home,medical office or other location')                                 | 0.154762    |\n",
            "| ('50-64', 'Female', 'Non-Hispanic more than one race', 'Do not know')                                                                            | 0.0119048   |\n",
            "| ('50-64', 'Female', 'Non-Hispanic white', 'Not injured')                                                                                         | 0.790877    |\n",
            "| ('50-64', 'Female', 'Non-Hispanic white', 'Not treated')                                                                                         | 0.115002    |\n",
            "| ('50-64', 'Female', 'Non-Hispanic white', 'Treated at scene,home,medical office or other location')                                              | 0.0925153   |\n",
            "| ('50-64', 'Female', 'Non-Hispanic white', 'Do not know')                                                                                         | 0.00160617  |\n",
            "| ('50-64', 'Male', 'Hispanic', 'Not injured')                                                                                                     | 0.82967     |\n",
            "| ('50-64', 'Male', 'Hispanic', 'Treated at scene,home,medical office or other location')                                                          | 0.101648    |\n",
            "| ('50-64', 'Male', 'Hispanic', 'Not treated')                                                                                                     | 0.0659341   |\n",
            "| ('50-64', 'Male', 'Hispanic', 'Do not know')                                                                                                     | 0.00274725  |\n",
            "| ('50-64', 'Male', 'Non-Hispanic American Indian/Alaska Native', 'Not injured')                                                                   | 0.666667    |\n",
            "| ('50-64', 'Male', 'Non-Hispanic American Indian/Alaska Native', 'Not treated')                                                                   | 0.166667    |\n",
            "| ('50-64', 'Male', 'Non-Hispanic American Indian/Alaska Native', 'Treated at scene,home,medical office or other location')                        | 0.166667    |\n",
            "| ('50-64', 'Male', 'Non-Hispanic Asian/Native Hawaiian/Other Pacific Islander', 'Not injured')                                                    | 0.763889    |\n",
            "| ('50-64', 'Male', 'Non-Hispanic Asian/Native Hawaiian/Other Pacific Islander', 'Treated at scene,home,medical office or other location')         | 0.138889    |\n",
            "| ('50-64', 'Male', 'Non-Hispanic Asian/Native Hawaiian/Other Pacific Islander', 'Not treated')                                                    | 0.0972222   |\n",
            "| ('50-64', 'Male', 'Non-Hispanic black', 'Not injured')                                                                                           | 0.788793    |\n",
            "| ('50-64', 'Male', 'Non-Hispanic black', 'Treated at scene,home,medical office or other location')                                                | 0.133621    |\n",
            "| ('50-64', 'Male', 'Non-Hispanic black', 'Not treated')                                                                                           | 0.0775862   |\n",
            "| ('50-64', 'Male', 'Non-Hispanic more than one race', 'Not injured')                                                                              | 0.762887    |\n",
            "| ('50-64', 'Male', 'Non-Hispanic more than one race', 'Treated at scene,home,medical office or other location')                                   | 0.123711    |\n",
            "| ('50-64', 'Male', 'Non-Hispanic more than one race', 'Not treated')                                                                              | 0.113402    |\n",
            "| ('50-64', 'Male', 'Non-Hispanic white', 'Not injured')                                                                                           | 0.829711    |\n",
            "| ('50-64', 'Male', 'Non-Hispanic white', 'Treated at scene,home,medical office or other location')                                                | 0.0853065   |\n",
            "| ('50-64', 'Male', 'Non-Hispanic white', 'Not treated')                                                                                           | 0.0843334   |\n",
            "| ('50-64', 'Male', 'Non-Hispanic white', 'Do not know')                                                                                           | 0.000648719 |\n",
            "| ('65 or older', 'Female', 'Hispanic', 'Not injured')                                                                                             | 0.73913     |\n",
            "| ('65 or older', 'Female', 'Hispanic', 'Treated at scene,home,medical office or other location')                                                  | 0.141304    |\n",
            "| ('65 or older', 'Female', 'Hispanic', 'Not treated')                                                                                             | 0.119565    |\n",
            "| ('65 or older', 'Female', 'Non-Hispanic American Indian/Alaska Native', 'Not injured')                                                           | 0.75        |\n",
            "| ('65 or older', 'Female', 'Non-Hispanic American Indian/Alaska Native', 'Treated at scene,home,medical office or other location')                | 0.25        |\n",
            "| ('65 or older', 'Female', 'Non-Hispanic Asian/Native Hawaiian/Other Pacific Islander', 'Not injured')                                            | 0.758621    |\n",
            "| ('65 or older', 'Female', 'Non-Hispanic Asian/Native Hawaiian/Other Pacific Islander', 'Not treated')                                            | 0.137931    |\n",
            "| ('65 or older', 'Female', 'Non-Hispanic Asian/Native Hawaiian/Other Pacific Islander', 'Treated at scene,home,medical office or other location') | 0.103448    |\n",
            "| ('65 or older', 'Female', 'Non-Hispanic black', 'Not injured')                                                                                   | 0.803922    |\n",
            "| ('65 or older', 'Female', 'Non-Hispanic black', 'Treated at scene,home,medical office or other location')                                        | 0.104575    |\n",
            "| ('65 or older', 'Female', 'Non-Hispanic black', 'Not treated')                                                                                   | 0.0915033   |\n",
            "| ('65 or older', 'Female', 'Non-Hispanic more than one race', 'Not injured')                                                                      | 0.833333    |\n",
            "| ('65 or older', 'Female', 'Non-Hispanic more than one race', 'Not treated')                                                                      | 0.1         |\n",
            "| ('65 or older', 'Female', 'Non-Hispanic more than one race', 'Treated at scene,home,medical office or other location')                           | 0.0666667   |\n",
            "| ('65 or older', 'Female', 'Non-Hispanic white', 'Not injured')                                                                                   | 0.825593    |\n",
            "| ('65 or older', 'Female', 'Non-Hispanic white', 'Not treated')                                                                                   | 0.0918473   |\n",
            "| ('65 or older', 'Female', 'Non-Hispanic white', 'Treated at scene,home,medical office or other location')                                        | 0.0815273   |\n",
            "| ('65 or older', 'Female', 'Non-Hispanic white', 'Do not know')                                                                                   | 0.00103199  |\n",
            "| ('65 or older', 'Male', 'Hispanic', 'Not injured')                                                                                               | 0.852941    |\n",
            "| ('65 or older', 'Male', 'Hispanic', 'Treated at scene,home,medical office or other location')                                                    | 0.0980392   |\n",
            "| ('65 or older', 'Male', 'Hispanic', 'Not treated')                                                                                               | 0.0490196   |\n",
            "| ('65 or older', 'Male', 'Non-Hispanic American Indian/Alaska Native', 'Not injured')                                                             | 0.666667    |\n",
            "| ('65 or older', 'Male', 'Non-Hispanic American Indian/Alaska Native', 'Treated at scene,home,medical office or other location')                  | 0.333333    |\n",
            "| ('65 or older', 'Male', 'Non-Hispanic Asian/Native Hawaiian/Other Pacific Islander', 'Not injured')                                              | 0.882353    |\n",
            "| ('65 or older', 'Male', 'Non-Hispanic Asian/Native Hawaiian/Other Pacific Islander', 'Not treated')                                              | 0.0588235   |\n",
            "| ('65 or older', 'Male', 'Non-Hispanic Asian/Native Hawaiian/Other Pacific Islander', 'Treated at scene,home,medical office or other location')   | 0.0588235   |\n",
            "| ('65 or older', 'Male', 'Non-Hispanic black', 'Not injured')                                                                                     | 0.859259    |\n",
            "| ('65 or older', 'Male', 'Non-Hispanic black', 'Not treated')                                                                                     | 0.0814815   |\n",
            "| ('65 or older', 'Male', 'Non-Hispanic black', 'Treated at scene,home,medical office or other location')                                          | 0.0592593   |\n",
            "| ('65 or older', 'Male', 'Non-Hispanic more than one race', 'Not injured')                                                                        | 0.888889    |\n",
            "| ('65 or older', 'Male', 'Non-Hispanic more than one race', 'Treated at scene,home,medical office or other location')                             | 0.111111    |\n",
            "| ('65 or older', 'Male', 'Non-Hispanic white', 'Not injured')                                                                                     | 0.83587     |\n",
            "| ('65 or older', 'Male', 'Non-Hispanic white', 'Treated at scene,home,medical office or other location')                                          | 0.0923913   |\n",
            "| ('65 or older', 'Male', 'Non-Hispanic white', 'Not treated')                                                                                     | 0.0706522   |\n",
            "| ('65 or older', 'Male', 'Non-Hispanic white', 'Do not know')                                                                                     | 0.00108696  |\n"
          ]
        }
      ]
    },
    {
      "cell_type": "markdown",
      "source": [
        "For question 4 and 5 we need georgia dataset so here is the georgia dataset cleaning."
      ],
      "metadata": {
        "id": "Byz4ACQ28IYh"
      }
    },
    {
      "cell_type": "code",
      "source": [
        "import requests\n",
        "import pandas as pd\n",
        "import seaborn as sns\n",
        "import matplotlib.pyplot as plt"
      ],
      "metadata": {
        "id": "grweT21n8MfR"
      },
      "execution_count": 42,
      "outputs": []
    },
    {
      "cell_type": "markdown",
      "source": [
        "# **Collecting data**"
      ],
      "metadata": {
        "id": "8gjapab78pFp"
      }
    },
    {
      "cell_type": "code",
      "source": [
        "# # the victmization data set --> the people who faced crimes\n",
        "# URL= 'https://data.ojp.usdoj.gov/resource/gcuy-rt5g.csv?$limit=10000000'\n",
        "# r=requests.get(URL)\n",
        "# with open('Victimization.csv',mode='w') as fhand:\n",
        "#     fhand.write(r.text)\n",
        "\n",
        "# # the population data set --> all the people asked in the interview\n",
        "# URL= 'https://data.ojp.usdoj.gov/resource/r4j4-fdwx.csv?$limit=10000000'\n",
        "# r=requests.get(URL)\n",
        "# with open('Population.csv',mode='w') as fhand:\n",
        "#     fhand.write(r.text)\n",
        "    \n",
        "URL = \"https://data.ojp.usdoj.gov/resource/ynf5-u8nk.csv?$limit=1000000\"\n",
        "r=requests.get(URL)\n",
        "with open('Gorgia.csv',mode='w') as fhand:\n",
        "    fhand.write(r.text)\n",
        "r\n",
        "# URL = \"https://api.usa.gov/crime/fbi/sapi/api/agencies?API_KEY=gaahNZpPjm43NSaIqSeTTq2x3b4VDHeDGqcP1gd6\"\n",
        "# r=requests.get(URL)\n",
        "# r\n",
        "# #with open('Gorgia.csv',mode='w') as fhand:\n",
        "#     #fhand.write(r.text)\n"
      ],
      "metadata": {
        "colab": {
          "base_uri": "https://localhost:8080/"
        },
        "id": "zrJc-yWa8QzP",
        "outputId": "b86d80dd-be8d-46fa-b88e-534ca7891cfe"
      },
      "execution_count": 169,
      "outputs": [
        {
          "output_type": "execute_result",
          "data": {
            "text/plain": [
              "<Response [200]>"
            ]
          },
          "metadata": {},
          "execution_count": 169
        }
      ]
    },
    {
      "cell_type": "code",
      "source": [
        "r\n",
        "df=pd.read_csv('Gorgia.csv')\n",
        "df.head"
      ],
      "metadata": {
        "colab": {
          "base_uri": "https://localhost:8080/"
        },
        "id": "kGjdn1dM9QEw",
        "outputId": "cd866076-8fba-4ed4-9759-665f2776b415"
      },
      "execution_count": 170,
      "outputs": [
        {
          "output_type": "execute_result",
          "data": {
            "text/plain": [
              "<bound method NDFrame.head of           id gender   race age_at_release  residence_puma gang_affiliated  \\\n",
              "0          1      M  BLACK          43-47              16           False   \n",
              "1          2      M  BLACK          33-37              16           False   \n",
              "2          3      M  BLACK    48 or older              24           False   \n",
              "3          4      M  WHITE          38-42              16           False   \n",
              "4          5      M  WHITE          33-37              16           False   \n",
              "...      ...    ...    ...            ...             ...             ...   \n",
              "25830  26756      M  BLACK          23-27               9           False   \n",
              "25831  26758      M  WHITE          38-42              25           False   \n",
              "25832  26759      M  BLACK          33-37              15           False   \n",
              "25833  26760      F  WHITE          33-37              15             NaN   \n",
              "25834  26761      M  WHITE          28-32              12           False   \n",
              "\n",
              "       supervision_risk_score_first supervision_level_first  \\\n",
              "0                               3.0                Standard   \n",
              "1                               6.0             Specialized   \n",
              "2                               7.0                    High   \n",
              "3                               7.0                    High   \n",
              "4                               4.0             Specialized   \n",
              "...                             ...                     ...   \n",
              "25830                           5.0                Standard   \n",
              "25831                           5.0                Standard   \n",
              "25832                           5.0                Standard   \n",
              "25833                           5.0                Standard   \n",
              "25834                           5.0                Standard   \n",
              "\n",
              "             education_level dependents  ... drugtests_meth_positive  \\\n",
              "0      At least some college  3 or more  ...                0.000000   \n",
              "1       Less than HS diploma          1  ...                0.000000   \n",
              "2      At least some college  3 or more  ...                0.166667   \n",
              "3       Less than HS diploma          1  ...                0.000000   \n",
              "4       Less than HS diploma  3 or more  ...                0.058824   \n",
              "...                      ...        ...  ...                     ...   \n",
              "25830  At least some college          1  ...                0.000000   \n",
              "25831  At least some college  3 or more  ...                0.000000   \n",
              "25832  At least some college  3 or more  ...                     NaN   \n",
              "25833  At least some college  3 or more  ...                0.000000   \n",
              "25834    High School Diploma  3 or more  ...                0.000000   \n",
              "\n",
              "      drugtests_other_positive percent_days_employed jobs_per_year  \\\n",
              "0                          0.0              0.488562      0.447610   \n",
              "1                          0.0              0.425234      2.000000   \n",
              "2                          0.0              0.000000      0.000000   \n",
              "3                          0.0              1.000000      0.718996   \n",
              "4                          0.0              0.203562      0.929389   \n",
              "...                        ...                   ...           ...   \n",
              "25830                      0.0              0.189507      0.572044   \n",
              "25831                      0.0              0.757098      0.576104   \n",
              "25832                      NaN              0.711138      0.894125   \n",
              "25833                      0.0              0.000000      0.000000   \n",
              "25834                      0.0              0.124454      0.398745   \n",
              "\n",
              "      employment_exempt recidivism_within_3years recidivism_arrest_year1  \\\n",
              "0                 False                    False                   False   \n",
              "1                 False                     True                   False   \n",
              "2                 False                     True                   False   \n",
              "3                 False                    False                   False   \n",
              "4                 False                     True                    True   \n",
              "...                 ...                      ...                     ...   \n",
              "25830             False                     True                    True   \n",
              "25831             False                     True                   False   \n",
              "25832             False                     True                   False   \n",
              "25833              True                    False                   False   \n",
              "25834             False                     True                    True   \n",
              "\n",
              "      recidivism_arrest_year2  recidivism_arrest_year3  training_sample  \n",
              "0                       False                    False                1  \n",
              "1                       False                     True                1  \n",
              "2                        True                    False                1  \n",
              "3                       False                    False                1  \n",
              "4                       False                    False                1  \n",
              "...                       ...                      ...              ...  \n",
              "25830                   False                    False                1  \n",
              "25831                    True                    False                1  \n",
              "25832                    True                    False                1  \n",
              "25833                   False                    False                1  \n",
              "25834                   False                    False                1  \n",
              "\n",
              "[25835 rows x 54 columns]>"
            ]
          },
          "metadata": {},
          "execution_count": 170
        }
      ]
    },
    {
      "cell_type": "code",
      "source": [
        "df.tail"
      ],
      "metadata": {
        "colab": {
          "base_uri": "https://localhost:8080/"
        },
        "id": "D_zGGadh9Sm7",
        "outputId": "53e3f37f-8a10-455f-bc80-6085bf42117d"
      },
      "execution_count": 171,
      "outputs": [
        {
          "output_type": "execute_result",
          "data": {
            "text/plain": [
              "<bound method NDFrame.tail of           id gender   race age_at_release  residence_puma gang_affiliated  \\\n",
              "0          1      M  BLACK          43-47              16           False   \n",
              "1          2      M  BLACK          33-37              16           False   \n",
              "2          3      M  BLACK    48 or older              24           False   \n",
              "3          4      M  WHITE          38-42              16           False   \n",
              "4          5      M  WHITE          33-37              16           False   \n",
              "...      ...    ...    ...            ...             ...             ...   \n",
              "25830  26756      M  BLACK          23-27               9           False   \n",
              "25831  26758      M  WHITE          38-42              25           False   \n",
              "25832  26759      M  BLACK          33-37              15           False   \n",
              "25833  26760      F  WHITE          33-37              15             NaN   \n",
              "25834  26761      M  WHITE          28-32              12           False   \n",
              "\n",
              "       supervision_risk_score_first supervision_level_first  \\\n",
              "0                               3.0                Standard   \n",
              "1                               6.0             Specialized   \n",
              "2                               7.0                    High   \n",
              "3                               7.0                    High   \n",
              "4                               4.0             Specialized   \n",
              "...                             ...                     ...   \n",
              "25830                           5.0                Standard   \n",
              "25831                           5.0                Standard   \n",
              "25832                           5.0                Standard   \n",
              "25833                           5.0                Standard   \n",
              "25834                           5.0                Standard   \n",
              "\n",
              "             education_level dependents  ... drugtests_meth_positive  \\\n",
              "0      At least some college  3 or more  ...                0.000000   \n",
              "1       Less than HS diploma          1  ...                0.000000   \n",
              "2      At least some college  3 or more  ...                0.166667   \n",
              "3       Less than HS diploma          1  ...                0.000000   \n",
              "4       Less than HS diploma  3 or more  ...                0.058824   \n",
              "...                      ...        ...  ...                     ...   \n",
              "25830  At least some college          1  ...                0.000000   \n",
              "25831  At least some college  3 or more  ...                0.000000   \n",
              "25832  At least some college  3 or more  ...                     NaN   \n",
              "25833  At least some college  3 or more  ...                0.000000   \n",
              "25834    High School Diploma  3 or more  ...                0.000000   \n",
              "\n",
              "      drugtests_other_positive percent_days_employed jobs_per_year  \\\n",
              "0                          0.0              0.488562      0.447610   \n",
              "1                          0.0              0.425234      2.000000   \n",
              "2                          0.0              0.000000      0.000000   \n",
              "3                          0.0              1.000000      0.718996   \n",
              "4                          0.0              0.203562      0.929389   \n",
              "...                        ...                   ...           ...   \n",
              "25830                      0.0              0.189507      0.572044   \n",
              "25831                      0.0              0.757098      0.576104   \n",
              "25832                      NaN              0.711138      0.894125   \n",
              "25833                      0.0              0.000000      0.000000   \n",
              "25834                      0.0              0.124454      0.398745   \n",
              "\n",
              "      employment_exempt recidivism_within_3years recidivism_arrest_year1  \\\n",
              "0                 False                    False                   False   \n",
              "1                 False                     True                   False   \n",
              "2                 False                     True                   False   \n",
              "3                 False                    False                   False   \n",
              "4                 False                     True                    True   \n",
              "...                 ...                      ...                     ...   \n",
              "25830             False                     True                    True   \n",
              "25831             False                     True                   False   \n",
              "25832             False                     True                   False   \n",
              "25833              True                    False                   False   \n",
              "25834             False                     True                    True   \n",
              "\n",
              "      recidivism_arrest_year2  recidivism_arrest_year3  training_sample  \n",
              "0                       False                    False                1  \n",
              "1                       False                     True                1  \n",
              "2                        True                    False                1  \n",
              "3                       False                    False                1  \n",
              "4                       False                    False                1  \n",
              "...                       ...                      ...              ...  \n",
              "25830                   False                    False                1  \n",
              "25831                    True                    False                1  \n",
              "25832                    True                    False                1  \n",
              "25833                   False                    False                1  \n",
              "25834                   False                    False                1  \n",
              "\n",
              "[25835 rows x 54 columns]>"
            ]
          },
          "metadata": {},
          "execution_count": 171
        }
      ]
    },
    {
      "cell_type": "code",
      "source": [
        "df.isnull().sum()"
      ],
      "metadata": {
        "colab": {
          "base_uri": "https://localhost:8080/"
        },
        "id": "JjlXmEvX9VWI",
        "outputId": "ff3e0327-e7d2-41bc-d93a-7a45336cfb3f"
      },
      "execution_count": 172,
      "outputs": [
        {
          "output_type": "execute_result",
          "data": {
            "text/plain": [
              "id                                   0\n",
              "gender                               0\n",
              "race                                 0\n",
              "age_at_release                       0\n",
              "residence_puma                       0\n",
              "gang_affiliated                   3167\n",
              "supervision_risk_score_first       475\n",
              "supervision_level_first           1720\n",
              "education_level                      0\n",
              "dependents                           0\n",
              "prison_offense                    3277\n",
              "prison_years                         0\n",
              "prior_arrest_episodes_felony         0\n",
              "prior_arrest_episodes_misd           0\n",
              "prior_arrest_episodes_violent        0\n",
              "prior_arrest_episodes_property       0\n",
              "prior_arrest_episodes_drug           0\n",
              "prior_arrest_episodes                0\n",
              "prior_arrest_episodes_1              0\n",
              "prior_arrest_episodes_2              0\n",
              "prior_conviction_episodes            0\n",
              "prior_conviction_episodes_1          0\n",
              "prior_conviction_episodes_2          0\n",
              "prior_conviction_episodes_3          0\n",
              "prior_conviction_episodes_4          0\n",
              "prior_conviction_episodes_5          0\n",
              "prior_conviction_episodes_6          0\n",
              "prior_conviction_episodes_7          0\n",
              "prior_revocations_parole             0\n",
              "prior_revocations_probation          0\n",
              "condition_mh_sa                      0\n",
              "condition_cog_ed                     0\n",
              "condition_other                      0\n",
              "violations                           0\n",
              "violations_instruction               0\n",
              "violations_failtoreport              0\n",
              "violations_1                         0\n",
              "delinquency_reports                  0\n",
              "program_attendances                  0\n",
              "program_unexcusedabsences            0\n",
              "residence_changes                    0\n",
              "avg_days_per_drugtest             6103\n",
              "drugtests_thc_positive            5172\n",
              "drugtests_cocaine_positive        5172\n",
              "drugtests_meth_positive           5172\n",
              "drugtests_other_positive          5172\n",
              "percent_days_employed              462\n",
              "jobs_per_year                      808\n",
              "employment_exempt                    0\n",
              "recidivism_within_3years             0\n",
              "recidivism_arrest_year1              0\n",
              "recidivism_arrest_year2              0\n",
              "recidivism_arrest_year3              0\n",
              "training_sample                      0\n",
              "dtype: int64"
            ]
          },
          "metadata": {},
          "execution_count": 172
        }
      ]
    },
    {
      "cell_type": "code",
      "source": [
        "class_counts = df['gang_affiliated'].value_counts()"
      ],
      "metadata": {
        "id": "36gLWul79YIo"
      },
      "execution_count": 232,
      "outputs": []
    },
    {
      "cell_type": "code",
      "source": [
        "class_counts"
      ],
      "metadata": {
        "colab": {
          "base_uri": "https://localhost:8080/"
        },
        "id": "f4rGiXE69aZx",
        "outputId": "b7917f46-8e5f-4e2b-e1e9-2feceb6c9b56"
      },
      "execution_count": 233,
      "outputs": [
        {
          "output_type": "execute_result",
          "data": {
            "text/plain": [
              "False    18730\n",
              "True      3938\n",
              "Name: gang_affiliated, dtype: int64"
            ]
          },
          "metadata": {},
          "execution_count": 233
        }
      ]
    },
    {
      "cell_type": "code",
      "source": [
        "df['gang_affiliated'] = df['gang_affiliated'].fillna(False)"
      ],
      "metadata": {
        "id": "iVHW9hIC9dT-"
      },
      "execution_count": 234,
      "outputs": []
    },
    {
      "cell_type": "code",
      "source": [
        "class_counts = df['gang_affiliated'].value_counts()\n",
        "class_counts"
      ],
      "metadata": {
        "colab": {
          "base_uri": "https://localhost:8080/"
        },
        "id": "4iAX5rre9f1e",
        "outputId": "c8b7b534-1585-4ef8-a56f-c9c56325528b"
      },
      "execution_count": 235,
      "outputs": [
        {
          "output_type": "execute_result",
          "data": {
            "text/plain": [
              "False    21897\n",
              "True      3938\n",
              "Name: gang_affiliated, dtype: int64"
            ]
          },
          "metadata": {},
          "execution_count": 235
        }
      ]
    },
    {
      "cell_type": "code",
      "source": [
        "mean_values = df['supervision_risk_score_first'].mean()\n",
        "\n",
        "int(mean_values)\n",
        "# Replace null values with the mean of the column\n"
      ],
      "metadata": {
        "colab": {
          "base_uri": "https://localhost:8080/"
        },
        "id": "ChUfZbEa9iFW",
        "outputId": "f14e2ecf-73b9-48f1-80c8-cae3f86922b9"
      },
      "execution_count": 236,
      "outputs": [
        {
          "output_type": "execute_result",
          "data": {
            "text/plain": [
              "6"
            ]
          },
          "metadata": {},
          "execution_count": 236
        }
      ]
    },
    {
      "cell_type": "code",
      "source": [
        "df['supervision_risk_score_first'] = df['supervision_risk_score_first'].fillna(int(mean_values))"
      ],
      "metadata": {
        "id": "8aY5o1qj9kLs"
      },
      "execution_count": 237,
      "outputs": []
    },
    {
      "cell_type": "code",
      "source": [
        "class_countss = df['supervision_level_first'].value_counts()\n",
        "class_countss"
      ],
      "metadata": {
        "colab": {
          "base_uri": "https://localhost:8080/"
        },
        "id": "NhNBfnF99mZf",
        "outputId": "e74e1f52-3d68-455d-b9df-6015e1aeb33f"
      },
      "execution_count": 238,
      "outputs": [
        {
          "output_type": "execute_result",
          "data": {
            "text/plain": [
              "Standard       9983\n",
              "Specialized    7123\n",
              "High           7009\n",
              "Name: supervision_level_first, dtype: int64"
            ]
          },
          "metadata": {},
          "execution_count": 238
        }
      ]
    },
    {
      "cell_type": "code",
      "source": [
        "test = df['supervision_level_first'].bfill()"
      ],
      "metadata": {
        "id": "l_7Lf5_m9pG7"
      },
      "execution_count": 239,
      "outputs": []
    },
    {
      "cell_type": "code",
      "source": [
        "class_countss = test.value_counts()\n",
        "class_countss"
      ],
      "metadata": {
        "colab": {
          "base_uri": "https://localhost:8080/"
        },
        "id": "qD-CP68D9uQp",
        "outputId": "fb249ca8-46bc-4491-eb71-31c49d4c2fe4"
      },
      "execution_count": 240,
      "outputs": [
        {
          "output_type": "execute_result",
          "data": {
            "text/plain": [
              "Standard       10699\n",
              "Specialized     7651\n",
              "High            7485\n",
              "Name: supervision_level_first, dtype: int64"
            ]
          },
          "metadata": {},
          "execution_count": 240
        }
      ]
    },
    {
      "cell_type": "code",
      "source": [
        "test2 = df['supervision_level_first'].ffill()"
      ],
      "metadata": {
        "id": "Q5VaSjfw920i"
      },
      "execution_count": 241,
      "outputs": []
    },
    {
      "cell_type": "code",
      "source": [
        "class_countss = test2.value_counts()\n",
        "class_countss"
      ],
      "metadata": {
        "colab": {
          "base_uri": "https://localhost:8080/"
        },
        "id": "MpiRL8hr95Ge",
        "outputId": "698e147c-abb3-4f4d-999d-e0527e5314ed"
      },
      "execution_count": 242,
      "outputs": [
        {
          "output_type": "execute_result",
          "data": {
            "text/plain": [
              "Standard       10666\n",
              "Specialized     7633\n",
              "High            7536\n",
              "Name: supervision_level_first, dtype: int64"
            ]
          },
          "metadata": {},
          "execution_count": 242
        }
      ]
    },
    {
      "cell_type": "code",
      "source": [
        "df['supervision_level_first'] = df['supervision_level_first'].ffill()"
      ],
      "metadata": {
        "id": "yG_Xg4lb97Kn"
      },
      "execution_count": 243,
      "outputs": []
    },
    {
      "cell_type": "code",
      "source": [
        "class_countss = df['prison_offense'].value_counts()\n",
        "class_countss"
      ],
      "metadata": {
        "colab": {
          "base_uri": "https://localhost:8080/"
        },
        "id": "Jt57Hk5i99ez",
        "outputId": "21d13db3-1f6c-48c4-a42d-30ff86700101"
      },
      "execution_count": 244,
      "outputs": [
        {
          "output_type": "execute_result",
          "data": {
            "text/plain": [
              "Property           8284\n",
              "Violent/Non-Sex    5475\n",
              "Drug               5190\n",
              "Other              2779\n",
              "Violent/Sex         830\n",
              "Name: prison_offense, dtype: int64"
            ]
          },
          "metadata": {},
          "execution_count": 244
        }
      ]
    },
    {
      "cell_type": "code",
      "source": [
        "df['prison_offense'] = df['prison_offense'].ffill()"
      ],
      "metadata": {
        "id": "RjazoOUe9_y0"
      },
      "execution_count": 245,
      "outputs": []
    },
    {
      "cell_type": "code",
      "source": [
        "class_countss = df['prison_offense'].value_counts()\n",
        "class_countss"
      ],
      "metadata": {
        "colab": {
          "base_uri": "https://localhost:8080/"
        },
        "id": "ykmk8E5A-CDG",
        "outputId": "a15284e7-60b0-4b1b-8f7e-6fd4da635188"
      },
      "execution_count": 246,
      "outputs": [
        {
          "output_type": "execute_result",
          "data": {
            "text/plain": [
              "Property           9493\n",
              "Violent/Non-Sex    6221\n",
              "Drug               6004\n",
              "Other              3189\n",
              "Violent/Sex         928\n",
              "Name: prison_offense, dtype: int64"
            ]
          },
          "metadata": {},
          "execution_count": 246
        }
      ]
    },
    {
      "cell_type": "code",
      "source": [
        "skewness = df['avg_days_per_drugtest'].skew()\n",
        "\n",
        "# Print the skewness values\n",
        "print(skewness)"
      ],
      "metadata": {
        "colab": {
          "base_uri": "https://localhost:8080/"
        },
        "id": "wh0BjfS7-EOr",
        "outputId": "e0e0c79f-3aa0-44d3-b40c-f1af7a39eb4c"
      },
      "execution_count": 247,
      "outputs": [
        {
          "output_type": "stream",
          "name": "stdout",
          "text": [
            "3.494799511798166\n"
          ]
        }
      ]
    },
    {
      "cell_type": "markdown",
      "source": [
        "Data here is skewed so we will use median"
      ],
      "metadata": {
        "id": "Dv7DuasB-JQL"
      }
    },
    {
      "cell_type": "code",
      "source": [
        "mediann_values = df['avg_days_per_drugtest'].median()\n",
        "mediann_values\n",
        "df['avg_days_per_drugtest'] = df['avg_days_per_drugtest'].fillna(mediann_values)"
      ],
      "metadata": {
        "id": "SRpwfZY--GPH"
      },
      "execution_count": 248,
      "outputs": []
    },
    {
      "cell_type": "code",
      "source": [
        "mediann_values"
      ],
      "metadata": {
        "colab": {
          "base_uri": "https://localhost:8080/"
        },
        "id": "l_cmHVae-Lg8",
        "outputId": "518c423f-dbf1-4c2b-967d-dcfd72287dfc"
      },
      "execution_count": 249,
      "outputs": [
        {
          "output_type": "execute_result",
          "data": {
            "text/plain": [
              "55.42481203"
            ]
          },
          "metadata": {},
          "execution_count": 249
        }
      ]
    },
    {
      "cell_type": "code",
      "source": [
        "\n",
        "skewness = df['drugtests_thc_positive'].skew()\n",
        "\n",
        "# Print the skewness values\n",
        "print(skewness)"
      ],
      "metadata": {
        "colab": {
          "base_uri": "https://localhost:8080/"
        },
        "id": "EtAAfaND-N_0",
        "outputId": "a62aa1d7-e2c5-4ea3-907c-915de3d28894"
      },
      "execution_count": 250,
      "outputs": [
        {
          "output_type": "stream",
          "name": "stdout",
          "text": [
            "3.4845726795342618\n"
          ]
        }
      ]
    },
    {
      "cell_type": "code",
      "source": [
        "mediann_values = df['drugtests_thc_positive'].median()\n",
        "df['drugtests_thc_positive'] = df['drugtests_thc_positive'].fillna(mediann_values)"
      ],
      "metadata": {
        "id": "Y5d80A-P-PR0"
      },
      "execution_count": 251,
      "outputs": []
    },
    {
      "cell_type": "code",
      "source": [
        "mediann_values"
      ],
      "metadata": {
        "colab": {
          "base_uri": "https://localhost:8080/"
        },
        "id": "s4b39asQ-QzF",
        "outputId": "39332571-97ab-4913-c082-1e8d9b24fd2d"
      },
      "execution_count": 252,
      "outputs": [
        {
          "output_type": "execute_result",
          "data": {
            "text/plain": [
              "0.0"
            ]
          },
          "metadata": {},
          "execution_count": 252
        }
      ]
    },
    {
      "cell_type": "code",
      "source": [
        "\n",
        "mediann_values = df['drugtests_cocaine_positive'].median()\n",
        "df['drugtests_cocaine_positive'] = df['drugtests_cocaine_positive'].fillna(mediann_values)"
      ],
      "metadata": {
        "id": "PURUHuVf-ScT"
      },
      "execution_count": 253,
      "outputs": []
    },
    {
      "cell_type": "code",
      "source": [
        "\n",
        "mediann_values = df['drugtests_meth_positive'].median()\n",
        "df['drugtests_meth_positive'] = df['drugtests_meth_positive'].fillna(mediann_values)"
      ],
      "metadata": {
        "id": "YwRAz4Zc-T2-"
      },
      "execution_count": 254,
      "outputs": []
    },
    {
      "cell_type": "code",
      "source": [
        "\n",
        "mediann_values = df['drugtests_other_positive'].median()\n",
        "df['drugtests_other_positive'] = df['drugtests_other_positive'].fillna(mediann_values)"
      ],
      "metadata": {
        "id": "Hif10HOz-VlK"
      },
      "execution_count": 255,
      "outputs": []
    },
    {
      "cell_type": "code",
      "source": [
        "skewness = df['percent_days_employed'].skew()\n",
        "# Print the skewness values\n",
        "print(skewness)"
      ],
      "metadata": {
        "colab": {
          "base_uri": "https://localhost:8080/"
        },
        "id": "fSyhJEcx-XEs",
        "outputId": "45774c86-2f82-48f4-f842-354f26a1f905"
      },
      "execution_count": 256,
      "outputs": [
        {
          "output_type": "stream",
          "name": "stdout",
          "text": [
            "0.03479669321648073\n"
          ]
        }
      ]
    },
    {
      "cell_type": "code",
      "source": [
        "mean_values = df['percent_days_employed'].mean()\n",
        "df['percent_days_employed']= df['percent_days_employed'].fillna(mean_values)"
      ],
      "metadata": {
        "id": "URMECSTq-YT0"
      },
      "execution_count": 257,
      "outputs": []
    },
    {
      "cell_type": "code",
      "source": [
        "skewness = df['jobs_per_year'].skew()\n",
        "# Print the skewness values\n",
        "print(skewness)"
      ],
      "metadata": {
        "colab": {
          "base_uri": "https://localhost:8080/"
        },
        "id": "exDWL_Ph-a1q",
        "outputId": "a23265b3-4560-454c-ae8c-8d3faba7e3e1"
      },
      "execution_count": 258,
      "outputs": [
        {
          "output_type": "stream",
          "name": "stdout",
          "text": [
            "1.4619791346950304\n"
          ]
        }
      ]
    },
    {
      "cell_type": "code",
      "source": [
        "mediann_values = df['jobs_per_year'].median()\n",
        "df['jobs_per_year'] = df['jobs_per_year'].fillna(mediann_values)"
      ],
      "metadata": {
        "id": "RpLsyuf4-dVF"
      },
      "execution_count": 259,
      "outputs": []
    },
    {
      "cell_type": "code",
      "source": [
        "df.isnull().sum()"
      ],
      "metadata": {
        "colab": {
          "base_uri": "https://localhost:8080/"
        },
        "id": "iyM2D684-fEf",
        "outputId": "b150ca1a-7ee6-4d19-b55f-13d18b7b00a1"
      },
      "execution_count": 260,
      "outputs": [
        {
          "output_type": "execute_result",
          "data": {
            "text/plain": [
              "id                                0\n",
              "gender                            0\n",
              "race                              0\n",
              "age_at_release                    0\n",
              "residence_puma                    0\n",
              "gang_affiliated                   0\n",
              "supervision_risk_score_first      0\n",
              "supervision_level_first           0\n",
              "education_level                   0\n",
              "dependents                        0\n",
              "prison_offense                    0\n",
              "prison_years                      0\n",
              "prior_arrest_episodes_felony      0\n",
              "prior_arrest_episodes_misd        0\n",
              "prior_arrest_episodes_violent     0\n",
              "prior_arrest_episodes_property    0\n",
              "prior_arrest_episodes_drug        0\n",
              "prior_arrest_episodes             0\n",
              "prior_arrest_episodes_1           0\n",
              "prior_arrest_episodes_2           0\n",
              "prior_conviction_episodes         0\n",
              "prior_conviction_episodes_1       0\n",
              "prior_conviction_episodes_2       0\n",
              "prior_conviction_episodes_3       0\n",
              "prior_conviction_episodes_4       0\n",
              "prior_conviction_episodes_5       0\n",
              "prior_conviction_episodes_6       0\n",
              "prior_conviction_episodes_7       0\n",
              "prior_revocations_parole          0\n",
              "prior_revocations_probation       0\n",
              "condition_mh_sa                   0\n",
              "condition_cog_ed                  0\n",
              "condition_other                   0\n",
              "violations                        0\n",
              "violations_instruction            0\n",
              "violations_failtoreport           0\n",
              "violations_1                      0\n",
              "delinquency_reports               0\n",
              "program_attendances               0\n",
              "program_unexcusedabsences         0\n",
              "residence_changes                 0\n",
              "avg_days_per_drugtest             0\n",
              "drugtests_thc_positive            0\n",
              "drugtests_cocaine_positive        0\n",
              "drugtests_meth_positive           0\n",
              "drugtests_other_positive          0\n",
              "percent_days_employed             0\n",
              "jobs_per_year                     0\n",
              "employment_exempt                 0\n",
              "recidivism_within_3years          0\n",
              "recidivism_arrest_year1           0\n",
              "recidivism_arrest_year2           0\n",
              "recidivism_arrest_year3           0\n",
              "training_sample                   0\n",
              "dtype: int64"
            ]
          },
          "metadata": {},
          "execution_count": 260
        }
      ]
    },
    {
      "cell_type": "code",
      "source": [
        "correlation_matrix = df.corr().round(2)\n",
        "correlation_matrix['supervision_risk_score_first']"
      ],
      "metadata": {
        "colab": {
          "base_uri": "https://localhost:8080/"
        },
        "id": "-qLBhLw4-gUk",
        "outputId": "ff1e9633-6a67-4b83-9a6a-70a877580a77"
      },
      "execution_count": 261,
      "outputs": [
        {
          "output_type": "execute_result",
          "data": {
            "text/plain": [
              "id                              0.04\n",
              "residence_puma                 -0.01\n",
              "gang_affiliated                 0.21\n",
              "supervision_risk_score_first    1.00\n",
              "prior_arrest_episodes_1        -0.05\n",
              "prior_arrest_episodes_2         0.06\n",
              "prior_conviction_episodes_2    -0.02\n",
              "prior_conviction_episodes_5     0.01\n",
              "prior_conviction_episodes_6    -0.02\n",
              "prior_conviction_episodes_7     0.07\n",
              "prior_revocations_parole        0.09\n",
              "prior_revocations_probation     0.05\n",
              "condition_mh_sa                 0.07\n",
              "condition_cog_ed                0.16\n",
              "condition_other                 0.04\n",
              "violations                      0.04\n",
              "violations_instruction          0.13\n",
              "violations_failtoreport         0.04\n",
              "violations_1                    0.08\n",
              "avg_days_per_drugtest          -0.02\n",
              "drugtests_thc_positive          0.24\n",
              "drugtests_cocaine_positive      0.03\n",
              "drugtests_meth_positive         0.05\n",
              "drugtests_other_positive        0.03\n",
              "percent_days_employed          -0.05\n",
              "jobs_per_year                   0.03\n",
              "employment_exempt              -0.08\n",
              "recidivism_within_3years        0.18\n",
              "recidivism_arrest_year1         0.14\n",
              "recidivism_arrest_year2         0.05\n",
              "recidivism_arrest_year3         0.02\n",
              "training_sample                -0.01\n",
              "Name: supervision_risk_score_first, dtype: float64"
            ]
          },
          "metadata": {},
          "execution_count": 261
        }
      ]
    },
    {
      "cell_type": "code",
      "source": [
        "print(df.dtypes)"
      ],
      "metadata": {
        "colab": {
          "base_uri": "https://localhost:8080/"
        },
        "id": "mRfxL0QA-i-m",
        "outputId": "151ed5af-f0f9-469e-a644-595700c8f6f5"
      },
      "execution_count": 262,
      "outputs": [
        {
          "output_type": "stream",
          "name": "stdout",
          "text": [
            "id                                  int64\n",
            "gender                             object\n",
            "race                               object\n",
            "age_at_release                     object\n",
            "residence_puma                      int64\n",
            "gang_affiliated                      bool\n",
            "supervision_risk_score_first      float64\n",
            "supervision_level_first            object\n",
            "education_level                    object\n",
            "dependents                         object\n",
            "prison_offense                     object\n",
            "prison_years                       object\n",
            "prior_arrest_episodes_felony       object\n",
            "prior_arrest_episodes_misd         object\n",
            "prior_arrest_episodes_violent      object\n",
            "prior_arrest_episodes_property     object\n",
            "prior_arrest_episodes_drug         object\n",
            "prior_arrest_episodes              object\n",
            "prior_arrest_episodes_1              bool\n",
            "prior_arrest_episodes_2              bool\n",
            "prior_conviction_episodes          object\n",
            "prior_conviction_episodes_1        object\n",
            "prior_conviction_episodes_2          bool\n",
            "prior_conviction_episodes_3        object\n",
            "prior_conviction_episodes_4        object\n",
            "prior_conviction_episodes_5          bool\n",
            "prior_conviction_episodes_6          bool\n",
            "prior_conviction_episodes_7          bool\n",
            "prior_revocations_parole             bool\n",
            "prior_revocations_probation          bool\n",
            "condition_mh_sa                      bool\n",
            "condition_cog_ed                     bool\n",
            "condition_other                      bool\n",
            "violations                           bool\n",
            "violations_instruction               bool\n",
            "violations_failtoreport              bool\n",
            "violations_1                         bool\n",
            "delinquency_reports                object\n",
            "program_attendances                object\n",
            "program_unexcusedabsences          object\n",
            "residence_changes                  object\n",
            "avg_days_per_drugtest             float64\n",
            "drugtests_thc_positive            float64\n",
            "drugtests_cocaine_positive        float64\n",
            "drugtests_meth_positive           float64\n",
            "drugtests_other_positive          float64\n",
            "percent_days_employed             float64\n",
            "jobs_per_year                     float64\n",
            "employment_exempt                    bool\n",
            "recidivism_within_3years             bool\n",
            "recidivism_arrest_year1              bool\n",
            "recidivism_arrest_year2              bool\n",
            "recidivism_arrest_year3              bool\n",
            "training_sample                     int64\n",
            "dtype: object\n"
          ]
        }
      ]
    },
    {
      "cell_type": "code",
      "source": [
        "df.shape"
      ],
      "metadata": {
        "colab": {
          "base_uri": "https://localhost:8080/"
        },
        "id": "MXV3-nDE-k0L",
        "outputId": "ed4a90dd-45b0-40eb-9302-7468a64cc50d"
      },
      "execution_count": 263,
      "outputs": [
        {
          "output_type": "execute_result",
          "data": {
            "text/plain": [
              "(25835, 54)"
            ]
          },
          "metadata": {},
          "execution_count": 263
        }
      ]
    },
    {
      "cell_type": "markdown",
      "source": [
        "# **Mapping**"
      ],
      "metadata": {
        "id": "yjo7eCc--pgl"
      }
    },
    {
      "cell_type": "code",
      "source": [
        "\n",
        "class_countss = df['prior_conviction_episodes'].value_counts()\n",
        "class_countss"
      ],
      "metadata": {
        "colab": {
          "base_uri": "https://localhost:8080/"
        },
        "id": "KBTc87Ig-nEX",
        "outputId": "623ae644-9dc0-4c72-8033-823f09c2aa97"
      },
      "execution_count": 205,
      "outputs": [
        {
          "output_type": "execute_result",
          "data": {
            "text/plain": [
              "0            7539\n",
              "1            6963\n",
              "3 or more    6959\n",
              "2            4374\n",
              "Name: prior_conviction_episodes, dtype: int64"
            ]
          },
          "metadata": {},
          "execution_count": 205
        }
      ]
    },
    {
      "cell_type": "code",
      "source": [
        "mapping = {'0': 0, '1': 1, '2':2,'3 or more': 3}\n",
        "\n",
        "# Replace the labels in the 'label' column with numerical values\n",
        "df['prior_conviction_episodes'] = df['prior_conviction_episodes'].replace(mapping)"
      ],
      "metadata": {
        "id": "zzRPPuFa-sMj"
      },
      "execution_count": 206,
      "outputs": []
    },
    {
      "cell_type": "code",
      "source": [
        "class_countss = df['prior_conviction_episodes_1'].value_counts()\n",
        "class_countss"
      ],
      "metadata": {
        "colab": {
          "base_uri": "https://localhost:8080/"
        },
        "id": "2caTAEtD-t91",
        "outputId": "f7cee4ab-e925-438c-af0b-ef69868ca965"
      },
      "execution_count": 207,
      "outputs": [
        {
          "output_type": "execute_result",
          "data": {
            "text/plain": [
              "0            7819\n",
              "4 or more    5982\n",
              "1            5387\n",
              "2            3888\n",
              "3            2759\n",
              "Name: prior_conviction_episodes_1, dtype: int64"
            ]
          },
          "metadata": {},
          "execution_count": 207
        }
      ]
    },
    {
      "cell_type": "code",
      "source": [
        "mapping = {'0': 0, '1': 1, '2':2,'3 ': 3, '4 or more':4}\n",
        "\n",
        "# Replace the labels in the 'label' column with numerical values\n",
        "df['prior_conviction_episodes_1'] = df['prior_conviction_episodes_1'].replace(mapping)"
      ],
      "metadata": {
        "id": "oSSejEtL-vfw"
      },
      "execution_count": 208,
      "outputs": []
    },
    {
      "cell_type": "code",
      "source": [
        "class_countss = df['prior_conviction_episodes_3'].value_counts()\n",
        "class_countss"
      ],
      "metadata": {
        "colab": {
          "base_uri": "https://localhost:8080/"
        },
        "id": "uXknWX7a-wsP",
        "outputId": "759177be-4d89-4848-d959-9cfeb63d2c0d"
      },
      "execution_count": 209,
      "outputs": [
        {
          "output_type": "execute_result",
          "data": {
            "text/plain": [
              "0            11198\n",
              "1             5896\n",
              "3 or more     5435\n",
              "2             3306\n",
              "Name: prior_conviction_episodes_3, dtype: int64"
            ]
          },
          "metadata": {},
          "execution_count": 209
        }
      ]
    },
    {
      "cell_type": "code",
      "source": [
        "mapping = {'0': 0, '1': 1, '2':2,'3 or more': 3}\n",
        "\n",
        "# Replace the labels in the 'label' column with numerical values\n",
        "df['prior_conviction_episodes_3'] = df['prior_conviction_episodes_3'].replace(mapping)"
      ],
      "metadata": {
        "id": "4nt9dFJn-yX_"
      },
      "execution_count": 210,
      "outputs": []
    },
    {
      "cell_type": "code",
      "source": [
        "class_countss = df['prior_conviction_episodes_4'].value_counts()\n",
        "class_countss"
      ],
      "metadata": {
        "colab": {
          "base_uri": "https://localhost:8080/"
        },
        "id": "ei86xzgI-zkD",
        "outputId": "1a49ce92-ba94-427a-cfbf-5e3c9739dce1"
      },
      "execution_count": 211,
      "outputs": [
        {
          "output_type": "execute_result",
          "data": {
            "text/plain": [
              "0            12586\n",
              "2 or more     6760\n",
              "1             6489\n",
              "Name: prior_conviction_episodes_4, dtype: int64"
            ]
          },
          "metadata": {},
          "execution_count": 211
        }
      ]
    },
    {
      "cell_type": "code",
      "source": [
        "mapping = {'0': 0, '1': 1,'2 or more': 2}\n",
        "\n",
        "# Replace the labels in the 'label' column with numerical values\n",
        "df['prior_conviction_episodes_4'] = df['prior_conviction_episodes_4'].replace(mapping)"
      ],
      "metadata": {
        "id": "RrJXjjKQ-0vs"
      },
      "execution_count": 212,
      "outputs": []
    },
    {
      "cell_type": "code",
      "source": [
        "\n",
        "class_countss = df['age_at_release'].value_counts()\n",
        "class_countss"
      ],
      "metadata": {
        "colab": {
          "base_uri": "https://localhost:8080/"
        },
        "id": "A5HnayHh-3Hx",
        "outputId": "5dc86a6e-9d11-41e7-d6b3-c62dfac173cf"
      },
      "execution_count": 213,
      "outputs": [
        {
          "output_type": "execute_result",
          "data": {
            "text/plain": [
              "23-27          5176\n",
              "28-32          4982\n",
              "33-37          4271\n",
              "48 or older    3727\n",
              "38-42          2993\n",
              "43-47          2620\n",
              "18-22          2066\n",
              "Name: age_at_release, dtype: int64"
            ]
          },
          "metadata": {},
          "execution_count": 213
        }
      ]
    },
    {
      "cell_type": "code",
      "source": [
        "mapping = {'23-27': 25 , '28-32': 30,'33-37': 35,'48 or older':48,'38-42':40,'43-47':45,'18-22':20 }\n",
        "\n",
        "# Replace the labels in the 'label' column with numerical values\n",
        "df['age_at_release'] = df['age_at_release'].replace(mapping)"
      ],
      "metadata": {
        "id": "N3cqWgK--44a"
      },
      "execution_count": 214,
      "outputs": []
    },
    {
      "cell_type": "code",
      "source": [
        "class_countss = df['race'].value_counts()\n",
        "class_countss"
      ],
      "metadata": {
        "colab": {
          "base_uri": "https://localhost:8080/"
        },
        "id": "KAlZVAQq-6a1",
        "outputId": "0de2a66f-df7f-4fa7-a590-80d242effeb3"
      },
      "execution_count": 215,
      "outputs": [
        {
          "output_type": "execute_result",
          "data": {
            "text/plain": [
              "BLACK    14847\n",
              "WHITE    10988\n",
              "Name: race, dtype: int64"
            ]
          },
          "metadata": {},
          "execution_count": 215
        }
      ]
    },
    {
      "cell_type": "code",
      "source": [
        "mapping = {'BLACK': 0, 'WHITE': 1}\n",
        "\n",
        "# Replace the labels in the 'label' column with numerical values\n",
        "df['race'] = df['race'].replace(mapping)"
      ],
      "metadata": {
        "id": "KgKVqDrs-73z"
      },
      "execution_count": 216,
      "outputs": []
    },
    {
      "cell_type": "code",
      "source": [
        "df.shape"
      ],
      "metadata": {
        "colab": {
          "base_uri": "https://localhost:8080/"
        },
        "id": "oz5SlCmA-9G1",
        "outputId": "956d3c7c-daf3-40f8-ef55-961b1bb768b2"
      },
      "execution_count": 217,
      "outputs": [
        {
          "output_type": "execute_result",
          "data": {
            "text/plain": [
              "(25835, 54)"
            ]
          },
          "metadata": {},
          "execution_count": 217
        }
      ]
    },
    {
      "cell_type": "code",
      "source": [
        "df.head"
      ],
      "metadata": {
        "colab": {
          "base_uri": "https://localhost:8080/"
        },
        "id": "idUU_mfG--ab",
        "outputId": "3fa4818a-1efa-4a5c-9139-35d33ed70760"
      },
      "execution_count": 218,
      "outputs": [
        {
          "output_type": "execute_result",
          "data": {
            "text/plain": [
              "<bound method NDFrame.head of           id gender  race  age_at_release  residence_puma  gang_affiliated  \\\n",
              "0          1      M     0              45              16            False   \n",
              "1          2      M     0              35              16            False   \n",
              "2          3      M     0              48              24            False   \n",
              "3          4      M     1              40              16            False   \n",
              "4          5      M     1              35              16            False   \n",
              "...      ...    ...   ...             ...             ...              ...   \n",
              "25830  26756      M     0              25               9            False   \n",
              "25831  26758      M     1              40              25            False   \n",
              "25832  26759      M     0              35              15            False   \n",
              "25833  26760      F     1              35              15            False   \n",
              "25834  26761      M     1              30              12            False   \n",
              "\n",
              "       supervision_risk_score_first supervision_level_first  \\\n",
              "0                               3.0                Standard   \n",
              "1                               6.0             Specialized   \n",
              "2                               7.0                    High   \n",
              "3                               7.0                    High   \n",
              "4                               4.0             Specialized   \n",
              "...                             ...                     ...   \n",
              "25830                           5.0                Standard   \n",
              "25831                           5.0                Standard   \n",
              "25832                           5.0                Standard   \n",
              "25833                           5.0                Standard   \n",
              "25834                           5.0                Standard   \n",
              "\n",
              "             education_level dependents  ... drugtests_meth_positive  \\\n",
              "0      At least some college  3 or more  ...                0.000000   \n",
              "1       Less than HS diploma          1  ...                0.000000   \n",
              "2      At least some college  3 or more  ...                0.166667   \n",
              "3       Less than HS diploma          1  ...                0.000000   \n",
              "4       Less than HS diploma  3 or more  ...                0.058824   \n",
              "...                      ...        ...  ...                     ...   \n",
              "25830  At least some college          1  ...                0.000000   \n",
              "25831  At least some college  3 or more  ...                0.000000   \n",
              "25832  At least some college  3 or more  ...                0.000000   \n",
              "25833  At least some college  3 or more  ...                0.000000   \n",
              "25834    High School Diploma  3 or more  ...                0.000000   \n",
              "\n",
              "      drugtests_other_positive percent_days_employed jobs_per_year  \\\n",
              "0                          0.0              0.488562      0.447610   \n",
              "1                          0.0              0.425234      2.000000   \n",
              "2                          0.0              0.000000      0.000000   \n",
              "3                          0.0              1.000000      0.718996   \n",
              "4                          0.0              0.203562      0.929389   \n",
              "...                        ...                   ...           ...   \n",
              "25830                      0.0              0.189507      0.572044   \n",
              "25831                      0.0              0.757098      0.576104   \n",
              "25832                      0.0              0.711138      0.894125   \n",
              "25833                      0.0              0.000000      0.000000   \n",
              "25834                      0.0              0.124454      0.398745   \n",
              "\n",
              "      employment_exempt recidivism_within_3years recidivism_arrest_year1  \\\n",
              "0                 False                    False                   False   \n",
              "1                 False                     True                   False   \n",
              "2                 False                     True                   False   \n",
              "3                 False                    False                   False   \n",
              "4                 False                     True                    True   \n",
              "...                 ...                      ...                     ...   \n",
              "25830             False                     True                    True   \n",
              "25831             False                     True                   False   \n",
              "25832             False                     True                   False   \n",
              "25833              True                    False                   False   \n",
              "25834             False                     True                    True   \n",
              "\n",
              "      recidivism_arrest_year2  recidivism_arrest_year3  training_sample  \n",
              "0                       False                    False                1  \n",
              "1                       False                     True                1  \n",
              "2                        True                    False                1  \n",
              "3                       False                    False                1  \n",
              "4                       False                    False                1  \n",
              "...                       ...                      ...              ...  \n",
              "25830                   False                    False                1  \n",
              "25831                    True                    False                1  \n",
              "25832                    True                    False                1  \n",
              "25833                   False                    False                1  \n",
              "25834                   False                    False                1  \n",
              "\n",
              "[25835 rows x 54 columns]>"
            ]
          },
          "metadata": {},
          "execution_count": 218
        }
      ]
    },
    {
      "cell_type": "markdown",
      "source": [
        "Part 3) Question 4)"
      ],
      "metadata": {
        "id": "lL7LwodE_F1r"
      }
    },
    {
      "cell_type": "code",
      "source": [
        "df.head()"
      ],
      "metadata": {
        "colab": {
          "base_uri": "https://localhost:8080/",
          "height": 386
        },
        "id": "vk7xAnYn_AGR",
        "outputId": "859e57d8-59da-4cc6-9f6a-10a5fc668b29"
      },
      "execution_count": 93,
      "outputs": [
        {
          "output_type": "execute_result",
          "data": {
            "text/plain": [
              "   id gender  race  age_at_release  residence_puma  gang_affiliated  \\\n",
              "0   1      M     0              45              16            False   \n",
              "1   2      M     0              35              16            False   \n",
              "2   3      M     0              48              24            False   \n",
              "3   4      M     1              40              16            False   \n",
              "4   5      M     1              35              16            False   \n",
              "\n",
              "   supervision_risk_score_first supervision_level_first  \\\n",
              "0                           3.0                Standard   \n",
              "1                           6.0             Specialized   \n",
              "2                           7.0                    High   \n",
              "3                           7.0                    High   \n",
              "4                           4.0             Specialized   \n",
              "\n",
              "         education_level dependents  ... drugtests_meth_positive  \\\n",
              "0  At least some college  3 or more  ...                0.000000   \n",
              "1   Less than HS diploma          1  ...                0.000000   \n",
              "2  At least some college  3 or more  ...                0.166667   \n",
              "3   Less than HS diploma          1  ...                0.000000   \n",
              "4   Less than HS diploma  3 or more  ...                0.058824   \n",
              "\n",
              "  drugtests_other_positive percent_days_employed jobs_per_year  \\\n",
              "0                      0.0              0.488562      0.447610   \n",
              "1                      0.0              0.425234      2.000000   \n",
              "2                      0.0              0.000000      0.000000   \n",
              "3                      0.0              1.000000      0.718996   \n",
              "4                      0.0              0.203562      0.929389   \n",
              "\n",
              "  employment_exempt recidivism_within_3years recidivism_arrest_year1  \\\n",
              "0             False                    False                   False   \n",
              "1             False                     True                   False   \n",
              "2             False                     True                   False   \n",
              "3             False                    False                   False   \n",
              "4             False                     True                    True   \n",
              "\n",
              "  recidivism_arrest_year2  recidivism_arrest_year3  training_sample  \n",
              "0                   False                    False                1  \n",
              "1                   False                     True                1  \n",
              "2                    True                    False                1  \n",
              "3                   False                    False                1  \n",
              "4                   False                    False                1  \n",
              "\n",
              "[5 rows x 54 columns]"
            ],
            "text/html": [
              "\n",
              "  <div id=\"df-88243eb6-025e-41d4-977d-8e083d83499e\">\n",
              "    <div class=\"colab-df-container\">\n",
              "      <div>\n",
              "<style scoped>\n",
              "    .dataframe tbody tr th:only-of-type {\n",
              "        vertical-align: middle;\n",
              "    }\n",
              "\n",
              "    .dataframe tbody tr th {\n",
              "        vertical-align: top;\n",
              "    }\n",
              "\n",
              "    .dataframe thead th {\n",
              "        text-align: right;\n",
              "    }\n",
              "</style>\n",
              "<table border=\"1\" class=\"dataframe\">\n",
              "  <thead>\n",
              "    <tr style=\"text-align: right;\">\n",
              "      <th></th>\n",
              "      <th>id</th>\n",
              "      <th>gender</th>\n",
              "      <th>race</th>\n",
              "      <th>age_at_release</th>\n",
              "      <th>residence_puma</th>\n",
              "      <th>gang_affiliated</th>\n",
              "      <th>supervision_risk_score_first</th>\n",
              "      <th>supervision_level_first</th>\n",
              "      <th>education_level</th>\n",
              "      <th>dependents</th>\n",
              "      <th>...</th>\n",
              "      <th>drugtests_meth_positive</th>\n",
              "      <th>drugtests_other_positive</th>\n",
              "      <th>percent_days_employed</th>\n",
              "      <th>jobs_per_year</th>\n",
              "      <th>employment_exempt</th>\n",
              "      <th>recidivism_within_3years</th>\n",
              "      <th>recidivism_arrest_year1</th>\n",
              "      <th>recidivism_arrest_year2</th>\n",
              "      <th>recidivism_arrest_year3</th>\n",
              "      <th>training_sample</th>\n",
              "    </tr>\n",
              "  </thead>\n",
              "  <tbody>\n",
              "    <tr>\n",
              "      <th>0</th>\n",
              "      <td>1</td>\n",
              "      <td>M</td>\n",
              "      <td>0</td>\n",
              "      <td>45</td>\n",
              "      <td>16</td>\n",
              "      <td>False</td>\n",
              "      <td>3.0</td>\n",
              "      <td>Standard</td>\n",
              "      <td>At least some college</td>\n",
              "      <td>3 or more</td>\n",
              "      <td>...</td>\n",
              "      <td>0.000000</td>\n",
              "      <td>0.0</td>\n",
              "      <td>0.488562</td>\n",
              "      <td>0.447610</td>\n",
              "      <td>False</td>\n",
              "      <td>False</td>\n",
              "      <td>False</td>\n",
              "      <td>False</td>\n",
              "      <td>False</td>\n",
              "      <td>1</td>\n",
              "    </tr>\n",
              "    <tr>\n",
              "      <th>1</th>\n",
              "      <td>2</td>\n",
              "      <td>M</td>\n",
              "      <td>0</td>\n",
              "      <td>35</td>\n",
              "      <td>16</td>\n",
              "      <td>False</td>\n",
              "      <td>6.0</td>\n",
              "      <td>Specialized</td>\n",
              "      <td>Less than HS diploma</td>\n",
              "      <td>1</td>\n",
              "      <td>...</td>\n",
              "      <td>0.000000</td>\n",
              "      <td>0.0</td>\n",
              "      <td>0.425234</td>\n",
              "      <td>2.000000</td>\n",
              "      <td>False</td>\n",
              "      <td>True</td>\n",
              "      <td>False</td>\n",
              "      <td>False</td>\n",
              "      <td>True</td>\n",
              "      <td>1</td>\n",
              "    </tr>\n",
              "    <tr>\n",
              "      <th>2</th>\n",
              "      <td>3</td>\n",
              "      <td>M</td>\n",
              "      <td>0</td>\n",
              "      <td>48</td>\n",
              "      <td>24</td>\n",
              "      <td>False</td>\n",
              "      <td>7.0</td>\n",
              "      <td>High</td>\n",
              "      <td>At least some college</td>\n",
              "      <td>3 or more</td>\n",
              "      <td>...</td>\n",
              "      <td>0.166667</td>\n",
              "      <td>0.0</td>\n",
              "      <td>0.000000</td>\n",
              "      <td>0.000000</td>\n",
              "      <td>False</td>\n",
              "      <td>True</td>\n",
              "      <td>False</td>\n",
              "      <td>True</td>\n",
              "      <td>False</td>\n",
              "      <td>1</td>\n",
              "    </tr>\n",
              "    <tr>\n",
              "      <th>3</th>\n",
              "      <td>4</td>\n",
              "      <td>M</td>\n",
              "      <td>1</td>\n",
              "      <td>40</td>\n",
              "      <td>16</td>\n",
              "      <td>False</td>\n",
              "      <td>7.0</td>\n",
              "      <td>High</td>\n",
              "      <td>Less than HS diploma</td>\n",
              "      <td>1</td>\n",
              "      <td>...</td>\n",
              "      <td>0.000000</td>\n",
              "      <td>0.0</td>\n",
              "      <td>1.000000</td>\n",
              "      <td>0.718996</td>\n",
              "      <td>False</td>\n",
              "      <td>False</td>\n",
              "      <td>False</td>\n",
              "      <td>False</td>\n",
              "      <td>False</td>\n",
              "      <td>1</td>\n",
              "    </tr>\n",
              "    <tr>\n",
              "      <th>4</th>\n",
              "      <td>5</td>\n",
              "      <td>M</td>\n",
              "      <td>1</td>\n",
              "      <td>35</td>\n",
              "      <td>16</td>\n",
              "      <td>False</td>\n",
              "      <td>4.0</td>\n",
              "      <td>Specialized</td>\n",
              "      <td>Less than HS diploma</td>\n",
              "      <td>3 or more</td>\n",
              "      <td>...</td>\n",
              "      <td>0.058824</td>\n",
              "      <td>0.0</td>\n",
              "      <td>0.203562</td>\n",
              "      <td>0.929389</td>\n",
              "      <td>False</td>\n",
              "      <td>True</td>\n",
              "      <td>True</td>\n",
              "      <td>False</td>\n",
              "      <td>False</td>\n",
              "      <td>1</td>\n",
              "    </tr>\n",
              "  </tbody>\n",
              "</table>\n",
              "<p>5 rows × 54 columns</p>\n",
              "</div>\n",
              "      <button class=\"colab-df-convert\" onclick=\"convertToInteractive('df-88243eb6-025e-41d4-977d-8e083d83499e')\"\n",
              "              title=\"Convert this dataframe to an interactive table.\"\n",
              "              style=\"display:none;\">\n",
              "        \n",
              "  <svg xmlns=\"http://www.w3.org/2000/svg\" height=\"24px\"viewBox=\"0 0 24 24\"\n",
              "       width=\"24px\">\n",
              "    <path d=\"M0 0h24v24H0V0z\" fill=\"none\"/>\n",
              "    <path d=\"M18.56 5.44l.94 2.06.94-2.06 2.06-.94-2.06-.94-.94-2.06-.94 2.06-2.06.94zm-11 1L8.5 8.5l.94-2.06 2.06-.94-2.06-.94L8.5 2.5l-.94 2.06-2.06.94zm10 10l.94 2.06.94-2.06 2.06-.94-2.06-.94-.94-2.06-.94 2.06-2.06.94z\"/><path d=\"M17.41 7.96l-1.37-1.37c-.4-.4-.92-.59-1.43-.59-.52 0-1.04.2-1.43.59L10.3 9.45l-7.72 7.72c-.78.78-.78 2.05 0 2.83L4 21.41c.39.39.9.59 1.41.59.51 0 1.02-.2 1.41-.59l7.78-7.78 2.81-2.81c.8-.78.8-2.07 0-2.86zM5.41 20L4 18.59l7.72-7.72 1.47 1.35L5.41 20z\"/>\n",
              "  </svg>\n",
              "      </button>\n",
              "      \n",
              "  <style>\n",
              "    .colab-df-container {\n",
              "      display:flex;\n",
              "      flex-wrap:wrap;\n",
              "      gap: 12px;\n",
              "    }\n",
              "\n",
              "    .colab-df-convert {\n",
              "      background-color: #E8F0FE;\n",
              "      border: none;\n",
              "      border-radius: 50%;\n",
              "      cursor: pointer;\n",
              "      display: none;\n",
              "      fill: #1967D2;\n",
              "      height: 32px;\n",
              "      padding: 0 0 0 0;\n",
              "      width: 32px;\n",
              "    }\n",
              "\n",
              "    .colab-df-convert:hover {\n",
              "      background-color: #E2EBFA;\n",
              "      box-shadow: 0px 1px 2px rgba(60, 64, 67, 0.3), 0px 1px 3px 1px rgba(60, 64, 67, 0.15);\n",
              "      fill: #174EA6;\n",
              "    }\n",
              "\n",
              "    [theme=dark] .colab-df-convert {\n",
              "      background-color: #3B4455;\n",
              "      fill: #D2E3FC;\n",
              "    }\n",
              "\n",
              "    [theme=dark] .colab-df-convert:hover {\n",
              "      background-color: #434B5C;\n",
              "      box-shadow: 0px 1px 3px 1px rgba(0, 0, 0, 0.15);\n",
              "      filter: drop-shadow(0px 1px 2px rgba(0, 0, 0, 0.3));\n",
              "      fill: #FFFFFF;\n",
              "    }\n",
              "  </style>\n",
              "\n",
              "      <script>\n",
              "        const buttonEl =\n",
              "          document.querySelector('#df-88243eb6-025e-41d4-977d-8e083d83499e button.colab-df-convert');\n",
              "        buttonEl.style.display =\n",
              "          google.colab.kernel.accessAllowed ? 'block' : 'none';\n",
              "\n",
              "        async function convertToInteractive(key) {\n",
              "          const element = document.querySelector('#df-88243eb6-025e-41d4-977d-8e083d83499e');\n",
              "          const dataTable =\n",
              "            await google.colab.kernel.invokeFunction('convertToInteractive',\n",
              "                                                     [key], {});\n",
              "          if (!dataTable) return;\n",
              "\n",
              "          const docLinkHtml = 'Like what you see? Visit the ' +\n",
              "            '<a target=\"_blank\" href=https://colab.research.google.com/notebooks/data_table.ipynb>data table notebook</a>'\n",
              "            + ' to learn more about interactive tables.';\n",
              "          element.innerHTML = '';\n",
              "          dataTable['output_type'] = 'display_data';\n",
              "          await google.colab.output.renderOutput(dataTable, element);\n",
              "          const docLink = document.createElement('div');\n",
              "          docLink.innerHTML = docLinkHtml;\n",
              "          element.appendChild(docLink);\n",
              "        }\n",
              "      </script>\n",
              "    </div>\n",
              "  </div>\n",
              "  "
            ]
          },
          "metadata": {},
          "execution_count": 93
        }
      ]
    },
    {
      "cell_type": "code",
      "source": [
        "df_recidivism_within_3years_True = df.drop(df[df['recidivism_within_3years'] == False].index, axis=0)"
      ],
      "metadata": {
        "id": "2m7mDqGN_Kh7"
      },
      "execution_count": 94,
      "outputs": []
    },
    {
      "cell_type": "code",
      "source": [
        "df_recidivism_within_3years_True.head()"
      ],
      "metadata": {
        "colab": {
          "base_uri": "https://localhost:8080/",
          "height": 386
        },
        "id": "QwmsSh-B_MTG",
        "outputId": "eb6f210e-e73c-4753-9cc7-cdebdc5b5ef3"
      },
      "execution_count": 95,
      "outputs": [
        {
          "output_type": "execute_result",
          "data": {
            "text/plain": [
              "   id gender  race  age_at_release  residence_puma  gang_affiliated  \\\n",
              "1   2      M     0              35              16            False   \n",
              "2   3      M     0              48              24            False   \n",
              "4   5      M     1              35              16            False   \n",
              "6   7      M     0              48              18            False   \n",
              "8   9      F     0              45               5            False   \n",
              "\n",
              "   supervision_risk_score_first supervision_level_first  \\\n",
              "1                           6.0             Specialized   \n",
              "2                           7.0                    High   \n",
              "4                           4.0             Specialized   \n",
              "6                           2.0                Standard   \n",
              "8                           7.0                    High   \n",
              "\n",
              "         education_level dependents  ... drugtests_meth_positive  \\\n",
              "1   Less than HS diploma          1  ...                0.000000   \n",
              "2  At least some college  3 or more  ...                0.166667   \n",
              "4   Less than HS diploma  3 or more  ...                0.058824   \n",
              "6   Less than HS diploma          2  ...                0.000000   \n",
              "8    High School Diploma          0  ...                0.000000   \n",
              "\n",
              "  drugtests_other_positive percent_days_employed jobs_per_year  \\\n",
              "1                      0.0              0.425234      2.000000   \n",
              "2                      0.0              0.000000      0.000000   \n",
              "4                      0.0              0.203562      0.929389   \n",
              "6                      0.0              0.000000      0.000000   \n",
              "8                      0.0              0.000000      0.000000   \n",
              "\n",
              "  employment_exempt recidivism_within_3years recidivism_arrest_year1  \\\n",
              "1             False                     True                   False   \n",
              "2             False                     True                   False   \n",
              "4             False                     True                    True   \n",
              "6             False                     True                   False   \n",
              "8              True                     True                    True   \n",
              "\n",
              "  recidivism_arrest_year2  recidivism_arrest_year3  training_sample  \n",
              "1                   False                     True                1  \n",
              "2                    True                    False                1  \n",
              "4                   False                    False                1  \n",
              "6                   False                     True                1  \n",
              "8                   False                    False                1  \n",
              "\n",
              "[5 rows x 54 columns]"
            ],
            "text/html": [
              "\n",
              "  <div id=\"df-e2c9c8b1-2ebc-4232-b908-1c29ee476c3e\">\n",
              "    <div class=\"colab-df-container\">\n",
              "      <div>\n",
              "<style scoped>\n",
              "    .dataframe tbody tr th:only-of-type {\n",
              "        vertical-align: middle;\n",
              "    }\n",
              "\n",
              "    .dataframe tbody tr th {\n",
              "        vertical-align: top;\n",
              "    }\n",
              "\n",
              "    .dataframe thead th {\n",
              "        text-align: right;\n",
              "    }\n",
              "</style>\n",
              "<table border=\"1\" class=\"dataframe\">\n",
              "  <thead>\n",
              "    <tr style=\"text-align: right;\">\n",
              "      <th></th>\n",
              "      <th>id</th>\n",
              "      <th>gender</th>\n",
              "      <th>race</th>\n",
              "      <th>age_at_release</th>\n",
              "      <th>residence_puma</th>\n",
              "      <th>gang_affiliated</th>\n",
              "      <th>supervision_risk_score_first</th>\n",
              "      <th>supervision_level_first</th>\n",
              "      <th>education_level</th>\n",
              "      <th>dependents</th>\n",
              "      <th>...</th>\n",
              "      <th>drugtests_meth_positive</th>\n",
              "      <th>drugtests_other_positive</th>\n",
              "      <th>percent_days_employed</th>\n",
              "      <th>jobs_per_year</th>\n",
              "      <th>employment_exempt</th>\n",
              "      <th>recidivism_within_3years</th>\n",
              "      <th>recidivism_arrest_year1</th>\n",
              "      <th>recidivism_arrest_year2</th>\n",
              "      <th>recidivism_arrest_year3</th>\n",
              "      <th>training_sample</th>\n",
              "    </tr>\n",
              "  </thead>\n",
              "  <tbody>\n",
              "    <tr>\n",
              "      <th>1</th>\n",
              "      <td>2</td>\n",
              "      <td>M</td>\n",
              "      <td>0</td>\n",
              "      <td>35</td>\n",
              "      <td>16</td>\n",
              "      <td>False</td>\n",
              "      <td>6.0</td>\n",
              "      <td>Specialized</td>\n",
              "      <td>Less than HS diploma</td>\n",
              "      <td>1</td>\n",
              "      <td>...</td>\n",
              "      <td>0.000000</td>\n",
              "      <td>0.0</td>\n",
              "      <td>0.425234</td>\n",
              "      <td>2.000000</td>\n",
              "      <td>False</td>\n",
              "      <td>True</td>\n",
              "      <td>False</td>\n",
              "      <td>False</td>\n",
              "      <td>True</td>\n",
              "      <td>1</td>\n",
              "    </tr>\n",
              "    <tr>\n",
              "      <th>2</th>\n",
              "      <td>3</td>\n",
              "      <td>M</td>\n",
              "      <td>0</td>\n",
              "      <td>48</td>\n",
              "      <td>24</td>\n",
              "      <td>False</td>\n",
              "      <td>7.0</td>\n",
              "      <td>High</td>\n",
              "      <td>At least some college</td>\n",
              "      <td>3 or more</td>\n",
              "      <td>...</td>\n",
              "      <td>0.166667</td>\n",
              "      <td>0.0</td>\n",
              "      <td>0.000000</td>\n",
              "      <td>0.000000</td>\n",
              "      <td>False</td>\n",
              "      <td>True</td>\n",
              "      <td>False</td>\n",
              "      <td>True</td>\n",
              "      <td>False</td>\n",
              "      <td>1</td>\n",
              "    </tr>\n",
              "    <tr>\n",
              "      <th>4</th>\n",
              "      <td>5</td>\n",
              "      <td>M</td>\n",
              "      <td>1</td>\n",
              "      <td>35</td>\n",
              "      <td>16</td>\n",
              "      <td>False</td>\n",
              "      <td>4.0</td>\n",
              "      <td>Specialized</td>\n",
              "      <td>Less than HS diploma</td>\n",
              "      <td>3 or more</td>\n",
              "      <td>...</td>\n",
              "      <td>0.058824</td>\n",
              "      <td>0.0</td>\n",
              "      <td>0.203562</td>\n",
              "      <td>0.929389</td>\n",
              "      <td>False</td>\n",
              "      <td>True</td>\n",
              "      <td>True</td>\n",
              "      <td>False</td>\n",
              "      <td>False</td>\n",
              "      <td>1</td>\n",
              "    </tr>\n",
              "    <tr>\n",
              "      <th>6</th>\n",
              "      <td>7</td>\n",
              "      <td>M</td>\n",
              "      <td>0</td>\n",
              "      <td>48</td>\n",
              "      <td>18</td>\n",
              "      <td>False</td>\n",
              "      <td>2.0</td>\n",
              "      <td>Standard</td>\n",
              "      <td>Less than HS diploma</td>\n",
              "      <td>2</td>\n",
              "      <td>...</td>\n",
              "      <td>0.000000</td>\n",
              "      <td>0.0</td>\n",
              "      <td>0.000000</td>\n",
              "      <td>0.000000</td>\n",
              "      <td>False</td>\n",
              "      <td>True</td>\n",
              "      <td>False</td>\n",
              "      <td>False</td>\n",
              "      <td>True</td>\n",
              "      <td>1</td>\n",
              "    </tr>\n",
              "    <tr>\n",
              "      <th>8</th>\n",
              "      <td>9</td>\n",
              "      <td>F</td>\n",
              "      <td>0</td>\n",
              "      <td>45</td>\n",
              "      <td>5</td>\n",
              "      <td>False</td>\n",
              "      <td>7.0</td>\n",
              "      <td>High</td>\n",
              "      <td>High School Diploma</td>\n",
              "      <td>0</td>\n",
              "      <td>...</td>\n",
              "      <td>0.000000</td>\n",
              "      <td>0.0</td>\n",
              "      <td>0.000000</td>\n",
              "      <td>0.000000</td>\n",
              "      <td>True</td>\n",
              "      <td>True</td>\n",
              "      <td>True</td>\n",
              "      <td>False</td>\n",
              "      <td>False</td>\n",
              "      <td>1</td>\n",
              "    </tr>\n",
              "  </tbody>\n",
              "</table>\n",
              "<p>5 rows × 54 columns</p>\n",
              "</div>\n",
              "      <button class=\"colab-df-convert\" onclick=\"convertToInteractive('df-e2c9c8b1-2ebc-4232-b908-1c29ee476c3e')\"\n",
              "              title=\"Convert this dataframe to an interactive table.\"\n",
              "              style=\"display:none;\">\n",
              "        \n",
              "  <svg xmlns=\"http://www.w3.org/2000/svg\" height=\"24px\"viewBox=\"0 0 24 24\"\n",
              "       width=\"24px\">\n",
              "    <path d=\"M0 0h24v24H0V0z\" fill=\"none\"/>\n",
              "    <path d=\"M18.56 5.44l.94 2.06.94-2.06 2.06-.94-2.06-.94-.94-2.06-.94 2.06-2.06.94zm-11 1L8.5 8.5l.94-2.06 2.06-.94-2.06-.94L8.5 2.5l-.94 2.06-2.06.94zm10 10l.94 2.06.94-2.06 2.06-.94-2.06-.94-.94-2.06-.94 2.06-2.06.94z\"/><path d=\"M17.41 7.96l-1.37-1.37c-.4-.4-.92-.59-1.43-.59-.52 0-1.04.2-1.43.59L10.3 9.45l-7.72 7.72c-.78.78-.78 2.05 0 2.83L4 21.41c.39.39.9.59 1.41.59.51 0 1.02-.2 1.41-.59l7.78-7.78 2.81-2.81c.8-.78.8-2.07 0-2.86zM5.41 20L4 18.59l7.72-7.72 1.47 1.35L5.41 20z\"/>\n",
              "  </svg>\n",
              "      </button>\n",
              "      \n",
              "  <style>\n",
              "    .colab-df-container {\n",
              "      display:flex;\n",
              "      flex-wrap:wrap;\n",
              "      gap: 12px;\n",
              "    }\n",
              "\n",
              "    .colab-df-convert {\n",
              "      background-color: #E8F0FE;\n",
              "      border: none;\n",
              "      border-radius: 50%;\n",
              "      cursor: pointer;\n",
              "      display: none;\n",
              "      fill: #1967D2;\n",
              "      height: 32px;\n",
              "      padding: 0 0 0 0;\n",
              "      width: 32px;\n",
              "    }\n",
              "\n",
              "    .colab-df-convert:hover {\n",
              "      background-color: #E2EBFA;\n",
              "      box-shadow: 0px 1px 2px rgba(60, 64, 67, 0.3), 0px 1px 3px 1px rgba(60, 64, 67, 0.15);\n",
              "      fill: #174EA6;\n",
              "    }\n",
              "\n",
              "    [theme=dark] .colab-df-convert {\n",
              "      background-color: #3B4455;\n",
              "      fill: #D2E3FC;\n",
              "    }\n",
              "\n",
              "    [theme=dark] .colab-df-convert:hover {\n",
              "      background-color: #434B5C;\n",
              "      box-shadow: 0px 1px 3px 1px rgba(0, 0, 0, 0.15);\n",
              "      filter: drop-shadow(0px 1px 2px rgba(0, 0, 0, 0.3));\n",
              "      fill: #FFFFFF;\n",
              "    }\n",
              "  </style>\n",
              "\n",
              "      <script>\n",
              "        const buttonEl =\n",
              "          document.querySelector('#df-e2c9c8b1-2ebc-4232-b908-1c29ee476c3e button.colab-df-convert');\n",
              "        buttonEl.style.display =\n",
              "          google.colab.kernel.accessAllowed ? 'block' : 'none';\n",
              "\n",
              "        async function convertToInteractive(key) {\n",
              "          const element = document.querySelector('#df-e2c9c8b1-2ebc-4232-b908-1c29ee476c3e');\n",
              "          const dataTable =\n",
              "            await google.colab.kernel.invokeFunction('convertToInteractive',\n",
              "                                                     [key], {});\n",
              "          if (!dataTable) return;\n",
              "\n",
              "          const docLinkHtml = 'Like what you see? Visit the ' +\n",
              "            '<a target=\"_blank\" href=https://colab.research.google.com/notebooks/data_table.ipynb>data table notebook</a>'\n",
              "            + ' to learn more about interactive tables.';\n",
              "          element.innerHTML = '';\n",
              "          dataTable['output_type'] = 'display_data';\n",
              "          await google.colab.output.renderOutput(dataTable, element);\n",
              "          const docLink = document.createElement('div');\n",
              "          docLink.innerHTML = docLinkHtml;\n",
              "          element.appendChild(docLink);\n",
              "        }\n",
              "      </script>\n",
              "    </div>\n",
              "  </div>\n",
              "  "
            ]
          },
          "metadata": {},
          "execution_count": 95
        }
      ]
    },
    {
      "cell_type": "code",
      "source": [
        "counts = df_recidivism_within_3years_True['prison_offense'].value_counts()\n",
        "counts.plot.bar()"
      ],
      "metadata": {
        "colab": {
          "base_uri": "https://localhost:8080/",
          "height": 353
        },
        "id": "9neZPjWW_Q7K",
        "outputId": "92c9d577-51bf-4785-cdbb-17c47e7d1258"
      },
      "execution_count": 96,
      "outputs": [
        {
          "output_type": "execute_result",
          "data": {
            "text/plain": [
              "<matplotlib.axes._subplots.AxesSubplot at 0x7f134f2fa8b0>"
            ]
          },
          "metadata": {},
          "execution_count": 96
        },
        {
          "output_type": "display_data",
          "data": {
            "text/plain": [
              "<Figure size 432x288 with 1 Axes>"
            ],
            "image/png": "[encoded data removed]"
          },
          "metadata": {
            "needs_background": "light"
          }
        }
      ]
    },
    {
      "cell_type": "code",
      "source": [
        "counts"
      ],
      "metadata": {
        "colab": {
          "base_uri": "https://localhost:8080/"
        },
        "id": "tFeh646z_Tn8",
        "outputId": "3f785141-5343-427f-bd0d-86152e8f1660"
      },
      "execution_count": 97,
      "outputs": [
        {
          "output_type": "execute_result",
          "data": {
            "text/plain": [
              "Property           6003\n",
              "Violent/Non-Sex    3369\n",
              "Drug               3279\n",
              "Other              1938\n",
              "Violent/Sex         315\n",
              "Name: prison_offense, dtype: int64"
            ]
          },
          "metadata": {},
          "execution_count": 97
        }
      ]
    },
    {
      "cell_type": "markdown",
      "source": [
        "Maximum occurence of a crime is property"
      ],
      "metadata": {
        "id": "lHR_hdSG_fG8"
      }
    },
    {
      "cell_type": "markdown",
      "source": [
        "Question 5)"
      ],
      "metadata": {
        "id": "6vNo-9hX_jot"
      }
    },
    {
      "cell_type": "code",
      "source": [
        "counts = df_recidivism_within_3years_True['age_at_release'].value_counts()\n",
        "counts.plot.bar()"
      ],
      "metadata": {
        "colab": {
          "base_uri": "https://localhost:8080/",
          "height": 286
        },
        "id": "pn_aBvHq_XQh",
        "outputId": "f7f19f89-4ffc-40c8-d6ca-6db7cd4506ed"
      },
      "execution_count": 98,
      "outputs": [
        {
          "output_type": "execute_result",
          "data": {
            "text/plain": [
              "<matplotlib.axes._subplots.AxesSubplot at 0x7f134f264a60>"
            ]
          },
          "metadata": {},
          "execution_count": 98
        },
        {
          "output_type": "display_data",
          "data": {
            "text/plain": [
              "<Figure size 432x288 with 1 Axes>"
            ],
            "image/png": "[encoded data removed]"
          },
          "metadata": {
            "needs_background": "light"
          }
        }
      ]
    },
    {
      "cell_type": "code",
      "source": [
        "counts"
      ],
      "metadata": {
        "colab": {
          "base_uri": "https://localhost:8080/"
        },
        "id": "zDz3ZRyQ_pDW",
        "outputId": "c671d88c-1219-4c0c-ac56-59b8784a7625"
      },
      "execution_count": 99,
      "outputs": [
        {
          "output_type": "execute_result",
          "data": {
            "text/plain": [
              "25    3438\n",
              "30    3062\n",
              "35    2445\n",
              "40    1585\n",
              "48    1561\n",
              "20    1487\n",
              "45    1326\n",
              "Name: age_at_release, dtype: int64"
            ]
          },
          "metadata": {},
          "execution_count": 99
        }
      ]
    },
    {
      "cell_type": "markdown",
      "source": [
        "Prisoners who are youngers at time of release are more likely to reoffend than those who are older."
      ],
      "metadata": {
        "id": "M2l5X2lb_wrc"
      }
    },
    {
      "cell_type": "code",
      "source": [
        "df = df.groupby([\"recidivism_within_3years\"])[\"prison_offense\"].value_counts(normalize=True)"
      ],
      "metadata": {
        "id": "N6MgXR4i_r_g"
      },
      "execution_count": 100,
      "outputs": []
    },
    {
      "cell_type": "code",
      "source": [
        "df"
      ],
      "metadata": {
        "colab": {
          "base_uri": "https://localhost:8080/"
        },
        "id": "L0UTT4vhAJQq",
        "outputId": "60d9a9f4-b54d-4064-8281-fe1beccffab8"
      },
      "execution_count": 101,
      "outputs": [
        {
          "output_type": "execute_result",
          "data": {
            "text/plain": [
              "recidivism_within_3years  prison_offense \n",
              "False                     Property           0.319275\n",
              "                          Violent/Non-Sex    0.260909\n",
              "                          Drug               0.249291\n",
              "                          Other              0.114445\n",
              "                          Violent/Sex        0.056079\n",
              "True                      Property           0.402778\n",
              "                          Violent/Non-Sex    0.226047\n",
              "                          Drug               0.220008\n",
              "                          Other              0.130032\n",
              "                          Violent/Sex        0.021135\n",
              "Name: prison_offense, dtype: float64"
            ]
          },
          "metadata": {},
          "execution_count": 101
        }
      ]
    },
    {
      "cell_type": "code",
      "source": [
        "df.plot.bar()"
      ],
      "metadata": {
        "colab": {
          "base_uri": "https://localhost:8080/",
          "height": 407
        },
        "id": "Zz-GZuJ6AMMe",
        "outputId": "3a46a0ce-0a1d-4d11-8361-037a48071192"
      },
      "execution_count": 102,
      "outputs": [
        {
          "output_type": "execute_result",
          "data": {
            "text/plain": [
              "<matplotlib.axes._subplots.AxesSubplot at 0x7f134e695e20>"
            ]
          },
          "metadata": {},
          "execution_count": 102
        },
        {
          "output_type": "display_data",
          "data": {
            "text/plain": [
              "<Figure size 432x288 with 1 Axes>"
            ],
            "image/png": "[encoded data removed]"
          },
          "metadata": {
            "needs_background": "light"
          }
        }
      ]
    },
    {
      "cell_type": "code",
      "source": [
        "df = df.groupby([\"recidivism_within_3years\"])[\"age_at_release\"].value_counts(normalize=True)"
      ],
      "metadata": {
        "id": "Gi6HhwkvAUwS"
      },
      "execution_count": 157,
      "outputs": []
    },
    {
      "cell_type": "code",
      "source": [
        "df"
      ],
      "metadata": {
        "colab": {
          "base_uri": "https://localhost:8080/"
        },
        "id": "_CyZXhO9A8mR",
        "outputId": "062e9591-1ff3-4686-9bdc-ab194089f6d4"
      },
      "execution_count": 158,
      "outputs": [
        {
          "output_type": "execute_result",
          "data": {
            "text/plain": [
              "recidivism_within_3years  age_at_release\n",
              "False                     48                0.198152\n",
              "                          30                0.175647\n",
              "                          35                0.167048\n",
              "                          25                0.158997\n",
              "                          40                0.128808\n",
              "                          45                0.118379\n",
              "                          20                0.052969\n",
              "True                      25                0.230676\n",
              "                          30                0.205448\n",
              "                          35                0.164050\n",
              "                          40                0.106347\n",
              "                          48                0.104737\n",
              "                          20                0.099772\n",
              "                          45                0.088969\n",
              "Name: age_at_release, dtype: float64"
            ]
          },
          "metadata": {},
          "execution_count": 158
        }
      ]
    },
    {
      "cell_type": "code",
      "source": [
        "df.plot.bar()"
      ],
      "metadata": {
        "colab": {
          "base_uri": "https://localhost:8080/",
          "height": 340
        },
        "id": "fdmiUxdPA-UO",
        "outputId": "217e6f0b-494a-4480-e7a3-cbc21177eddc"
      },
      "execution_count": 159,
      "outputs": [
        {
          "output_type": "execute_result",
          "data": {
            "text/plain": [
              "<matplotlib.axes._subplots.AxesSubplot at 0x7f134e6a3d00>"
            ]
          },
          "metadata": {},
          "execution_count": 159
        },
        {
          "output_type": "display_data",
          "data": {
            "text/plain": [
              "<Figure size 432x288 with 1 Axes>"
            ],
            "image/png": "[encoded data removed]"
          },
          "metadata": {
            "needs_background": "light"
          }
        }
      ]
    },
    {
      "cell_type": "markdown",
      "source": [
        "#Part 4"
      ],
      "metadata": {
        "id": "e5EiRb06BG3E"
      }
    },
    {
      "cell_type": "code",
      "source": [
        "df_firearm = pd.read_excel('/content/DATABASE_0.xlsx')"
      ],
      "metadata": {
        "id": "1hHAkB72BHn6"
      },
      "execution_count": 160,
      "outputs": []
    },
    {
      "cell_type": "code",
      "source": [
        "df_firearm = df_firearm.drop(df_firearm[df_firearm['year'] != 2020].index, axis=0)"
      ],
      "metadata": {
        "id": "q9ZFOByIBe9x"
      },
      "execution_count": 161,
      "outputs": []
    },
    {
      "cell_type": "code",
      "source": [
        "df_firearm.head()"
      ],
      "metadata": {
        "colab": {
          "base_uri": "https://localhost:8080/",
          "height": 299
        },
        "id": "w2Kr-WnKBmV6",
        "outputId": "b6a0408a-c199-4543-f12a-3f09713c1057"
      },
      "execution_count": 162,
      "outputs": [
        {
          "output_type": "execute_result",
          "data": {
            "text/plain": [
              "          state  year  felony  invcommitment  invoutpatient  danger  \\\n",
              "29      Alabama  2020       0              1              0       1   \n",
              "59       Alaska  2020       1              0              0       0   \n",
              "89      Arizona  2020       1              1              1       1   \n",
              "119    Arkansas  2020       1              1              0       1   \n",
              "149  California  2020       1              1              0       1   \n",
              "\n",
              "     drugmisdemeanor  alctreatment  alcoholism  relinquishment  ...  \\\n",
              "29                 0             0           1               0  ...   \n",
              "59                 0             0           0               0  ...   \n",
              "89                 0             0           0               0  ...   \n",
              "119                0             0           0               0  ...   \n",
              "149                0             0           1               1  ...   \n",
              "\n",
              "     expartedating  dvrosurrender  dvrosurrendernoconditions  \\\n",
              "29               0              0                          0   \n",
              "59               0              0                          0   \n",
              "89               0              0                          0   \n",
              "119              0              0                          0   \n",
              "149              1              1                          1   \n",
              "\n",
              "     dvrosurrenderdating  expartesurrender  expartesurrendernoconditions  \\\n",
              "29                     0                 0                             0   \n",
              "59                     0                 0                             0   \n",
              "89                     0                 0                             0   \n",
              "119                    0                 0                             0   \n",
              "149                    1                 1                             1   \n",
              "\n",
              "     expartesurrenderdating  dvroremoval  stalking  lawtotal  \n",
              "29                        0            0         0        10  \n",
              "59                        0            0         0         3  \n",
              "89                        0            0         1         8  \n",
              "119                       0            0         0        11  \n",
              "149                       1            1         1       111  \n",
              "\n",
              "[5 rows x 137 columns]"
            ],
            "text/html": [
              "\n",
              "  <div id=\"df-738cd581-cd96-4e9d-949c-3d25635d7ec9\">\n",
              "    <div class=\"colab-df-container\">\n",
              "      <div>\n",
              "<style scoped>\n",
              "    .dataframe tbody tr th:only-of-type {\n",
              "        vertical-align: middle;\n",
              "    }\n",
              "\n",
              "    .dataframe tbody tr th {\n",
              "        vertical-align: top;\n",
              "    }\n",
              "\n",
              "    .dataframe thead th {\n",
              "        text-align: right;\n",
              "    }\n",
              "</style>\n",
              "<table border=\"1\" class=\"dataframe\">\n",
              "  <thead>\n",
              "    <tr style=\"text-align: right;\">\n",
              "      <th></th>\n",
              "      <th>state</th>\n",
              "      <th>year</th>\n",
              "      <th>felony</th>\n",
              "      <th>invcommitment</th>\n",
              "      <th>invoutpatient</th>\n",
              "      <th>danger</th>\n",
              "      <th>drugmisdemeanor</th>\n",
              "      <th>alctreatment</th>\n",
              "      <th>alcoholism</th>\n",
              "      <th>relinquishment</th>\n",
              "      <th>...</th>\n",
              "      <th>expartedating</th>\n",
              "      <th>dvrosurrender</th>\n",
              "      <th>dvrosurrendernoconditions</th>\n",
              "      <th>dvrosurrenderdating</th>\n",
              "      <th>expartesurrender</th>\n",
              "      <th>expartesurrendernoconditions</th>\n",
              "      <th>expartesurrenderdating</th>\n",
              "      <th>dvroremoval</th>\n",
              "      <th>stalking</th>\n",
              "      <th>lawtotal</th>\n",
              "    </tr>\n",
              "  </thead>\n",
              "  <tbody>\n",
              "    <tr>\n",
              "      <th>29</th>\n",
              "      <td>Alabama</td>\n",
              "      <td>2020</td>\n",
              "      <td>0</td>\n",
              "      <td>1</td>\n",
              "      <td>0</td>\n",
              "      <td>1</td>\n",
              "      <td>0</td>\n",
              "      <td>0</td>\n",
              "      <td>1</td>\n",
              "      <td>0</td>\n",
              "      <td>...</td>\n",
              "      <td>0</td>\n",
              "      <td>0</td>\n",
              "      <td>0</td>\n",
              "      <td>0</td>\n",
              "      <td>0</td>\n",
              "      <td>0</td>\n",
              "      <td>0</td>\n",
              "      <td>0</td>\n",
              "      <td>0</td>\n",
              "      <td>10</td>\n",
              "    </tr>\n",
              "    <tr>\n",
              "      <th>59</th>\n",
              "      <td>Alaska</td>\n",
              "      <td>2020</td>\n",
              "      <td>1</td>\n",
              "      <td>0</td>\n",
              "      <td>0</td>\n",
              "      <td>0</td>\n",
              "      <td>0</td>\n",
              "      <td>0</td>\n",
              "      <td>0</td>\n",
              "      <td>0</td>\n",
              "      <td>...</td>\n",
              "      <td>0</td>\n",
              "      <td>0</td>\n",
              "      <td>0</td>\n",
              "      <td>0</td>\n",
              "      <td>0</td>\n",
              "      <td>0</td>\n",
              "      <td>0</td>\n",
              "      <td>0</td>\n",
              "      <td>0</td>\n",
              "      <td>3</td>\n",
              "    </tr>\n",
              "    <tr>\n",
              "      <th>89</th>\n",
              "      <td>Arizona</td>\n",
              "      <td>2020</td>\n",
              "      <td>1</td>\n",
              "      <td>1</td>\n",
              "      <td>1</td>\n",
              "      <td>1</td>\n",
              "      <td>0</td>\n",
              "      <td>0</td>\n",
              "      <td>0</td>\n",
              "      <td>0</td>\n",
              "      <td>...</td>\n",
              "      <td>0</td>\n",
              "      <td>0</td>\n",
              "      <td>0</td>\n",
              "      <td>0</td>\n",
              "      <td>0</td>\n",
              "      <td>0</td>\n",
              "      <td>0</td>\n",
              "      <td>0</td>\n",
              "      <td>1</td>\n",
              "      <td>8</td>\n",
              "    </tr>\n",
              "    <tr>\n",
              "      <th>119</th>\n",
              "      <td>Arkansas</td>\n",
              "      <td>2020</td>\n",
              "      <td>1</td>\n",
              "      <td>1</td>\n",
              "      <td>0</td>\n",
              "      <td>1</td>\n",
              "      <td>0</td>\n",
              "      <td>0</td>\n",
              "      <td>0</td>\n",
              "      <td>0</td>\n",
              "      <td>...</td>\n",
              "      <td>0</td>\n",
              "      <td>0</td>\n",
              "      <td>0</td>\n",
              "      <td>0</td>\n",
              "      <td>0</td>\n",
              "      <td>0</td>\n",
              "      <td>0</td>\n",
              "      <td>0</td>\n",
              "      <td>0</td>\n",
              "      <td>11</td>\n",
              "    </tr>\n",
              "    <tr>\n",
              "      <th>149</th>\n",
              "      <td>California</td>\n",
              "      <td>2020</td>\n",
              "      <td>1</td>\n",
              "      <td>1</td>\n",
              "      <td>0</td>\n",
              "      <td>1</td>\n",
              "      <td>0</td>\n",
              "      <td>0</td>\n",
              "      <td>1</td>\n",
              "      <td>1</td>\n",
              "      <td>...</td>\n",
              "      <td>1</td>\n",
              "      <td>1</td>\n",
              "      <td>1</td>\n",
              "      <td>1</td>\n",
              "      <td>1</td>\n",
              "      <td>1</td>\n",
              "      <td>1</td>\n",
              "      <td>1</td>\n",
              "      <td>1</td>\n",
              "      <td>111</td>\n",
              "    </tr>\n",
              "  </tbody>\n",
              "</table>\n",
              "<p>5 rows × 137 columns</p>\n",
              "</div>\n",
              "      <button class=\"colab-df-convert\" onclick=\"convertToInteractive('df-738cd581-cd96-4e9d-949c-3d25635d7ec9')\"\n",
              "              title=\"Convert this dataframe to an interactive table.\"\n",
              "              style=\"display:none;\">\n",
              "        \n",
              "  <svg xmlns=\"http://www.w3.org/2000/svg\" height=\"24px\"viewBox=\"0 0 24 24\"\n",
              "       width=\"24px\">\n",
              "    <path d=\"M0 0h24v24H0V0z\" fill=\"none\"/>\n",
              "    <path d=\"M18.56 5.44l.94 2.06.94-2.06 2.06-.94-2.06-.94-.94-2.06-.94 2.06-2.06.94zm-11 1L8.5 8.5l.94-2.06 2.06-.94-2.06-.94L8.5 2.5l-.94 2.06-2.06.94zm10 10l.94 2.06.94-2.06 2.06-.94-2.06-.94-.94-2.06-.94 2.06-2.06.94z\"/><path d=\"M17.41 7.96l-1.37-1.37c-.4-.4-.92-.59-1.43-.59-.52 0-1.04.2-1.43.59L10.3 9.45l-7.72 7.72c-.78.78-.78 2.05 0 2.83L4 21.41c.39.39.9.59 1.41.59.51 0 1.02-.2 1.41-.59l7.78-7.78 2.81-2.81c.8-.78.8-2.07 0-2.86zM5.41 20L4 18.59l7.72-7.72 1.47 1.35L5.41 20z\"/>\n",
              "  </svg>\n",
              "      </button>\n",
              "      \n",
              "  <style>\n",
              "    .colab-df-container {\n",
              "      display:flex;\n",
              "      flex-wrap:wrap;\n",
              "      gap: 12px;\n",
              "    }\n",
              "\n",
              "    .colab-df-convert {\n",
              "      background-color: #E8F0FE;\n",
              "      border: none;\n",
              "      border-radius: 50%;\n",
              "      cursor: pointer;\n",
              "      display: none;\n",
              "      fill: #1967D2;\n",
              "      height: 32px;\n",
              "      padding: 0 0 0 0;\n",
              "      width: 32px;\n",
              "    }\n",
              "\n",
              "    .colab-df-convert:hover {\n",
              "      background-color: #E2EBFA;\n",
              "      box-shadow: 0px 1px 2px rgba(60, 64, 67, 0.3), 0px 1px 3px 1px rgba(60, 64, 67, 0.15);\n",
              "      fill: #174EA6;\n",
              "    }\n",
              "\n",
              "    [theme=dark] .colab-df-convert {\n",
              "      background-color: #3B4455;\n",
              "      fill: #D2E3FC;\n",
              "    }\n",
              "\n",
              "    [theme=dark] .colab-df-convert:hover {\n",
              "      background-color: #434B5C;\n",
              "      box-shadow: 0px 1px 3px 1px rgba(0, 0, 0, 0.15);\n",
              "      filter: drop-shadow(0px 1px 2px rgba(0, 0, 0, 0.3));\n",
              "      fill: #FFFFFF;\n",
              "    }\n",
              "  </style>\n",
              "\n",
              "      <script>\n",
              "        const buttonEl =\n",
              "          document.querySelector('#df-738cd581-cd96-4e9d-949c-3d25635d7ec9 button.colab-df-convert');\n",
              "        buttonEl.style.display =\n",
              "          google.colab.kernel.accessAllowed ? 'block' : 'none';\n",
              "\n",
              "        async function convertToInteractive(key) {\n",
              "          const element = document.querySelector('#df-738cd581-cd96-4e9d-949c-3d25635d7ec9');\n",
              "          const dataTable =\n",
              "            await google.colab.kernel.invokeFunction('convertToInteractive',\n",
              "                                                     [key], {});\n",
              "          if (!dataTable) return;\n",
              "\n",
              "          const docLinkHtml = 'Like what you see? Visit the ' +\n",
              "            '<a target=\"_blank\" href=https://colab.research.google.com/notebooks/data_table.ipynb>data table notebook</a>'\n",
              "            + ' to learn more about interactive tables.';\n",
              "          element.innerHTML = '';\n",
              "          dataTable['output_type'] = 'display_data';\n",
              "          await google.colab.output.renderOutput(dataTable, element);\n",
              "          const docLink = document.createElement('div');\n",
              "          docLink.innerHTML = docLinkHtml;\n",
              "          element.appendChild(docLink);\n",
              "        }\n",
              "      </script>\n",
              "    </div>\n",
              "  </div>\n",
              "  "
            ]
          },
          "metadata": {},
          "execution_count": 162
        }
      ]
    },
    {
      "cell_type": "code",
      "source": [
        "df_firearm['lawtotal'].mean()"
      ],
      "metadata": {
        "colab": {
          "base_uri": "https://localhost:8080/"
        },
        "id": "uyeuWdv6Bpum",
        "outputId": "99e4f3aa-b860-411a-bb29-eb4159c79770"
      },
      "execution_count": 163,
      "outputs": [
        {
          "output_type": "execute_result",
          "data": {
            "text/plain": [
              "29.44"
            ]
          },
          "metadata": {},
          "execution_count": 163
        }
      ]
    },
    {
      "cell_type": "markdown",
      "source": [
        "Above 30 will considered as strict , below 30 will be considered as non strict"
      ],
      "metadata": {
        "id": "1-XzX_4IBwDg"
      }
    },
    {
      "cell_type": "code",
      "source": [
        "df_firearm_Strict = df_firearm.drop(df_firearm[df_firearm['lawtotal']< 30].index, axis=0)"
      ],
      "metadata": {
        "id": "1ckOLiVSBpoH"
      },
      "execution_count": 164,
      "outputs": []
    },
    {
      "cell_type": "code",
      "source": [
        "df_firearm_Strict.head()"
      ],
      "metadata": {
        "colab": {
          "base_uri": "https://localhost:8080/",
          "height": 299
        },
        "id": "f-on0cmvB0F9",
        "outputId": "2aec03dc-174a-4e51-d584-6ebbbe3fed8f"
      },
      "execution_count": 165,
      "outputs": [
        {
          "output_type": "execute_result",
          "data": {
            "text/plain": [
              "           state  year  felony  invcommitment  invoutpatient  danger  \\\n",
              "149   California  2020       1              1              0       1   \n",
              "179     Colorado  2020       1              0              0       0   \n",
              "209  Connecticut  2020       1              1              1       1   \n",
              "239     Delaware  2020       1              1              1       0   \n",
              "269      Florida  2020       1              1              0       0   \n",
              "\n",
              "     drugmisdemeanor  alctreatment  alcoholism  relinquishment  ...  \\\n",
              "149                0             0           1               1  ...   \n",
              "179                0             0           0               0  ...   \n",
              "209                1             0           0               1  ...   \n",
              "239                1             0           0               0  ...   \n",
              "269                0             0           0               0  ...   \n",
              "\n",
              "     expartedating  dvrosurrender  dvrosurrendernoconditions  \\\n",
              "149              1              1                          1   \n",
              "179              0              1                          1   \n",
              "209              1              1                          1   \n",
              "239              0              0                          0   \n",
              "269              0              0                          0   \n",
              "\n",
              "     dvrosurrenderdating  expartesurrender  expartesurrendernoconditions  \\\n",
              "149                    1                 1                             1   \n",
              "179                    0                 0                             0   \n",
              "209                    1                 1                             1   \n",
              "239                    0                 0                             0   \n",
              "269                    0                 0                             0   \n",
              "\n",
              "     expartesurrenderdating  dvroremoval  stalking  lawtotal  \n",
              "149                       1            1         1       111  \n",
              "179                       0            0         1        32  \n",
              "209                       1            0         1        89  \n",
              "239                       0            0         1        41  \n",
              "269                       0            0         0        30  \n",
              "\n",
              "[5 rows x 137 columns]"
            ],
            "text/html": [
              "\n",
              "  <div id=\"df-c7952539-3c22-477c-9f19-26f6acfdc0ab\">\n",
              "    <div class=\"colab-df-container\">\n",
              "      <div>\n",
              "<style scoped>\n",
              "    .dataframe tbody tr th:only-of-type {\n",
              "        vertical-align: middle;\n",
              "    }\n",
              "\n",
              "    .dataframe tbody tr th {\n",
              "        vertical-align: top;\n",
              "    }\n",
              "\n",
              "    .dataframe thead th {\n",
              "        text-align: right;\n",
              "    }\n",
              "</style>\n",
              "<table border=\"1\" class=\"dataframe\">\n",
              "  <thead>\n",
              "    <tr style=\"text-align: right;\">\n",
              "      <th></th>\n",
              "      <th>state</th>\n",
              "      <th>year</th>\n",
              "      <th>felony</th>\n",
              "      <th>invcommitment</th>\n",
              "      <th>invoutpatient</th>\n",
              "      <th>danger</th>\n",
              "      <th>drugmisdemeanor</th>\n",
              "      <th>alctreatment</th>\n",
              "      <th>alcoholism</th>\n",
              "      <th>relinquishment</th>\n",
              "      <th>...</th>\n",
              "      <th>expartedating</th>\n",
              "      <th>dvrosurrender</th>\n",
              "      <th>dvrosurrendernoconditions</th>\n",
              "      <th>dvrosurrenderdating</th>\n",
              "      <th>expartesurrender</th>\n",
              "      <th>expartesurrendernoconditions</th>\n",
              "      <th>expartesurrenderdating</th>\n",
              "      <th>dvroremoval</th>\n",
              "      <th>stalking</th>\n",
              "      <th>lawtotal</th>\n",
              "    </tr>\n",
              "  </thead>\n",
              "  <tbody>\n",
              "    <tr>\n",
              "      <th>149</th>\n",
              "      <td>California</td>\n",
              "      <td>2020</td>\n",
              "      <td>1</td>\n",
              "      <td>1</td>\n",
              "      <td>0</td>\n",
              "      <td>1</td>\n",
              "      <td>0</td>\n",
              "      <td>0</td>\n",
              "      <td>1</td>\n",
              "      <td>1</td>\n",
              "      <td>...</td>\n",
              "      <td>1</td>\n",
              "      <td>1</td>\n",
              "      <td>1</td>\n",
              "      <td>1</td>\n",
              "      <td>1</td>\n",
              "      <td>1</td>\n",
              "      <td>1</td>\n",
              "      <td>1</td>\n",
              "      <td>1</td>\n",
              "      <td>111</td>\n",
              "    </tr>\n",
              "    <tr>\n",
              "      <th>179</th>\n",
              "      <td>Colorado</td>\n",
              "      <td>2020</td>\n",
              "      <td>1</td>\n",
              "      <td>0</td>\n",
              "      <td>0</td>\n",
              "      <td>0</td>\n",
              "      <td>0</td>\n",
              "      <td>0</td>\n",
              "      <td>0</td>\n",
              "      <td>0</td>\n",
              "      <td>...</td>\n",
              "      <td>0</td>\n",
              "      <td>1</td>\n",
              "      <td>1</td>\n",
              "      <td>0</td>\n",
              "      <td>0</td>\n",
              "      <td>0</td>\n",
              "      <td>0</td>\n",
              "      <td>0</td>\n",
              "      <td>1</td>\n",
              "      <td>32</td>\n",
              "    </tr>\n",
              "    <tr>\n",
              "      <th>209</th>\n",
              "      <td>Connecticut</td>\n",
              "      <td>2020</td>\n",
              "      <td>1</td>\n",
              "      <td>1</td>\n",
              "      <td>1</td>\n",
              "      <td>1</td>\n",
              "      <td>1</td>\n",
              "      <td>0</td>\n",
              "      <td>0</td>\n",
              "      <td>1</td>\n",
              "      <td>...</td>\n",
              "      <td>1</td>\n",
              "      <td>1</td>\n",
              "      <td>1</td>\n",
              "      <td>1</td>\n",
              "      <td>1</td>\n",
              "      <td>1</td>\n",
              "      <td>1</td>\n",
              "      <td>0</td>\n",
              "      <td>1</td>\n",
              "      <td>89</td>\n",
              "    </tr>\n",
              "    <tr>\n",
              "      <th>239</th>\n",
              "      <td>Delaware</td>\n",
              "      <td>2020</td>\n",
              "      <td>1</td>\n",
              "      <td>1</td>\n",
              "      <td>1</td>\n",
              "      <td>0</td>\n",
              "      <td>1</td>\n",
              "      <td>0</td>\n",
              "      <td>0</td>\n",
              "      <td>0</td>\n",
              "      <td>...</td>\n",
              "      <td>0</td>\n",
              "      <td>0</td>\n",
              "      <td>0</td>\n",
              "      <td>0</td>\n",
              "      <td>0</td>\n",
              "      <td>0</td>\n",
              "      <td>0</td>\n",
              "      <td>0</td>\n",
              "      <td>1</td>\n",
              "      <td>41</td>\n",
              "    </tr>\n",
              "    <tr>\n",
              "      <th>269</th>\n",
              "      <td>Florida</td>\n",
              "      <td>2020</td>\n",
              "      <td>1</td>\n",
              "      <td>1</td>\n",
              "      <td>0</td>\n",
              "      <td>0</td>\n",
              "      <td>0</td>\n",
              "      <td>0</td>\n",
              "      <td>0</td>\n",
              "      <td>0</td>\n",
              "      <td>...</td>\n",
              "      <td>0</td>\n",
              "      <td>0</td>\n",
              "      <td>0</td>\n",
              "      <td>0</td>\n",
              "      <td>0</td>\n",
              "      <td>0</td>\n",
              "      <td>0</td>\n",
              "      <td>0</td>\n",
              "      <td>0</td>\n",
              "      <td>30</td>\n",
              "    </tr>\n",
              "  </tbody>\n",
              "</table>\n",
              "<p>5 rows × 137 columns</p>\n",
              "</div>\n",
              "      <button class=\"colab-df-convert\" onclick=\"convertToInteractive('df-c7952539-3c22-477c-9f19-26f6acfdc0ab')\"\n",
              "              title=\"Convert this dataframe to an interactive table.\"\n",
              "              style=\"display:none;\">\n",
              "        \n",
              "  <svg xmlns=\"http://www.w3.org/2000/svg\" height=\"24px\"viewBox=\"0 0 24 24\"\n",
              "       width=\"24px\">\n",
              "    <path d=\"M0 0h24v24H0V0z\" fill=\"none\"/>\n",
              "    <path d=\"M18.56 5.44l.94 2.06.94-2.06 2.06-.94-2.06-.94-.94-2.06-.94 2.06-2.06.94zm-11 1L8.5 8.5l.94-2.06 2.06-.94-2.06-.94L8.5 2.5l-.94 2.06-2.06.94zm10 10l.94 2.06.94-2.06 2.06-.94-2.06-.94-.94-2.06-.94 2.06-2.06.94z\"/><path d=\"M17.41 7.96l-1.37-1.37c-.4-.4-.92-.59-1.43-.59-.52 0-1.04.2-1.43.59L10.3 9.45l-7.72 7.72c-.78.78-.78 2.05 0 2.83L4 21.41c.39.39.9.59 1.41.59.51 0 1.02-.2 1.41-.59l7.78-7.78 2.81-2.81c.8-.78.8-2.07 0-2.86zM5.41 20L4 18.59l7.72-7.72 1.47 1.35L5.41 20z\"/>\n",
              "  </svg>\n",
              "      </button>\n",
              "      \n",
              "  <style>\n",
              "    .colab-df-container {\n",
              "      display:flex;\n",
              "      flex-wrap:wrap;\n",
              "      gap: 12px;\n",
              "    }\n",
              "\n",
              "    .colab-df-convert {\n",
              "      background-color: #E8F0FE;\n",
              "      border: none;\n",
              "      border-radius: 50%;\n",
              "      cursor: pointer;\n",
              "      display: none;\n",
              "      fill: #1967D2;\n",
              "      height: 32px;\n",
              "      padding: 0 0 0 0;\n",
              "      width: 32px;\n",
              "    }\n",
              "\n",
              "    .colab-df-convert:hover {\n",
              "      background-color: #E2EBFA;\n",
              "      box-shadow: 0px 1px 2px rgba(60, 64, 67, 0.3), 0px 1px 3px 1px rgba(60, 64, 67, 0.15);\n",
              "      fill: #174EA6;\n",
              "    }\n",
              "\n",
              "    [theme=dark] .colab-df-convert {\n",
              "      background-color: #3B4455;\n",
              "      fill: #D2E3FC;\n",
              "    }\n",
              "\n",
              "    [theme=dark] .colab-df-convert:hover {\n",
              "      background-color: #434B5C;\n",
              "      box-shadow: 0px 1px 3px 1px rgba(0, 0, 0, 0.15);\n",
              "      filter: drop-shadow(0px 1px 2px rgba(0, 0, 0, 0.3));\n",
              "      fill: #FFFFFF;\n",
              "    }\n",
              "  </style>\n",
              "\n",
              "      <script>\n",
              "        const buttonEl =\n",
              "          document.querySelector('#df-c7952539-3c22-477c-9f19-26f6acfdc0ab button.colab-df-convert');\n",
              "        buttonEl.style.display =\n",
              "          google.colab.kernel.accessAllowed ? 'block' : 'none';\n",
              "\n",
              "        async function convertToInteractive(key) {\n",
              "          const element = document.querySelector('#df-c7952539-3c22-477c-9f19-26f6acfdc0ab');\n",
              "          const dataTable =\n",
              "            await google.colab.kernel.invokeFunction('convertToInteractive',\n",
              "                                                     [key], {});\n",
              "          if (!dataTable) return;\n",
              "\n",
              "          const docLinkHtml = 'Like what you see? Visit the ' +\n",
              "            '<a target=\"_blank\" href=https://colab.research.google.com/notebooks/data_table.ipynb>data table notebook</a>'\n",
              "            + ' to learn more about interactive tables.';\n",
              "          element.innerHTML = '';\n",
              "          dataTable['output_type'] = 'display_data';\n",
              "          await google.colab.output.renderOutput(dataTable, element);\n",
              "          const docLink = document.createElement('div');\n",
              "          docLink.innerHTML = docLinkHtml;\n",
              "          element.appendChild(docLink);\n",
              "        }\n",
              "      </script>\n",
              "    </div>\n",
              "  </div>\n",
              "  "
            ]
          },
          "metadata": {},
          "execution_count": 165
        }
      ]
    },
    {
      "cell_type": "code",
      "source": [
        "df_firearm_notStrict = df_firearm.drop(df_firearm[df_firearm['lawtotal'] >= 30].index, axis=0)"
      ],
      "metadata": {
        "id": "XKt-KYzpB2Z_"
      },
      "execution_count": 166,
      "outputs": []
    },
    {
      "cell_type": "code",
      "source": [
        "df_firearm_notStrict.head()"
      ],
      "metadata": {
        "colab": {
          "base_uri": "https://localhost:8080/",
          "height": 299
        },
        "id": "juA2We7RB54B",
        "outputId": "2bdbd6c9-a705-43d5-9908-253a44c1c1e4"
      },
      "execution_count": 167,
      "outputs": [
        {
          "output_type": "execute_result",
          "data": {
            "text/plain": [
              "        state  year  felony  invcommitment  invoutpatient  danger  \\\n",
              "29    Alabama  2020       0              1              0       1   \n",
              "59     Alaska  2020       1              0              0       0   \n",
              "89    Arizona  2020       1              1              1       1   \n",
              "119  Arkansas  2020       1              1              0       1   \n",
              "299   Georgia  2020       1              0              0       0   \n",
              "\n",
              "     drugmisdemeanor  alctreatment  alcoholism  relinquishment  ...  \\\n",
              "29                 0             0           1               0  ...   \n",
              "59                 0             0           0               0  ...   \n",
              "89                 0             0           0               0  ...   \n",
              "119                0             0           0               0  ...   \n",
              "299                0             0           0               0  ...   \n",
              "\n",
              "     expartedating  dvrosurrender  dvrosurrendernoconditions  \\\n",
              "29               0              0                          0   \n",
              "59               0              0                          0   \n",
              "89               0              0                          0   \n",
              "119              0              0                          0   \n",
              "299              0              0                          0   \n",
              "\n",
              "     dvrosurrenderdating  expartesurrender  expartesurrendernoconditions  \\\n",
              "29                     0                 0                             0   \n",
              "59                     0                 0                             0   \n",
              "89                     0                 0                             0   \n",
              "119                    0                 0                             0   \n",
              "299                    0                 0                             0   \n",
              "\n",
              "     expartesurrenderdating  dvroremoval  stalking  lawtotal  \n",
              "29                        0            0         0        10  \n",
              "59                        0            0         0         3  \n",
              "89                        0            0         1         8  \n",
              "119                       0            0         0        11  \n",
              "299                       0            0         0         6  \n",
              "\n",
              "[5 rows x 137 columns]"
            ],
            "text/html": [
              "\n",
              "  <div id=\"df-1cf57dce-331d-4f7c-842b-4d0baf643ce4\">\n",
              "    <div class=\"colab-df-container\">\n",
              "      <div>\n",
              "<style scoped>\n",
              "    .dataframe tbody tr th:only-of-type {\n",
              "        vertical-align: middle;\n",
              "    }\n",
              "\n",
              "    .dataframe tbody tr th {\n",
              "        vertical-align: top;\n",
              "    }\n",
              "\n",
              "    .dataframe thead th {\n",
              "        text-align: right;\n",
              "    }\n",
              "</style>\n",
              "<table border=\"1\" class=\"dataframe\">\n",
              "  <thead>\n",
              "    <tr style=\"text-align: right;\">\n",
              "      <th></th>\n",
              "      <th>state</th>\n",
              "      <th>year</th>\n",
              "      <th>felony</th>\n",
              "      <th>invcommitment</th>\n",
              "      <th>invoutpatient</th>\n",
              "      <th>danger</th>\n",
              "      <th>drugmisdemeanor</th>\n",
              "      <th>alctreatment</th>\n",
              "      <th>alcoholism</th>\n",
              "      <th>relinquishment</th>\n",
              "      <th>...</th>\n",
              "      <th>expartedating</th>\n",
              "      <th>dvrosurrender</th>\n",
              "      <th>dvrosurrendernoconditions</th>\n",
              "      <th>dvrosurrenderdating</th>\n",
              "      <th>expartesurrender</th>\n",
              "      <th>expartesurrendernoconditions</th>\n",
              "      <th>expartesurrenderdating</th>\n",
              "      <th>dvroremoval</th>\n",
              "      <th>stalking</th>\n",
              "      <th>lawtotal</th>\n",
              "    </tr>\n",
              "  </thead>\n",
              "  <tbody>\n",
              "    <tr>\n",
              "      <th>29</th>\n",
              "      <td>Alabama</td>\n",
              "      <td>2020</td>\n",
              "      <td>0</td>\n",
              "      <td>1</td>\n",
              "      <td>0</td>\n",
              "      <td>1</td>\n",
              "      <td>0</td>\n",
              "      <td>0</td>\n",
              "      <td>1</td>\n",
              "      <td>0</td>\n",
              "      <td>...</td>\n",
              "      <td>0</td>\n",
              "      <td>0</td>\n",
              "      <td>0</td>\n",
              "      <td>0</td>\n",
              "      <td>0</td>\n",
              "      <td>0</td>\n",
              "      <td>0</td>\n",
              "      <td>0</td>\n",
              "      <td>0</td>\n",
              "      <td>10</td>\n",
              "    </tr>\n",
              "    <tr>\n",
              "      <th>59</th>\n",
              "      <td>Alaska</td>\n",
              "      <td>2020</td>\n",
              "      <td>1</td>\n",
              "      <td>0</td>\n",
              "      <td>0</td>\n",
              "      <td>0</td>\n",
              "      <td>0</td>\n",
              "      <td>0</td>\n",
              "      <td>0</td>\n",
              "      <td>0</td>\n",
              "      <td>...</td>\n",
              "      <td>0</td>\n",
              "      <td>0</td>\n",
              "      <td>0</td>\n",
              "      <td>0</td>\n",
              "      <td>0</td>\n",
              "      <td>0</td>\n",
              "      <td>0</td>\n",
              "      <td>0</td>\n",
              "      <td>0</td>\n",
              "      <td>3</td>\n",
              "    </tr>\n",
              "    <tr>\n",
              "      <th>89</th>\n",
              "      <td>Arizona</td>\n",
              "      <td>2020</td>\n",
              "      <td>1</td>\n",
              "      <td>1</td>\n",
              "      <td>1</td>\n",
              "      <td>1</td>\n",
              "      <td>0</td>\n",
              "      <td>0</td>\n",
              "      <td>0</td>\n",
              "      <td>0</td>\n",
              "      <td>...</td>\n",
              "      <td>0</td>\n",
              "      <td>0</td>\n",
              "      <td>0</td>\n",
              "      <td>0</td>\n",
              "      <td>0</td>\n",
              "      <td>0</td>\n",
              "      <td>0</td>\n",
              "      <td>0</td>\n",
              "      <td>1</td>\n",
              "      <td>8</td>\n",
              "    </tr>\n",
              "    <tr>\n",
              "      <th>119</th>\n",
              "      <td>Arkansas</td>\n",
              "      <td>2020</td>\n",
              "      <td>1</td>\n",
              "      <td>1</td>\n",
              "      <td>0</td>\n",
              "      <td>1</td>\n",
              "      <td>0</td>\n",
              "      <td>0</td>\n",
              "      <td>0</td>\n",
              "      <td>0</td>\n",
              "      <td>...</td>\n",
              "      <td>0</td>\n",
              "      <td>0</td>\n",
              "      <td>0</td>\n",
              "      <td>0</td>\n",
              "      <td>0</td>\n",
              "      <td>0</td>\n",
              "      <td>0</td>\n",
              "      <td>0</td>\n",
              "      <td>0</td>\n",
              "      <td>11</td>\n",
              "    </tr>\n",
              "    <tr>\n",
              "      <th>299</th>\n",
              "      <td>Georgia</td>\n",
              "      <td>2020</td>\n",
              "      <td>1</td>\n",
              "      <td>0</td>\n",
              "      <td>0</td>\n",
              "      <td>0</td>\n",
              "      <td>0</td>\n",
              "      <td>0</td>\n",
              "      <td>0</td>\n",
              "      <td>0</td>\n",
              "      <td>...</td>\n",
              "      <td>0</td>\n",
              "      <td>0</td>\n",
              "      <td>0</td>\n",
              "      <td>0</td>\n",
              "      <td>0</td>\n",
              "      <td>0</td>\n",
              "      <td>0</td>\n",
              "      <td>0</td>\n",
              "      <td>0</td>\n",
              "      <td>6</td>\n",
              "    </tr>\n",
              "  </tbody>\n",
              "</table>\n",
              "<p>5 rows × 137 columns</p>\n",
              "</div>\n",
              "      <button class=\"colab-df-convert\" onclick=\"convertToInteractive('df-1cf57dce-331d-4f7c-842b-4d0baf643ce4')\"\n",
              "              title=\"Convert this dataframe to an interactive table.\"\n",
              "              style=\"display:none;\">\n",
              "        \n",
              "  <svg xmlns=\"http://www.w3.org/2000/svg\" height=\"24px\"viewBox=\"0 0 24 24\"\n",
              "       width=\"24px\">\n",
              "    <path d=\"M0 0h24v24H0V0z\" fill=\"none\"/>\n",
              "    <path d=\"M18.56 5.44l.94 2.06.94-2.06 2.06-.94-2.06-.94-.94-2.06-.94 2.06-2.06.94zm-11 1L8.5 8.5l.94-2.06 2.06-.94-2.06-.94L8.5 2.5l-.94 2.06-2.06.94zm10 10l.94 2.06.94-2.06 2.06-.94-2.06-.94-.94-2.06-.94 2.06-2.06.94z\"/><path d=\"M17.41 7.96l-1.37-1.37c-.4-.4-.92-.59-1.43-.59-.52 0-1.04.2-1.43.59L10.3 9.45l-7.72 7.72c-.78.78-.78 2.05 0 2.83L4 21.41c.39.39.9.59 1.41.59.51 0 1.02-.2 1.41-.59l7.78-7.78 2.81-2.81c.8-.78.8-2.07 0-2.86zM5.41 20L4 18.59l7.72-7.72 1.47 1.35L5.41 20z\"/>\n",
              "  </svg>\n",
              "      </button>\n",
              "      \n",
              "  <style>\n",
              "    .colab-df-container {\n",
              "      display:flex;\n",
              "      flex-wrap:wrap;\n",
              "      gap: 12px;\n",
              "    }\n",
              "\n",
              "    .colab-df-convert {\n",
              "      background-color: #E8F0FE;\n",
              "      border: none;\n",
              "      border-radius: 50%;\n",
              "      cursor: pointer;\n",
              "      display: none;\n",
              "      fill: #1967D2;\n",
              "      height: 32px;\n",
              "      padding: 0 0 0 0;\n",
              "      width: 32px;\n",
              "    }\n",
              "\n",
              "    .colab-df-convert:hover {\n",
              "      background-color: #E2EBFA;\n",
              "      box-shadow: 0px 1px 2px rgba(60, 64, 67, 0.3), 0px 1px 3px 1px rgba(60, 64, 67, 0.15);\n",
              "      fill: #174EA6;\n",
              "    }\n",
              "\n",
              "    [theme=dark] .colab-df-convert {\n",
              "      background-color: #3B4455;\n",
              "      fill: #D2E3FC;\n",
              "    }\n",
              "\n",
              "    [theme=dark] .colab-df-convert:hover {\n",
              "      background-color: #434B5C;\n",
              "      box-shadow: 0px 1px 3px 1px rgba(0, 0, 0, 0.15);\n",
              "      filter: drop-shadow(0px 1px 2px rgba(0, 0, 0, 0.3));\n",
              "      fill: #FFFFFF;\n",
              "    }\n",
              "  </style>\n",
              "\n",
              "      <script>\n",
              "        const buttonEl =\n",
              "          document.querySelector('#df-1cf57dce-331d-4f7c-842b-4d0baf643ce4 button.colab-df-convert');\n",
              "        buttonEl.style.display =\n",
              "          google.colab.kernel.accessAllowed ? 'block' : 'none';\n",
              "\n",
              "        async function convertToInteractive(key) {\n",
              "          const element = document.querySelector('#df-1cf57dce-331d-4f7c-842b-4d0baf643ce4');\n",
              "          const dataTable =\n",
              "            await google.colab.kernel.invokeFunction('convertToInteractive',\n",
              "                                                     [key], {});\n",
              "          if (!dataTable) return;\n",
              "\n",
              "          const docLinkHtml = 'Like what you see? Visit the ' +\n",
              "            '<a target=\"_blank\" href=https://colab.research.google.com/notebooks/data_table.ipynb>data table notebook</a>'\n",
              "            + ' to learn more about interactive tables.';\n",
              "          element.innerHTML = '';\n",
              "          dataTable['output_type'] = 'display_data';\n",
              "          await google.colab.output.renderOutput(dataTable, element);\n",
              "          const docLink = document.createElement('div');\n",
              "          docLink.innerHTML = docLinkHtml;\n",
              "          element.appendChild(docLink);\n",
              "        }\n",
              "      </script>\n",
              "    </div>\n",
              "  </div>\n",
              "  "
            ]
          },
          "metadata": {},
          "execution_count": 167
        }
      ]
    },
    {
      "cell_type": "markdown",
      "source": [
        "Pending FBI data (Eman's part) to get the number of crimes occured in each state at year 2020 and find the mean of the strict firearm and non strict fire arms and use hypothesis testing to check."
      ],
      "metadata": {
        "id": "o6HBKMp1B8c2"
      }
    },
    {
      "cell_type": "markdown",
      "source": [
        "#Part 5"
      ],
      "metadata": {
        "id": "XIhfP1a9CHZn"
      }
    },
    {
      "cell_type": "markdown",
      "source": [
        "# ** Regression Model**"
      ],
      "metadata": {
        "id": "Uip7q_sLCLJj"
      }
    },
    {
      "cell_type": "code",
      "source": [
        "from sklearn.linear_model import LinearRegression\n",
        "from sklearn.model_selection import train_test_split\n",
        "\n",
        "\n",
        "# Select the features and target\n",
        "X =  df[['prior_conviction_episodes', 'prior_conviction_episodes_1', 'prior_conviction_episodes_2', 'prior_conviction_episodes_3','prior_conviction_episodes_4','prior_conviction_episodes_5','prior_conviction_episodes_6','prior_conviction_episodes_7','race','gang_affiliated','age_at_release']]\n",
        "y = df['supervision_risk_score_first']\n",
        "\n",
        "# Split the data into a training set and a test set\n",
        "X_train, X_test, y_train, y_test = train_test_split(X, y, test_size=0.2, random_state=42)\n",
        "\n",
        "# Create the model\n",
        "model = LinearRegression()\n",
        "\n",
        "# Train the model on the training data\n",
        "model.fit(X_train, y_train)\n",
        "\n",
        "# Evaluate the model on the test data\n",
        "print(model.score(X_test, y_test))"
      ],
      "metadata": {
        "colab": {
          "base_uri": "https://localhost:8080/"
        },
        "id": "r7FogkeJB5zS",
        "outputId": "4c48bf19-9afb-4073-d01a-b62b5aae2c3b"
      },
      "execution_count": 219,
      "outputs": [
        {
          "output_type": "stream",
          "name": "stdout",
          "text": [
            "0.31330061530383346\n"
          ]
        }
      ]
    },
    {
      "cell_type": "code",
      "source": [
        "from sklearn.metrics import mean_squared_error\n",
        "predictions = model.predict(X_test)\n",
        "\n",
        "# Calculate the mean squared error\n",
        "mse = mean_squared_error(y_test, predictions)\n",
        "\n",
        "print(\"Mean Squared Error:\", mse)"
      ],
      "metadata": {
        "colab": {
          "base_uri": "https://localhost:8080/"
        },
        "id": "vxB9a_ZACvld",
        "outputId": "246b4a0a-416e-44bd-fa5e-c8f7f9dc603b"
      },
      "execution_count": 220,
      "outputs": [
        {
          "output_type": "stream",
          "name": "stdout",
          "text": [
            "Mean Squared Error: 3.8727483594677414\n"
          ]
        }
      ]
    },
    {
      "cell_type": "code",
      "source": [
        "from sklearn.linear_model import Ridge\n",
        "\n",
        "model = Ridge(alpha=1.0)\n",
        "\n",
        "# Train the model on the training data\n",
        "model.fit(X_train, y_train)\n",
        "\n",
        "# Evaluate the model on the test data\n",
        "print(model.score(X_test, y_test))\n"
      ],
      "metadata": {
        "colab": {
          "base_uri": "https://localhost:8080/"
        },
        "id": "X8lTkxzCCw2b",
        "outputId": "b971b768-5226-401f-86f9-8a27bbe0d168"
      },
      "execution_count": 221,
      "outputs": [
        {
          "output_type": "stream",
          "name": "stdout",
          "text": [
            "0.31329936046312146\n"
          ]
        }
      ]
    },
    {
      "cell_type": "code",
      "source": [
        "import statsmodels.api as sm\n",
        "# Get the coefficients\n",
        "coefficients = model.coef_\n",
        "intercept = model.intercept_\n",
        "\n",
        "\n",
        "\n",
        "# Print the coefficients and p-values\n",
        "print(coefficients)\n"
      ],
      "metadata": {
        "colab": {
          "base_uri": "https://localhost:8080/"
        },
        "id": "x9d4SCIVCyjE",
        "outputId": "22345fcf-813b-4205-d530-a19ead7fb559"
      },
      "execution_count": 222,
      "outputs": [
        {
          "output_type": "stream",
          "name": "stdout",
          "text": [
            "[ 0.00886336 -0.15505159  0.26329202  0.51752865  0.32547483  0.36729902\n",
            " -0.23909759  0.34912873  0.08352976  0.35663561 -0.13937872]\n"
          ]
        }
      ]
    },
    {
      "cell_type": "code",
      "source": [
        "# Get the p-values\n",
        "X = sm.add_constant(X)\n",
        "model = sm.OLS(y, X.astype(float))\n",
        "results = model.fit()\n",
        "print(results.summary())\n",
        "\n",
        "# Print the coefficients and p-values\n",
        "# print(coefficients)\n",
        "# print(intercept)\n",
        "# print(p_values)"
      ],
      "metadata": {
        "colab": {
          "base_uri": "https://localhost:8080/"
        },
        "id": "Gr16CMgyC0TL",
        "outputId": "63ff5767-6338-4585-b098-471d2af930db"
      },
      "execution_count": 223,
      "outputs": [
        {
          "output_type": "stream",
          "name": "stdout",
          "text": [
            "                                 OLS Regression Results                                 \n",
            "========================================================================================\n",
            "Dep. Variable:     supervision_risk_score_first   R-squared:                       0.301\n",
            "Model:                                      OLS   Adj. R-squared:                  0.301\n",
            "Method:                           Least Squares   F-statistic:                     1011.\n",
            "Date:                          Tue, 10 Jan 2023   Prob (F-statistic):               0.00\n",
            "Time:                                  04:58:35   Log-Likelihood:                -54209.\n",
            "No. Observations:                         25835   AIC:                         1.084e+05\n",
            "Df Residuals:                             25823   BIC:                         1.085e+05\n",
            "Df Model:                                    11                                         \n",
            "Covariance Type:                      nonrobust                                         \n",
            "===============================================================================================\n",
            "                                  coef    std err          t      P>|t|      [0.025      0.975]\n",
            "-----------------------------------------------------------------------------------------------\n",
            "const                           9.9894      0.054    183.480      0.000       9.883      10.096\n",
            "prior_conviction_episodes      -0.0019      0.015     -0.126      0.900      -0.032       0.028\n",
            "prior_conviction_episodes_1    -0.1537      0.011    -14.394      0.000      -0.175      -0.133\n",
            "prior_conviction_episodes_2     0.2563      0.030      8.604      0.000       0.198       0.315\n",
            "prior_conviction_episodes_3     0.5216      0.014     38.187      0.000       0.495       0.548\n",
            "prior_conviction_episodes_4     0.3322      0.018     18.852      0.000       0.298       0.367\n",
            "prior_conviction_episodes_5     0.3533      0.032     11.053      0.000       0.291       0.416\n",
            "prior_conviction_episodes_6    -0.2522      0.049     -5.145      0.000      -0.348      -0.156\n",
            "prior_conviction_episodes_7     0.3446      0.037      9.396      0.000       0.273       0.417\n",
            "race                            0.1064      0.025      4.181      0.000       0.056       0.156\n",
            "gang_affiliated                 0.3963      0.036     10.987      0.000       0.326       0.467\n",
            "age_at_release                 -0.1401      0.002    -87.994      0.000      -0.143      -0.137\n",
            "==============================================================================\n",
            "Omnibus:                      101.984   Durbin-Watson:                   1.934\n",
            "Prob(Omnibus):                  0.000   Jarque-Bera (JB):              136.943\n",
            "Skew:                           0.035   Prob(JB):                     1.83e-30\n",
            "Kurtosis:                       3.350   Cond. No.                         166.\n",
            "==============================================================================\n",
            "\n",
            "Notes:\n",
            "[1] Standard Errors assume that the covariance matrix of the errors is correctly specified.\n"
          ]
        },
        {
          "output_type": "stream",
          "name": "stderr",
          "text": [
            "/usr/local/lib/python3.8/dist-packages/statsmodels/tsa/tsatools.py:142: FutureWarning: In a future version of pandas all arguments of concat except for the argument 'objs' will be keyword-only\n",
            "  x = pd.concat(x[::order], 1)\n"
          ]
        }
      ]
    },
    {
      "cell_type": "markdown",
      "source": [
        "To determine which variables are good predictors of the variabilities in the target, you can look at the p-values of the individual coefficients in the linear regression model.\n",
        "\n",
        "In general, a variable is considered to be a good predictor if it has a low p-value (less than 0.05) in the model. This means that there is a significant relationship between the variable and the target, and the variable can be used to predict the target.\n",
        "\n",
        "On the other hand, a variable is considered to be a bad predictor if it has a high p-value (greater than 0.05) in the model. This means that there is no significant relationship between the variable and the target, and the variable cannot be used to predict the target.\n",
        "\n",
        "good predictors : all variables are good predictors except prior_conviction_episodes\n",
        "\n"
      ],
      "metadata": {
        "id": "PaadIZ7VC5PM"
      }
    },
    {
      "cell_type": "code",
      "source": [
        "corr_matrix = df[['supervision_risk_score_first','prior_conviction_episodes', 'prior_conviction_episodes_1', 'prior_conviction_episodes_2', 'prior_conviction_episodes_3','prior_conviction_episodes_4','prior_conviction_episodes_5','prior_conviction_episodes_6','prior_conviction_episodes_7','race','gang_affiliated','age_at_release']].corr()\n",
        "\n",
        "# Print the correlations\n",
        "print(corr_matrix)"
      ],
      "metadata": {
        "colab": {
          "base_uri": "https://localhost:8080/"
        },
        "id": "UlIwMyWxC2Df",
        "outputId": "369458e0-e503-469f-d05e-6d7835be86a5"
      },
      "execution_count": 224,
      "outputs": [
        {
          "output_type": "stream",
          "name": "stdout",
          "text": [
            "                              supervision_risk_score_first  \\\n",
            "supervision_risk_score_first                      1.000000   \n",
            "prior_conviction_episodes                        -0.041738   \n",
            "prior_conviction_episodes_2                      -0.016360   \n",
            "prior_conviction_episodes_3                       0.101852   \n",
            "prior_conviction_episodes_4                       0.033248   \n",
            "prior_conviction_episodes_5                       0.006277   \n",
            "prior_conviction_episodes_6                      -0.023619   \n",
            "prior_conviction_episodes_7                       0.065559   \n",
            "race                                             -0.038949   \n",
            "gang_affiliated                                   0.207998   \n",
            "age_at_release                                   -0.471555   \n",
            "\n",
            "                              prior_conviction_episodes  \\\n",
            "supervision_risk_score_first                  -0.041738   \n",
            "prior_conviction_episodes                      1.000000   \n",
            "prior_conviction_episodes_2                    0.155620   \n",
            "prior_conviction_episodes_3                    0.529131   \n",
            "prior_conviction_episodes_4                    0.364823   \n",
            "prior_conviction_episodes_5                    0.438703   \n",
            "prior_conviction_episodes_6                    0.092093   \n",
            "prior_conviction_episodes_7                    0.048854   \n",
            "race                                           0.016322   \n",
            "gang_affiliated                               -0.083505   \n",
            "age_at_release                                 0.403658   \n",
            "\n",
            "                              prior_conviction_episodes_2  \\\n",
            "supervision_risk_score_first                    -0.016360   \n",
            "prior_conviction_episodes                        0.155620   \n",
            "prior_conviction_episodes_2                      1.000000   \n",
            "prior_conviction_episodes_3                      0.038576   \n",
            "prior_conviction_episodes_4                     -0.035861   \n",
            "prior_conviction_episodes_5                      0.089750   \n",
            "prior_conviction_episodes_6                      0.367193   \n",
            "prior_conviction_episodes_7                      0.113235   \n",
            "race                                            -0.111781   \n",
            "gang_affiliated                                  0.064032   \n",
            "age_at_release                                   0.098799   \n",
            "\n",
            "                              prior_conviction_episodes_3  \\\n",
            "supervision_risk_score_first                     0.101852   \n",
            "prior_conviction_episodes                        0.529131   \n",
            "prior_conviction_episodes_2                      0.038576   \n",
            "prior_conviction_episodes_3                      1.000000   \n",
            "prior_conviction_episodes_4                     -0.025368   \n",
            "prior_conviction_episodes_5                      0.300086   \n",
            "prior_conviction_episodes_6                      0.054672   \n",
            "prior_conviction_episodes_7                     -0.013145   \n",
            "race                                             0.084708   \n",
            "gang_affiliated                                 -0.032333   \n",
            "age_at_release                                   0.255816   \n",
            "\n",
            "                              prior_conviction_episodes_4  \\\n",
            "supervision_risk_score_first                     0.033248   \n",
            "prior_conviction_episodes                        0.364823   \n",
            "prior_conviction_episodes_2                     -0.035861   \n",
            "prior_conviction_episodes_3                     -0.025368   \n",
            "prior_conviction_episodes_4                      1.000000   \n",
            "prior_conviction_episodes_5                      0.223817   \n",
            "prior_conviction_episodes_6                      0.035466   \n",
            "prior_conviction_episodes_7                      0.113543   \n",
            "race                                             0.001676   \n",
            "gang_affiliated                                 -0.049491   \n",
            "age_at_release                                   0.113556   \n",
            "\n",
            "                              prior_conviction_episodes_5  \\\n",
            "supervision_risk_score_first                     0.006277   \n",
            "prior_conviction_episodes                        0.438703   \n",
            "prior_conviction_episodes_2                      0.089750   \n",
            "prior_conviction_episodes_3                      0.300086   \n",
            "prior_conviction_episodes_4                      0.223817   \n",
            "prior_conviction_episodes_5                      1.000000   \n",
            "prior_conviction_episodes_6                      0.086955   \n",
            "prior_conviction_episodes_7                      0.036715   \n",
            "race                                             0.044273   \n",
            "gang_affiliated                                 -0.040783   \n",
            "age_at_release                                   0.223754   \n",
            "\n",
            "                              prior_conviction_episodes_6  \\\n",
            "supervision_risk_score_first                    -0.023619   \n",
            "prior_conviction_episodes                        0.092093   \n",
            "prior_conviction_episodes_2                      0.367193   \n",
            "prior_conviction_episodes_3                      0.054672   \n",
            "prior_conviction_episodes_4                      0.035466   \n",
            "prior_conviction_episodes_5                      0.086955   \n",
            "prior_conviction_episodes_6                      1.000000   \n",
            "prior_conviction_episodes_7                      0.026564   \n",
            "race                                             0.005436   \n",
            "gang_affiliated                                  0.014366   \n",
            "age_at_release                                   0.030467   \n",
            "\n",
            "                              prior_conviction_episodes_7      race  \\\n",
            "supervision_risk_score_first                     0.065559 -0.038949   \n",
            "prior_conviction_episodes                        0.048854  0.016322   \n",
            "prior_conviction_episodes_2                      0.113235 -0.111781   \n",
            "prior_conviction_episodes_3                     -0.013145  0.084708   \n",
            "prior_conviction_episodes_4                      0.113543  0.001676   \n",
            "prior_conviction_episodes_5                      0.036715  0.044273   \n",
            "prior_conviction_episodes_6                      0.026564  0.005436   \n",
            "prior_conviction_episodes_7                      1.000000 -0.071874   \n",
            "race                                            -0.071874  1.000000   \n",
            "gang_affiliated                                  0.054849 -0.106490   \n",
            "age_at_release                                  -0.001998  0.123097   \n",
            "\n",
            "                              gang_affiliated  age_at_release  \n",
            "supervision_risk_score_first         0.207998       -0.471555  \n",
            "prior_conviction_episodes           -0.083505        0.403658  \n",
            "prior_conviction_episodes_2          0.064032        0.098799  \n",
            "prior_conviction_episodes_3         -0.032333        0.255816  \n",
            "prior_conviction_episodes_4         -0.049491        0.113556  \n",
            "prior_conviction_episodes_5         -0.040783        0.223754  \n",
            "prior_conviction_episodes_6          0.014366        0.030467  \n",
            "prior_conviction_episodes_7          0.054849       -0.001998  \n",
            "race                                -0.106490        0.123097  \n",
            "gang_affiliated                      1.000000       -0.295021  \n",
            "age_at_release                      -0.295021        1.000000  \n"
          ]
        }
      ]
    },
    {
      "cell_type": "code",
      "source": [
        "import seaborn as sns\n",
        "sns.heatmap(corr_matrix, xticklabels=corr_matrix.columns, yticklabels=corr_matrix.columns, cmap='RdYlGn')"
      ],
      "metadata": {
        "colab": {
          "base_uri": "https://localhost:8080/",
          "height": 419
        },
        "id": "jrWutwXPC7q_",
        "outputId": "d1f1332b-24f7-4879-aee8-48bb893a8c7b"
      },
      "execution_count": 225,
      "outputs": [
        {
          "output_type": "execute_result",
          "data": {
            "text/plain": [
              "<matplotlib.axes._subplots.AxesSubplot at 0x7f133f2b3970>"
            ]
          },
          "metadata": {},
          "execution_count": 225
        },
        {
          "output_type": "display_data",
          "data": {
            "text/plain": [
              "<Figure size 432x288 with 2 Axes>"
            ],
            "image/png": "[encoded data removed]"
          },
          "metadata": {
            "needs_background": "light"
          }
        }
      ]
    },
    {
      "cell_type": "markdown",
      "source": [
        "#Part 6"
      ],
      "metadata": {
        "id": "yUbaGIVPC_z_"
      }
    },
    {
      "cell_type": "markdown",
      "source": [
        "# **Collecting data**"
      ],
      "metadata": {
        "id": "D74PbCaLDH_r"
      }
    },
    {
      "cell_type": "markdown",
      "source": [
        "Data already collected and Nulls already filled in the previous task"
      ],
      "metadata": {
        "id": "Hy_KSKfeD4Wp"
      }
    },
    {
      "cell_type": "markdown",
      "source": [
        "# **Performing one hot encoding on object data**"
      ],
      "metadata": {
        "id": "p4UxbH6_D-hM"
      }
    },
    {
      "cell_type": "code",
      "source": [
        "df = pd.get_dummies(df, columns=['gender','race','age_at_release','supervision_level_first'])"
      ],
      "metadata": {
        "id": "5hVHWychD7zZ"
      },
      "execution_count": 264,
      "outputs": []
    },
    {
      "cell_type": "code",
      "source": [
        "object_columns = df.select_dtypes(include=['object']).columns\n",
        "\n",
        "# One-hot encode the object columns\n",
        "df = pd.get_dummies(df, columns=object_columns)"
      ],
      "metadata": {
        "id": "xEKgsuegEAvi"
      },
      "execution_count": 265,
      "outputs": []
    },
    {
      "cell_type": "code",
      "source": [
        "df.shape"
      ],
      "metadata": {
        "colab": {
          "base_uri": "https://localhost:8080/"
        },
        "id": "-P-dxb1rEB6g",
        "outputId": "8c183d60-edf6-42c6-b167-538af888ff97"
      },
      "execution_count": 266,
      "outputs": [
        {
          "output_type": "execute_result",
          "data": {
            "text/plain": [
              "(25835, 142)"
            ]
          },
          "metadata": {},
          "execution_count": 266
        }
      ]
    },
    {
      "cell_type": "code",
      "source": [
        "# bool_columns = df.select_dtypes(include=['bool']).columns\n",
        "# bool_columns\n",
        "# # # Convert bool columns to int\n",
        "# # df[bool_columns] = df[bool_columns].astype(int)"
      ],
      "metadata": {
        "id": "zDLeQ8EFEC8b"
      },
      "execution_count": 267,
      "outputs": []
    },
    {
      "cell_type": "markdown",
      "source": [
        "# **Model**"
      ],
      "metadata": {
        "id": "oN4ldpAxEG4t"
      }
    },
    {
      "cell_type": "markdown",
      "source": [
        "I decided to use random forest because:\n",
        "- Random forests are powerful and accurate: Random forest classifiers are known for their high accuracy and ability to handle large and complex datasets. They work by creating an ensemble of decision trees, each of which is trained on a random subset of the data, and then combining their predictions to make a final decision. This process helps to reduce overfitting and improve the generalization of the model.\n",
        "\n",
        "- They can handle a mix of data types: Random forests can handle a mix of numerical and categorical data, which is often the case in real-world datasets. This makes them a good choice for predicting recidivism, which may involve a variety of different types of data, such as demographic information, criminal history, and social support.\n",
        "\n",
        "- They are easy to interpret: Random forests are relatively easy to interpret, as you can visualize the decision trees and see how different features contribute to the final prediction. This can be helpful when trying to understand the factors that influence recidivism and identify areas for intervention."
      ],
      "metadata": {
        "id": "XbtHfk5FEKWo"
      }
    },
    {
      "cell_type": "code",
      "source": [
        "from sklearn.ensemble import RandomForestClassifier\n",
        "from sklearn.model_selection import train_test_split\n",
        "\n",
        "# Load data and split into training and test sets\n",
        "X = df.drop(['training_sample','recidivism_within_3years','recidivism_arrest_year1','recidivism_arrest_year2','recidivism_arrest_year3'], axis=1)\n",
        "y = df['recidivism_within_3years']\n",
        "X_train, X_test, y_train, y_test = train_test_split(X, y, test_size=0.2)\n",
        "\n",
        "# Create and train the model\n",
        "model = RandomForestClassifier()\n",
        "model.fit(X_train, y_train)\n",
        "\n",
        "# Make predictions on the test set\n",
        "y_pred = model.predict(X_test)\n",
        "\n",
        "# Evaluate the model's performance\n",
        "accuracy = model.score(X_test, y_test)\n",
        "print(f'Test set accuracy: {accuracy:.2f}')"
      ],
      "metadata": {
        "colab": {
          "base_uri": "https://localhost:8080/"
        },
        "id": "MkDVYznWEEVm",
        "outputId": "3aeb0fcc-006c-4cea-c618-35b85d45d4ac"
      },
      "execution_count": 268,
      "outputs": [
        {
          "output_type": "stream",
          "name": "stdout",
          "text": [
            "Test set accuracy: 0.73\n"
          ]
        }
      ]
    },
    {
      "cell_type": "code",
      "source": [
        "import matplotlib.pyplot as plt\n",
        "from sklearn.metrics import roc_curve\n",
        "\n",
        "# Get the predicted probabilities for the positive class\n",
        "y_pred_proba = model.predict_proba(X_test)[:, 1]\n",
        "\n",
        "# Calculate the false positive rate and true positive rate\n",
        "fpr, tpr, thresholds = roc_curve(y_test, y_pred_proba)\n",
        "\n",
        "# Plot the ROC curve\n",
        "plt.plot(fpr, tpr)\n",
        "plt.xlabel('False Positive Rate')\n",
        "plt.ylabel('True Positive Rate')\n",
        "plt.title('ROC Curve')\n",
        "plt.show()"
      ],
      "metadata": {
        "colab": {
          "base_uri": "https://localhost:8080/",
          "height": 295
        },
        "id": "GQo7w7AHEQ5b",
        "outputId": "37cebd50-36fd-4181-c2dc-72e84bc9f1c2"
      },
      "execution_count": 269,
      "outputs": [
        {
          "output_type": "display_data",
          "data": {
            "text/plain": [
              "<Figure size 432x288 with 1 Axes>"
            ],
            "image/png": "[encoded data removed]"
          },
          "metadata": {
            "needs_background": "light"
          }
        }
      ]
    },
    {
      "cell_type": "markdown",
      "source": [
        "The closer the curve is to the top-left corner, the better the model"
      ],
      "metadata": {
        "id": "qThBF-HyEUs6"
      }
    },
    {
      "cell_type": "code",
      "source": [
        "from sklearn.metrics import classification_report\n",
        "\n",
        "# Generate the classification report\n",
        "report = classification_report(y_test, y_pred)\n",
        "print(report)"
      ],
      "metadata": {
        "colab": {
          "base_uri": "https://localhost:8080/"
        },
        "id": "nhoyX_vuERkg",
        "outputId": "68c9ec4c-2cf9-4cb7-ac42-44f280a42526"
      },
      "execution_count": 270,
      "outputs": [
        {
          "output_type": "stream",
          "name": "stdout",
          "text": [
            "              precision    recall  f1-score   support\n",
            "\n",
            "       False       0.72      0.58      0.64      2175\n",
            "        True       0.73      0.83      0.78      2992\n",
            "\n",
            "    accuracy                           0.73      5167\n",
            "   macro avg       0.72      0.71      0.71      5167\n",
            "weighted avg       0.72      0.73      0.72      5167\n",
            "\n"
          ]
        }
      ]
    }
  ]
}